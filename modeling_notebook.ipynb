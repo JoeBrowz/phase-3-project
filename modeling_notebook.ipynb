{
 "cells": [
  {
   "cell_type": "markdown",
   "metadata": {},
   "source": [
    "# Import packages"
   ]
  },
  {
   "cell_type": "code",
   "execution_count": 5,
   "metadata": {},
   "outputs": [],
   "source": [
    "#import basic python packages\n",
    "import requests\n",
    "import json\n",
    "import pandas as pd\n",
    "import numpy as np\n",
    "import seaborn as sns\n",
    "import matplotlib.pyplot as plt\n",
    "from datetime import date, timedelta\n",
    "import geopandas as gpd\n",
    "# import modeling packages\n",
    "from sklearn.linear_model import LogisticRegression\n",
    "from sklearn.pipeline import Pipeline \n",
    "from sklearn.impute import KNNImputer, SimpleImputer \n",
    "from sklearn.preprocessing import StandardScaler, label_binarize\n",
    "from sklearn.model_selection import train_test_split, GridSearchCV\n",
    "from sklearn.ensemble import RandomForestClassifier\n",
    "from sklearn.metrics import accuracy_score, f1_score, confusion_matrix, roc_auc_score, plot_confusion_matrix\n",
    "from xgboost import XGBClassifier\n",
    "from imblearn.over_sampling import SMOTE\n",
    "# import API package\n",
    "import covidcast\n",
    "# pandas view options\n",
    "pd.set_option('display.max_columns', 100)"
   ]
  },
  {
   "cell_type": "markdown",
   "metadata": {},
   "source": [
    "# Data Wrangling"
   ]
  },
  {
   "cell_type": "markdown",
   "metadata": {},
   "source": [
    "### API Call For Covid Survey Data on Mask Use"
   ]
  },
  {
   "cell_type": "code",
   "execution_count": 6,
   "metadata": {},
   "outputs": [],
   "source": [
    "# create variable to hold date object for two days ago\n",
    "two_days_ago = date.today() - timedelta(days=2)"
   ]
  },
  {
   "cell_type": "code",
   "execution_count": 7,
   "metadata": {},
   "outputs": [],
   "source": [
    "# get the most recent survey data\n",
    "mask_ind = covidcast.signal(\"fb-survey\", \"smoothed_wearing_mask\",\n",
    "                            date(2020, 10, 1), two_days_ago,\n",
    "                            \"county\")\n",
    "mask_oth = covidcast.signal('fb-survey', 'smoothed_others_masked', \n",
    "                            date(2020, 11, 24),two_days_ago, \n",
    "                            \"county\")"
   ]
  },
  {
   "cell_type": "code",
   "execution_count": 8,
   "metadata": {},
   "outputs": [],
   "source": [
    "# remove data that isn't at the county level\n",
    "mask_fip = mask_ind.loc[~mask_ind.geo_value.str.endswith('000')]\n",
    "mask_oth = mask_oth.loc[~mask_oth.geo_value.str.endswith('000')]"
   ]
  },
  {
   "cell_type": "code",
   "execution_count": 9,
   "metadata": {},
   "outputs": [
    {
     "name": "stdout",
     "output_type": "stream",
     "text": [
      "(677,)\n"
     ]
    },
    {
     "data": {
      "text/plain": [
       "(655,)"
      ]
     },
     "execution_count": 9,
     "metadata": {},
     "output_type": "execute_result"
    }
   ],
   "source": [
    "# check number of counties represented \n",
    "print(mask_fip.geo_value.value_counts().shape)\n",
    "mask_oth.geo_value.value_counts().shape"
   ]
  },
  {
   "cell_type": "code",
   "execution_count": 10,
   "metadata": {},
   "outputs": [],
   "source": [
    "# pare down datasets to just columns of interest\n",
    "mask_ind_means = pd.DataFrame(mask_fip.groupby(['geo_value'])['value'].mean()).reset_index()\n",
    "mask_ind_means.columns = ['FIPS', 'ind_mask']\n",
    "mask_ind_means['FIPS'] = mask_ind_means['FIPS'].astype(int)\n",
    "# repeat for other survey\n",
    "mask_oth_means = pd.DataFrame(mask_oth.groupby(['geo_value'])['value'].mean()).reset_index()\n",
    "mask_oth_means.columns = ['FIPS', 'oth_mask']\n",
    "mask_oth_means['FIPS'] = mask_oth_means['FIPS'].astype(int)"
   ]
  },
  {
   "cell_type": "code",
   "execution_count": 11,
   "metadata": {},
   "outputs": [],
   "source": [
    "# merge 'individual' and 'other' mask survey data\n",
    "mask_means = mask_ind_means.merge(mask_oth_means, on = 'FIPS', how = 'outer')"
   ]
  },
  {
   "cell_type": "markdown",
   "metadata": {},
   "source": [
    "### Import Kaggle Election Dataset "
   ]
  },
  {
   "cell_type": "code",
   "execution_count": 12,
   "metadata": {},
   "outputs": [],
   "source": [
    "election = pd.read_csv('data/county_statistics.csv', index_col=\"Unnamed: 0\")"
   ]
  },
  {
   "cell_type": "code",
   "execution_count": 13,
   "metadata": {},
   "outputs": [],
   "source": [
    "# remove unusable county rows\n",
    "election = election[election.county != 'Unassigned']\n",
    "# create single county, state column to in prep for eventual merge with API dataset\n",
    "election['county'] = election['county'] + ', ' + election['state']\n",
    "election.drop(['state'], axis=1, inplace=True)\n",
    "# select needed columns\n",
    "to_keep = ['county', 'total_votes16', 'total_votes20' , 'percentage20_Joe_Biden']\n",
    "merge_elec = election[to_keep]"
   ]
  },
  {
   "cell_type": "markdown",
   "metadata": {},
   "source": [
    "### Import Rural-Urban Contiuum dataset "
   ]
  },
  {
   "cell_type": "code",
   "execution_count": 14,
   "metadata": {},
   "outputs": [],
   "source": [
    "rural_urban = pd.read_excel('data/ru_code.xls')\n",
    "# select features\n",
    "fip_rur = rural_urban[['FIPS', 'RUCC_2013']]"
   ]
  },
  {
   "cell_type": "markdown",
   "metadata": {},
   "source": [
    "### Import Geopandas file with wider population data"
   ]
  },
  {
   "cell_type": "code",
   "execution_count": 15,
   "metadata": {},
   "outputs": [],
   "source": [
    "geo = gpd.read_file('https://opendata.arcgis.com/datasets/4cb598ae041348fb92270f102a6783cb_0.geojson')"
   ]
  },
  {
   "cell_type": "code",
   "execution_count": 16,
   "metadata": {},
   "outputs": [],
   "source": [
    "# remove unusable rows\n",
    "geo = geo[~geo.Countyname.str.contains(\"Out of\")]\n",
    "geo = geo[~geo.Countyname.str.contains(\"Unassigned\")]\n",
    "geo = geo[~geo.ST_Name.str.contains(\"Puerto Rico\")]\n",
    "geo.drop(geo.tail(7).index, inplace=True)\n",
    "# change datatype for compatibility with other datasets for merge\n",
    "geo['FIPS'] = geo.FIPS.astype('int64')"
   ]
  },
  {
   "cell_type": "code",
   "execution_count": 17,
   "metadata": {},
   "outputs": [],
   "source": [
    "# prelim feature engineering\n",
    "geo['Staf_Bed_Perc'] = geo['Beds_Staff'] / geo['Beds_Licen']\n",
    "geo['Aged_Perc'] = geo['AgedPop'] / geo['POP_ESTIMA']\n",
    "geo['Pov_Perc'] = geo['POVALL_201'] / geo['POP_ESTIMA']\n",
    "geo['beds_per_capita'] = geo['Beds_ICU'] / geo['POP_ESTIMA']\n",
    "geo['pop_density'] = geo['TotalPop'] / geo['Shape__Area']\n",
    "# match format of other datasets\n",
    "geo['county'] = geo['Countyname'] + ', ' + geo['ST_Abbr']\n",
    "# drop unneeded columns\n",
    "geo.drop(columns=['Day_1', 'Day_2', 'Day_3', 'Day_4', 'Day_5', \n",
    "                  'Day_6', 'Day_7', 'Day_8', 'Day_9', 'Day_10', \n",
    "                  'Day_11', 'Day_12', 'Day_13', 'Day_14', \n",
    "                  'OBJECTID', 'ST_ID', 'PCTPOVALL_', 'Med_HH_Inc', \n",
    "                  'State_Fata', 'DateChecke', 'url', 'Thumbnail', \n",
    "                  'State_Conf', 'State_Deat', 'State_Reco', 'State_Test', \n",
    "                  'POP_ESTIMA', 'BlackPop', 'AmIndop', 'PacIslPop', \n",
    "                  'OtherPop', 'TwoMorPop', 'HispPop', 'NonHisp', 'EM_notes', \n",
    "                  'Agetotal', 'AsianPop', 'Countyname', 'ST_Name',\n",
    "                  'Confirmed', 'Deaths', 'Unemployed', 'Beds_Licen', \n",
    "                  'Beds_Staff', 'Ventilator', 'Unemployed', 'Beds_ICU', 'AgedPop',\n",
    "                  'Wh_Alone', 'Bk_Alone', 'AI_Alone', 'As_Alone', 'NH_Alone', 'SO_Alone', \n",
    "                  'Two_More', 'Not_Hisp', 'Age_Over75', 'Recovered', 'Active'], \n",
    "            inplace=True)"
   ]
  },
  {
   "cell_type": "markdown",
   "metadata": {},
   "source": [
    "### Merge data sets"
   ]
  },
  {
   "cell_type": "code",
   "execution_count": 18,
   "metadata": {},
   "outputs": [],
   "source": [
    "geo = geo.merge(fip_rur, how = 'left', on = 'FIPS')\n",
    "merge1 = geo.merge(mask_means, how = 'left', on = 'FIPS')"
   ]
  },
  {
   "cell_type": "markdown",
   "metadata": {},
   "source": [
    "## Impute\n",
    "The following code block was an attempt to impute missing mask data for us to build a model for all counties. This proved ineffective and has been commented out."
   ]
  },
  {
   "cell_type": "code",
   "execution_count": 19,
   "metadata": {},
   "outputs": [],
   "source": [
    "# impute_df = merge1[['TotalPop', 'Median_Hou', 'RUCC_2013', 'ind_mask', 'oth_mask']]\n",
    "# impute_df['RUCC_2013'].astype(str)\n",
    "\n",
    "# scaler = StandardScaler()\n",
    "# impute_df = pd.DataFrame(scaler.fit_transform(impute_df), columns = impute_df.columns)\n",
    "\n",
    "# knn_imputer = KNNImputer(n_neighbors=4, weights = 'distance')\n",
    "\n",
    "# imputed = knn_imputer.fit_transform(impute_df)\n",
    "\n",
    "# mask_imputed = pd.DataFrame(imputed, columns = impute_df.columns)['ind_mask']\n",
    "\n",
    "# merge1['ind_mask'] = mask_imputed"
   ]
  },
  {
   "cell_type": "markdown",
   "metadata": {},
   "source": [
    "## Prepare merged datasets for modeling"
   ]
  },
  {
   "cell_type": "code",
   "execution_count": 20,
   "metadata": {},
   "outputs": [],
   "source": [
    "elec_geo_df = merge1.merge(merge_elec, on = 'county',how='left', sort=True)"
   ]
  },
  {
   "cell_type": "markdown",
   "metadata": {},
   "source": [
    " ### Reconfigure target feature to four categories:\n",
    " \n",
    " _0: **Far Right**, 1: **Lean Right**, 2: **Lean Left**, 3: **Far Left**_"
   ]
  },
  {
   "cell_type": "code",
   "execution_count": 21,
   "metadata": {},
   "outputs": [],
   "source": [
    "choices = [0,1,2,3]\n",
    "\n",
    "condition = [(elec_geo_df['percentage20_Joe_Biden']) <= .25, \n",
    "             (elec_geo_df['percentage20_Joe_Biden'] > .25) & (elec_geo_df['percentage20_Joe_Biden'] <= .50),\n",
    "             (elec_geo_df['percentage20_Joe_Biden'] > .50) & (elec_geo_df['percentage20_Joe_Biden'] <= .75),\n",
    "             (elec_geo_df['percentage20_Joe_Biden']) > .75]\n",
    "\n",
    "elec_geo_df['percentage20_Joe_Biden'] = np.select(condition, choices, elec_geo_df['percentage20_Joe_Biden'])"
   ]
  },
  {
   "cell_type": "markdown",
   "metadata": {},
   "source": [
    "### Final data prep before modeling"
   ]
  },
  {
   "cell_type": "code",
   "execution_count": 22,
   "metadata": {},
   "outputs": [],
   "source": [
    "# create subset of features for a baseline model\n",
    "base_feat = ['TotalPop', 'total_votes16','Median_Hou', 'Unemployme','NonHispWhP','RUCC_2013', \n",
    "             'Age_Less15', 'Age_15_24', 'Age_25_34', 'Age_35_64', 'Age_65_74',\n",
    "             'Age_85', 'Age_80_84', 'Age_75_79', 'Age_70_74', 'Age_65_69']\n",
    "# create subset that includes baseline features plus mask feautres\n",
    "features = base_feat + ['ind_mask', 'oth_mask']"
   ]
  },
  {
   "cell_type": "code",
   "execution_count": 23,
   "metadata": {},
   "outputs": [],
   "source": [
    "# drop rows with missing values for all features of interest\n",
    "elec_geo_df.dropna(subset=features + ['percentage20_Joe_Biden'], inplace=True)"
   ]
  },
  {
   "cell_type": "markdown",
   "metadata": {},
   "source": [
    "# Modeling Process\n",
    "_Here we will check to see if including data on mask compliance gives us increased modeling performance_"
   ]
  },
  {
   "cell_type": "code",
   "execution_count": 24,
   "metadata": {},
   "outputs": [],
   "source": [
    "# set target and predictor variables\n",
    "y = elec_geo_df['percentage20_Joe_Biden']\n",
    "# make two independent variable sets: a baseline dataset... \n",
    "X_base = elec_geo_df[base_feat]\n",
    "# and one with mask features\n",
    "X_mask = elec_geo_df[features]"
   ]
  },
  {
   "cell_type": "code",
   "execution_count": 25,
   "metadata": {},
   "outputs": [],
   "source": [
    "# train/test split data for baseline dataset and the dataset with mask features \n",
    "X_train_base, X_test_base, y_train_base, y_test_base = train_test_split(X_base, y, random_state = 46)\n",
    "# repeat with mask data\n",
    "X_train_mask, X_test_mask, y_train_mask, y_test_mask = train_test_split(X_mask, y, random_state = 46)"
   ]
  },
  {
   "cell_type": "code",
   "execution_count": 26,
   "metadata": {},
   "outputs": [],
   "source": [
    "# Scale Data\n",
    "base_scaler = StandardScaler()\n",
    "X_train_base = base_scaler.fit_transform(X_train_base)\n",
    "X_test_base = base_scaler.transform(X_test_base)\n",
    "# repeat with mask data\n",
    "mask_scaler = StandardScaler()\n",
    "X_train_mask = mask_scaler.fit_transform(X_train_mask)\n",
    "X_test_mask = mask_scaler.transform(X_test_mask)"
   ]
  },
  {
   "cell_type": "code",
   "execution_count": 27,
   "metadata": {},
   "outputs": [],
   "source": [
    "# use oversampling to help with class imablance for training data\n",
    "smote_base = SMOTE()\n",
    "X_train_base, y_train_base = smote_base.fit_sample(X_train_base, y_train_base)\n",
    "# oversample mask data\n",
    "smote_mask = SMOTE()\n",
    "X_train_mask, y_train_mask = smote_mask.fit_sample(X_train_mask, y_train_mask)"
   ]
  },
  {
   "cell_type": "code",
   "execution_count": 77,
   "metadata": {},
   "outputs": [],
   "source": [
    "# define function to evaluate the models\n",
    "def get_scores(model, X, y, name):\n",
    "    #get predictions\n",
    "    y_pred = model.predict(X)\n",
    "   \n",
    "    # ROC/AUC for multi-class \n",
    "    plot_confusion_matrix(model,X, y)\n",
    "    plt.title(name)\n",
    "    plt.show()\n",
    "    # binarized predictions    \n",
    "    y_bin = label_binarize(y, classes = [0,1,2,3])\n",
    "    roc = roc_auc_score(y_bin, model.predict_proba(X), multi_class='ovr', average='weighted')\n",
    "\n",
    "    # f1 and accuracy score metrics \n",
    "    f1 = f1_score(y, y_pred, average='weighted')\n",
    "    acc = accuracy_score(y, y_pred)\n",
    "    return print(f'F1 Score:       {round(f1, 3)} \\nAccuracy Score: {round(acc,3)} \\nROC AUC Score:  {round(roc,3)}')"
   ]
  },
  {
   "cell_type": "markdown",
   "metadata": {},
   "source": [
    "## Random Forest Classifier"
   ]
  },
  {
   "cell_type": "code",
   "execution_count": 29,
   "metadata": {},
   "outputs": [],
   "source": [
    "# instantiate models\n",
    "rfc_base = RandomForestClassifier(random_state=46)\n",
    "rfc_mask = RandomForestClassifier(random_state=46)"
   ]
  },
  {
   "cell_type": "code",
   "execution_count": 30,
   "metadata": {},
   "outputs": [],
   "source": [
    "# prepare gridsearch parameter grid\n",
    "grid = [{'max_depth': [4,5,6],\n",
    "        'min_samples_split': [2,5,10],\n",
    "        'criterion': ['entropy', 'gini'],\n",
    "        'min_samples_leaf': [1,3,5]}]"
   ]
  },
  {
   "cell_type": "code",
   "execution_count": 38,
   "metadata": {},
   "outputs": [],
   "source": [
    "# instantiate and fit gridsearch for baseline data\n",
    "gridsearch_base = GridSearchCV(estimator = rfc_base, param_grid=grid, scoring='accuracy', cv = 5)\n",
    "gridsearch_base.fit(X_train_base, y_train_base);"
   ]
  },
  {
   "cell_type": "code",
   "execution_count": 78,
   "metadata": {},
   "outputs": [
    {
     "data": {
      "image/png": "[encoded data removed]",
      "text/plain": [
       "<Figure size 432x288 with 2 Axes>"
      ]
     },
     "metadata": {
      "needs_background": "light"
     },
     "output_type": "display_data"
    },
    {
     "name": "stdout",
     "output_type": "stream",
     "text": [
      "F1 Score:       0.552 \n",
      "Accuracy Score: 0.497 \n",
      "ROC AUC Score:  0.733\n"
     ]
    }
   ],
   "source": [
    "# check performance\n",
    "get_scores(gridsearch_base, X_test_base, y_test_base, 'Random Forest Baseline')"
   ]
  },
  {
   "cell_type": "markdown",
   "metadata": {},
   "source": [
    "### Random Forest with Mask Features"
   ]
  },
  {
   "cell_type": "code",
   "execution_count": 40,
   "metadata": {},
   "outputs": [],
   "source": [
    "# Instantiate and gridsearch model for masked data\n",
    "gridsearch_mask = GridSearchCV(estimator = rfc_mask, param_grid=grid, scoring='accuracy', cv = 5)\n",
    "gridsearch_mask.fit(X_train_mask, y_train_mask);"
   ]
  },
  {
   "cell_type": "code",
   "execution_count": 79,
   "metadata": {},
   "outputs": [
    {
     "data": {
      "image/png": "[encoded data removed]",
      "text/plain": [
       "<Figure size 432x288 with 2 Axes>"
      ]
     },
     "metadata": {
      "needs_background": "light"
     },
     "output_type": "display_data"
    },
    {
     "name": "stdout",
     "output_type": "stream",
     "text": [
      "F1 Score:       0.692 \n",
      "Accuracy Score: 0.662 \n",
      "ROC AUC Score:  0.838\n"
     ]
    }
   ],
   "source": [
    "#check performance\n",
    "get_scores(gridsearch_mask, X_test_mask, y_test_mask, 'Random Forest w/ Mask')"
   ]
  },
  {
   "cell_type": "markdown",
   "metadata": {},
   "source": [
    "#### _Mask features was correlated with a difference of more than 9% for all three indicators_"
   ]
  },
  {
   "cell_type": "markdown",
   "metadata": {},
   "source": [
    "## XGBoost Classifier"
   ]
  },
  {
   "cell_type": "code",
   "execution_count": 35,
   "metadata": {},
   "outputs": [],
   "source": [
    "# instantiate models\n",
    "xgb_base = XGBClassifier(random_state=46)\n",
    "xgb_mask = XGBClassifier(random_state=46)"
   ]
  },
  {
   "cell_type": "code",
   "execution_count": 36,
   "metadata": {},
   "outputs": [],
   "source": [
    "# prepare gridsearch parameter grid\n",
    "param_grid = {\n",
    "    'learning_rate': [0.05, 0.1, 0.2],\n",
    "    'max_depth': [4, 5, 6, 10],\n",
    "    'min_child_weight': [1, 2, 5,7],\n",
    "    'subsample': [0.5, 0.7],\n",
    "    'n_estimators': [100],\n",
    "}"
   ]
  },
  {
   "cell_type": "code",
   "execution_count": 42,
   "metadata": {},
   "outputs": [],
   "source": [
    "# instantiate and fit gridsearch for baseline data\n",
    "grid_xg_base = GridSearchCV(estimator = xgb_base, param_grid=param_grid, scoring = 'accuracy', cv= 3)\n",
    "grid_xg_base.fit(X_train_base, y_train_base);"
   ]
  },
  {
   "cell_type": "code",
   "execution_count": 80,
   "metadata": {},
   "outputs": [
    {
     "data": {
      "image/png": "[encoded data removed]",
      "text/plain": [
       "<Figure size 432x288 with 2 Axes>"
      ]
     },
     "metadata": {
      "needs_background": "light"
     },
     "output_type": "display_data"
    },
    {
     "name": "stdout",
     "output_type": "stream",
     "text": [
      "F1 Score:       0.711 \n",
      "Accuracy Score: 0.682 \n",
      "ROC AUC Score:  0.801\n"
     ]
    }
   ],
   "source": [
    "# check performance\n",
    "get_scores(grid_xg_base, X_test_base, y_test_base, 'XGBoost Baseline')"
   ]
  },
  {
   "cell_type": "markdown",
   "metadata": {},
   "source": [
    "### XGBoost with Mask Features\n",
    "\n"
   ]
  },
  {
   "cell_type": "code",
   "execution_count": 44,
   "metadata": {},
   "outputs": [],
   "source": [
    "# instantiate and fit gridsearch for mask data\n",
    "grid_xg_mask = GridSearchCV(estimator = xgb_mask, param_grid=param_grid, scoring = 'accuracy', cv= 3)\n",
    "grid_xg_mask.fit(X_train_mask, y_train_mask);"
   ]
  },
  {
   "cell_type": "code",
   "execution_count": 81,
   "metadata": {},
   "outputs": [
    {
     "data": {
      "image/png": "[encoded data removed]",
      "text/plain": [
       "<Figure size 432x288 with 2 Axes>"
      ]
     },
     "metadata": {
      "needs_background": "light"
     },
     "output_type": "display_data"
    },
    {
     "name": "stdout",
     "output_type": "stream",
     "text": [
      "F1 Score:       0.781 \n",
      "Accuracy Score: 0.764 \n",
      "ROC AUC Score:  0.889\n"
     ]
    }
   ],
   "source": [
    "# check performance\n",
    "get_scores(grid_xg_mask, X_test_mask, y_test_mask, 'XGBoost w/ Mask')"
   ]
  },
  {
   "cell_type": "markdown",
   "metadata": {},
   "source": [
    "#### _Mask features was correlated with a difference of more than 6% for all three indicators_"
   ]
  },
  {
   "cell_type": "markdown",
   "metadata": {},
   "source": [
    "## Logistic Regression Classifier"
   ]
  },
  {
   "cell_type": "code",
   "execution_count": 46,
   "metadata": {},
   "outputs": [],
   "source": [
    "# instantiate models\n",
    "lr_base = LogisticRegression(random_state=46, solver = 'liblinear', C= 1e12)\n",
    "lr_mask = LogisticRegression(random_state=46, solver = 'liblinear', C= 1e12)"
   ]
  },
  {
   "cell_type": "code",
   "execution_count": 47,
   "metadata": {},
   "outputs": [],
   "source": [
    "# fit baseline data to model\n",
    "lr_base.fit(X_train_base, y_train_base);"
   ]
  },
  {
   "cell_type": "code",
   "execution_count": 82,
   "metadata": {},
   "outputs": [
    {
     "data": {
      "image/png": "[encoded data removed]",
      "text/plain": [
       "<Figure size 432x288 with 2 Axes>"
      ]
     },
     "metadata": {
      "needs_background": "light"
     },
     "output_type": "display_data"
    },
    {
     "name": "stdout",
     "output_type": "stream",
     "text": [
      "F1 Score:       0.599 \n",
      "Accuracy Score: 0.541 \n",
      "ROC AUC Score:  0.739\n"
     ]
    }
   ],
   "source": [
    "# check performance \n",
    "get_scores(lr_base, X_test_base, y_test_base, 'LogReg Baseline')"
   ]
  },
  {
   "cell_type": "markdown",
   "metadata": {},
   "source": [
    "### Logistic Regression with mask features"
   ]
  },
  {
   "cell_type": "code",
   "execution_count": 49,
   "metadata": {},
   "outputs": [],
   "source": [
    "# fit model\n",
    "lr_mask.fit(X_train_mask, y_train_mask);"
   ]
  },
  {
   "cell_type": "code",
   "execution_count": 83,
   "metadata": {},
   "outputs": [
    {
     "data": {
      "image/png": "[encoded data removed]",
      "text/plain": [
       "<Figure size 432x288 with 2 Axes>"
      ]
     },
     "metadata": {
      "needs_background": "light"
     },
     "output_type": "display_data"
    },
    {
     "name": "stdout",
     "output_type": "stream",
     "text": [
      "F1 Score:       0.716 \n",
      "Accuracy Score: 0.682 \n",
      "ROC AUC Score:  0.82\n"
     ]
    }
   ],
   "source": [
    "# check performance\n",
    "get_scores(lr_mask, X_test_mask, y_test_mask, 'LogReg w/ Mask')"
   ]
  },
  {
   "cell_type": "markdown",
   "metadata": {},
   "source": [
    "#### _Mask features was correlated with a difference of more than 9% for all three indicators_\n",
    "\n",
    "#### Show model coefficients for interpretability"
   ]
  },
  {
   "cell_type": "code",
   "execution_count": 87,
   "metadata": {
    "scrolled": true
   },
   "outputs": [
    {
     "data": {
      "text/html": [
       "<div>\n",
       "<style scoped>\n",
       "    .dataframe tbody tr th:only-of-type {\n",
       "        vertical-align: middle;\n",
       "    }\n",
       "\n",
       "    .dataframe tbody tr th {\n",
       "        vertical-align: top;\n",
       "    }\n",
       "\n",
       "    .dataframe thead th {\n",
       "        text-align: right;\n",
       "    }\n",
       "</style>\n",
       "<table border=\"1\" class=\"dataframe\">\n",
       "  <thead>\n",
       "    <tr style=\"text-align: right;\">\n",
       "      <th></th>\n",
       "      <th>TotalPop</th>\n",
       "      <th>total_votes16</th>\n",
       "      <th>Median_Hou</th>\n",
       "      <th>Unemployme</th>\n",
       "      <th>NonHispWhP</th>\n",
       "      <th>RUCC_2013</th>\n",
       "      <th>Age_Less15</th>\n",
       "      <th>Age_15_24</th>\n",
       "      <th>Age_25_34</th>\n",
       "      <th>Age_35_64</th>\n",
       "      <th>Age_65_74</th>\n",
       "      <th>Age_85</th>\n",
       "      <th>Age_80_84</th>\n",
       "      <th>Age_75_79</th>\n",
       "      <th>Age_70_74</th>\n",
       "      <th>Age_65_69</th>\n",
       "      <th>ind_mask</th>\n",
       "      <th>oth_mask</th>\n",
       "    </tr>\n",
       "  </thead>\n",
       "  <tbody>\n",
       "    <tr>\n",
       "      <th>Red County</th>\n",
       "      <td>6.403654</td>\n",
       "      <td>-33.472272</td>\n",
       "      <td>-0.746540</td>\n",
       "      <td>-1.059445</td>\n",
       "      <td>14.611780</td>\n",
       "      <td>-0.310448</td>\n",
       "      <td>11.235103</td>\n",
       "      <td>-22.039440</td>\n",
       "      <td>-20.776615</td>\n",
       "      <td>27.677399</td>\n",
       "      <td>-3.140200</td>\n",
       "      <td>-24.034059</td>\n",
       "      <td>31.756747</td>\n",
       "      <td>4.487726</td>\n",
       "      <td>15.874370</td>\n",
       "      <td>-40.411438</td>\n",
       "      <td>-0.141757</td>\n",
       "      <td>-1.626449</td>\n",
       "    </tr>\n",
       "    <tr>\n",
       "      <th>Lean Red</th>\n",
       "      <td>-1.073499</td>\n",
       "      <td>-1.234349</td>\n",
       "      <td>-0.337966</td>\n",
       "      <td>0.583218</td>\n",
       "      <td>4.782177</td>\n",
       "      <td>-0.098873</td>\n",
       "      <td>7.678749</td>\n",
       "      <td>-6.667187</td>\n",
       "      <td>-4.962609</td>\n",
       "      <td>0.948632</td>\n",
       "      <td>-11.741358</td>\n",
       "      <td>-6.314887</td>\n",
       "      <td>6.249051</td>\n",
       "      <td>9.500460</td>\n",
       "      <td>-4.700517</td>\n",
       "      <td>3.598121</td>\n",
       "      <td>-1.113177</td>\n",
       "      <td>1.474773</td>\n",
       "    </tr>\n",
       "    <tr>\n",
       "      <th>Lean Blue</th>\n",
       "      <td>-0.496210</td>\n",
       "      <td>0.210612</td>\n",
       "      <td>-0.506278</td>\n",
       "      <td>-0.476669</td>\n",
       "      <td>0.170433</td>\n",
       "      <td>0.116258</td>\n",
       "      <td>7.013946</td>\n",
       "      <td>3.345486</td>\n",
       "      <td>-6.595248</td>\n",
       "      <td>-1.329314</td>\n",
       "      <td>-5.207066</td>\n",
       "      <td>-3.581049</td>\n",
       "      <td>6.230356</td>\n",
       "      <td>1.772157</td>\n",
       "      <td>-1.969669</td>\n",
       "      <td>1.851364</td>\n",
       "      <td>-0.015230</td>\n",
       "      <td>1.549788</td>\n",
       "    </tr>\n",
       "    <tr>\n",
       "      <th>Blue County</th>\n",
       "      <td>-3.854785</td>\n",
       "      <td>15.287607</td>\n",
       "      <td>-0.814285</td>\n",
       "      <td>2.042252</td>\n",
       "      <td>-12.956654</td>\n",
       "      <td>-4.282669</td>\n",
       "      <td>-49.532692</td>\n",
       "      <td>-1.639935</td>\n",
       "      <td>10.159130</td>\n",
       "      <td>22.445244</td>\n",
       "      <td>-14.674812</td>\n",
       "      <td>21.712843</td>\n",
       "      <td>-41.674085</td>\n",
       "      <td>-19.812658</td>\n",
       "      <td>-6.297757</td>\n",
       "      <td>68.807526</td>\n",
       "      <td>15.513653</td>\n",
       "      <td>0.483327</td>\n",
       "    </tr>\n",
       "  </tbody>\n",
       "</table>\n",
       "</div>"
      ],
      "text/plain": [
       "             TotalPop  total_votes16  Median_Hou  Unemployme  NonHispWhP  \\\n",
       "Red County   6.403654     -33.472272   -0.746540   -1.059445   14.611780   \n",
       "Lean Red    -1.073499      -1.234349   -0.337966    0.583218    4.782177   \n",
       "Lean Blue   -0.496210       0.210612   -0.506278   -0.476669    0.170433   \n",
       "Blue County -3.854785      15.287607   -0.814285    2.042252  -12.956654   \n",
       "\n",
       "             RUCC_2013  Age_Less15  Age_15_24  Age_25_34  Age_35_64  \\\n",
       "Red County   -0.310448   11.235103 -22.039440 -20.776615  27.677399   \n",
       "Lean Red     -0.098873    7.678749  -6.667187  -4.962609   0.948632   \n",
       "Lean Blue     0.116258    7.013946   3.345486  -6.595248  -1.329314   \n",
       "Blue County  -4.282669  -49.532692  -1.639935  10.159130  22.445244   \n",
       "\n",
       "             Age_65_74     Age_85  Age_80_84  Age_75_79  Age_70_74  Age_65_69  \\\n",
       "Red County   -3.140200 -24.034059  31.756747   4.487726  15.874370 -40.411438   \n",
       "Lean Red    -11.741358  -6.314887   6.249051   9.500460  -4.700517   3.598121   \n",
       "Lean Blue    -5.207066  -3.581049   6.230356   1.772157  -1.969669   1.851364   \n",
       "Blue County -14.674812  21.712843 -41.674085 -19.812658  -6.297757  68.807526   \n",
       "\n",
       "              ind_mask  oth_mask  \n",
       "Red County   -0.141757 -1.626449  \n",
       "Lean Red     -1.113177  1.474773  \n",
       "Lean Blue    -0.015230  1.549788  \n",
       "Blue County  15.513653  0.483327  "
      ]
     },
     "execution_count": 87,
     "metadata": {},
     "output_type": "execute_result"
    }
   ],
   "source": [
    "pd.DataFrame(lr_mask.coef_, columns = X_mask.columns, index = ['Red County', 'Lean Red', 'Lean Blue', 'Blue County'])"
   ]
  },
  {
   "cell_type": "markdown",
   "metadata": {},
   "source": [
    "# Sources"
   ]
  },
  {
   "cell_type": "markdown",
   "metadata": {},
   "source": [
    "Data from Delphi COVIDcast. Obtained via the Delphi Epidata API. <br>\n",
    "https://cmu-delphi.github.io/delphi-epidata/api/covidcast.html\n",
    "\n",
    "Data from US Department of Agriculture <br>\n",
    "https://www.ers.usda.gov/data-products/rural-urban-continuum-codes/documentation/#referencedate\n",
    "\n",
    "Data from Kaggle<br>\n",
    "https://www.kaggle.com/etsc9287/2020-general-election-polls\n",
    "\n",
    "Data from ArcGIS:<br>\n",
    "https://opendata.arcgis.com/datasets/4cb598ae041348fb92270f102a6783cb_0.geojson\n"
   ]
  }
 ],
 "metadata": {
  "kernelspec": {
   "display_name": "Python [conda env:ds01] *",
   "language": "python",
   "name": "conda-env-ds01-py"
  },
  "language_info": {
   "codemirror_mode": {
    "name": "ipython",
    "version": 3
   },
   "file_extension": ".py",
   "mimetype": "text/x-python",
   "name": "python",
   "nbconvert_exporter": "python",
   "pygments_lexer": "ipython3",
   "version": "3.6.9"
  },
  "toc": {
   "base_numbering": 1,
   "nav_menu": {},
   "number_sections": false,
   "sideBar": true,
   "skip_h1_title": false,
   "title_cell": "Table of Contents",
   "title_sidebar": "Contents",
   "toc_cell": false,
   "toc_position": {},
   "toc_section_display": true,
   "toc_window_display": false
  }
 },
 "nbformat": 4,
 "nbformat_minor": 4
}
