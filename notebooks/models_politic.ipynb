{
 "metadata": {
  "language_info": {
   "codemirror_mode": {
    "name": "ipython",
    "version": 3
   },
   "file_extension": ".py",
   "mimetype": "text/x-python",
   "name": "python",
   "nbconvert_exporter": "python",
   "pygments_lexer": "ipython3",
   "version": "3.9.1-final"
  },
  "orig_nbformat": 2,
  "kernelspec": {
   "name": "python3",
   "display_name": "Python 3",
   "language": "python"
  }
 },
 "nbformat": 4,
 "nbformat_minor": 2,
 "cells": [
  {
   "cell_type": "code",
   "execution_count": 1,
   "metadata": {},
   "outputs": [],
   "source": [
    "# packages for data collection and cleaning\n",
    "import requests\n",
    "import json\n",
    "from io import StringIO\n",
    "from bs4 import BeautifulSoup as bs\n",
    "from datetime import date, timedelta\n",
    "import covidcast\n",
    "import numpy as np\n",
    "import pandas as pd\n",
    "pd.set_option('display.max_columns', 100)\n",
    "\n",
    "# packages for mapping\n",
    "import geopandas as gpd\n",
    "import seaborn as sns\n",
    "import matplotlib.pyplot as plt\n",
    "import matplotlib as mpl"
   ]
  },
  {
   "source": [
    "## NYT Mask Wearing Survey Data\n",
    "\n",
    "- This data comes from a large number of interviews conducted online by the firm Dynata, which asked the question to obtain 250,000 survey responses between July 2 and July 14, enough data to provide estimates more detailed than the state level. \n",
    "\n",
    "- This survey was conducted for a single run and there are no plans for a follow-up study. Specifically, each participant was asked the following question: \n",
    "\n",
    "<center><strong>How often do you wear a mask in public when you expect to be within six feet of another person?</strong></center>\n",
    "\n",
    "- Here are the definitions for the column headings:\n",
    "\n",
    "    - **COUNTYFP**: The county FIPS code.\n",
    "    - **NEVER**: The estimated share of people in this county who would say never in response to the question: “How often do you wear a mask in public when you expect to be within six feet of another person?”\n",
    "    - **RARELY**: The estimated share of people in this county who would say rarely\n",
    "    - **SOMETIMES**: The estimated share of people in this county who would say sometimes\n",
    "    - **FREQUENTLY**: The estimated share of people in this county who would say frequently\n",
    "    - **ALWAYS**: The estimated share of people in this county who would say always\n",
    "    \n",
    "\n",
    "- In their analysis, they assumed the following relationships to be true:  \n",
    "    - ALWAYS : 100%\n",
    "    - FREQUENTLY : 80%\n",
    "    - SOMETIMES : 50%\n",
    "    - RARELY : 20%\n",
    "    - NEVER : 0%\n",
    "\n"
   ],
   "cell_type": "markdown",
   "metadata": {}
  },
  {
   "cell_type": "code",
   "execution_count": 2,
   "metadata": {},
   "outputs": [],
   "source": [
    "# There was no API available here, just the file made available through their Github repo\n",
    "url = 'https://raw.githubusercontent.com/nytimes/covid-19-data/master/mask-use/mask-use-by-county.csv'\n",
    "s = requests.get(url).text\n",
    "nymask = pd.read_csv(StringIO(s))\n",
    "nymask.COUNTYFP = nymask.COUNTYFP.astype(str)\n",
    "nymask.COUNTYFP = np.where(nymask['COUNTYFP'].str.len() == 4, '0' + nymask.COUNTYFP, nymask.COUNTYFP)\n",
    "nymask.columns = ['FIPS', 'NEVER', 'RARELY', 'SOMETIMES', 'FREQUENTLY', 'ALWAYS']"
   ]
  },
  {
   "cell_type": "code",
   "execution_count": 3,
   "metadata": {},
   "outputs": [
    {
     "output_type": "execute_result",
     "data": {
      "text/plain": [
       "             NEVER       RARELY    SOMETIMES   FREQUENTLY       ALWAYS\n",
       "count  3142.000000  3142.000000  3142.000000  3142.000000  3142.000000\n",
       "mean      0.079940     0.082919     0.121318     0.207725     0.508094\n",
       "std       0.058538     0.055464     0.058011     0.063571     0.152191\n",
       "min       0.000000     0.000000     0.001000     0.029000     0.115000\n",
       "25%       0.034000     0.040000     0.079000     0.164000     0.393250\n",
       "50%       0.068000     0.073000     0.115000     0.204000     0.497000\n",
       "75%       0.113000     0.115000     0.156000     0.247000     0.613750\n",
       "max       0.432000     0.384000     0.422000     0.549000     0.889000"
      ],
      "text/html": "<div>\n<style scoped>\n    .dataframe tbody tr th:only-of-type {\n        vertical-align: middle;\n    }\n\n    .dataframe tbody tr th {\n        vertical-align: top;\n    }\n\n    .dataframe thead th {\n        text-align: right;\n    }\n</style>\n<table border=\"1\" class=\"dataframe\">\n  <thead>\n    <tr style=\"text-align: right;\">\n      <th></th>\n      <th>NEVER</th>\n      <th>RARELY</th>\n      <th>SOMETIMES</th>\n      <th>FREQUENTLY</th>\n      <th>ALWAYS</th>\n    </tr>\n  </thead>\n  <tbody>\n    <tr>\n      <th>count</th>\n      <td>3142.000000</td>\n      <td>3142.000000</td>\n      <td>3142.000000</td>\n      <td>3142.000000</td>\n      <td>3142.000000</td>\n    </tr>\n    <tr>\n      <th>mean</th>\n      <td>0.079940</td>\n      <td>0.082919</td>\n      <td>0.121318</td>\n      <td>0.207725</td>\n      <td>0.508094</td>\n    </tr>\n    <tr>\n      <th>std</th>\n      <td>0.058538</td>\n      <td>0.055464</td>\n      <td>0.058011</td>\n      <td>0.063571</td>\n      <td>0.152191</td>\n    </tr>\n    <tr>\n      <th>min</th>\n      <td>0.000000</td>\n      <td>0.000000</td>\n      <td>0.001000</td>\n      <td>0.029000</td>\n      <td>0.115000</td>\n    </tr>\n    <tr>\n      <th>25%</th>\n      <td>0.034000</td>\n      <td>0.040000</td>\n      <td>0.079000</td>\n      <td>0.164000</td>\n      <td>0.393250</td>\n    </tr>\n    <tr>\n      <th>50%</th>\n      <td>0.068000</td>\n      <td>0.073000</td>\n      <td>0.115000</td>\n      <td>0.204000</td>\n      <td>0.497000</td>\n    </tr>\n    <tr>\n      <th>75%</th>\n      <td>0.113000</td>\n      <td>0.115000</td>\n      <td>0.156000</td>\n      <td>0.247000</td>\n      <td>0.613750</td>\n    </tr>\n    <tr>\n      <th>max</th>\n      <td>0.432000</td>\n      <td>0.384000</td>\n      <td>0.422000</td>\n      <td>0.549000</td>\n      <td>0.889000</td>\n    </tr>\n  </tbody>\n</table>\n</div>"
     },
     "metadata": {},
     "execution_count": 3
    }
   ],
   "source": [
    "nymask.describe()"
   ]
  },
  {
   "source": [
    "<img src='images/fb_mask_data.png'>"
   ],
   "cell_type": "markdown",
   "metadata": {}
  },
  {
   "source": [
    "## Carnegie Mellon Mask Wearing Facebook Survey Data\n",
    "\n",
    "- In conjunction with Facebook and survey firm, the Carnegie Mellon study collected 1,220,000 valid responses from respondents across the US.\n",
    "\n",
    "- The survey involves questions about symptoms, mask wearing, testing, and the other important topics in relation to COVID-19 as described above, along with demographic details about the respondent. \n",
    "    - These demographics include age, gender, race, occupation, and education, allowing us to understand how different groups have been affected and which groups are currently most vulnerable to COVID-19. \n",
    "    \n",
    "- The two relevant questions in relation to face masks are the following:\n",
    "    1. In the past 5 days, did you wear a mask most or all of the time in public?\n",
    "    2. In the past 7 days, when you were in public places where social distancing is not possible, did most or all other people wear masks?\n",
    "\n",
    "- The four signals available for data collection through Covidcast are:\n",
    "    1. `**smoothed_wearing_mask**`\n",
    "    2. `**smoothed_others_masked**`\n",
    "    3. `**smoothed_wwearing_mask**`\n",
    "    4. `**smoothed_wothers_masked**`\n",
    "\n",
    "- The smoothed versions of all the `fb-survey` signals (with `smoothed_` prefix) are calculated using seven day pooling.\n",
    "- The weighting versions (with the `smoothed_w` prefix) adjust the data to be representative of the US population, adjusting both for:\n",
    "\n",
    "    1. the differences between the US population and US Facebook users (according to a state-by-age-gender stratification of the US population from the 2018 Census March Supplement)\n",
    "    2. the propensity of a Facebook user to take our survey in the first place\n",
    "    \n",
    "**Dashboard website:** https://delphi.cmu.edu/covidcast/?date=20210102&region=42003\n",
    "\n",
    "\n",
    "**First question link:** https://delphi.cmu.edu/covidcast/survey-results/?date=20210102®ion=42003#self-reported-mask-use\n",
    "\n",
    "\n",
    "**Second question link:** https://delphi.cmu.edu/covidcast/survey-results/?date=20210102&region=42003#other-people-wearing-masks\n",
    "\n",
    "\n",
    "- Data for the first question starts on the 8th of September, while data for the second question starts on the 25th of November."
   ],
   "cell_type": "markdown",
   "metadata": {}
  },
  {
   "cell_type": "code",
   "execution_count": 5,
   "metadata": {},
   "outputs": [],
   "source": [
    "# create variable to hold date object for two days ago\n",
    "two_days_ago = date.today() - timedelta(days=2)\n",
    "\n",
    "# get the most recent survey data\n",
    "mask_ind = covidcast.signal(\"fb-survey\", \"smoothed_wearing_mask\", date(2020, 9, 8), two_days_ago, \"county\")\n",
    "mask_oth = covidcast.signal('fb-survey', 'smoothed_others_masked', date(2020, 11, 24),two_days_ago, \"county\")"
   ]
  },
  {
   "cell_type": "code",
   "execution_count": null,
   "metadata": {},
   "outputs": [],
   "source": [
    "# remove data that isn't at the county level since they lumped data into **000 where responses were too few\n",
    "## FIPS code is state code + county code, 2 and 3 digit codes\n",
    "mask_ind = mask_ind.loc[~mask_ind.geo_value.str.endswith('000')]\n",
    "mask_oth = mask_oth.loc[~mask_oth.geo_value.str.endswith('000')]\n",
    "\n",
    "# check number of counties represented \n",
    "print(mask_ind.geo_value.value_counts().shape)\n",
    "print(mask_oth.geo_value.value_counts().shape)\n",
    "\n",
    "# change four digit FIPS code to all five digit FIPS code\n",
    "mask_ind.rename(columns = {'geo_value': 'FIPS'}, inplace=True)\n",
    "mask_oth.rename(columns = {'geo_value': 'FIPS'}, inplace=True)\n",
    "mask_ind.FIPS = mask_ind.FIPS.apply(lambda x: x.zfill(5))\n",
    "mask_oth.FIPS = mask_oth.FIPS.apply(lambda x: x.zfill(5))"
   ]
  },
  {
   "cell_type": "code",
   "execution_count": null,
   "metadata": {},
   "outputs": [],
   "source": [
    "# find means of values for each county to concatenate with NYT dataset\n",
    "mask_ind_means = pd.DataFrame(mask_ind.groupby(['FIPS'])['value'].mean()).reset_index()\n",
    "mask_ind_means.columns = ['FIPS', 'ind_mask']\n",
    "mask_oth_means = pd.DataFrame(mask_oth.groupby(['FIPS'])['value'].mean()).reset_index()\n",
    "mask_oth_means.columns = ['FIPS', 'oth_mask']\n",
    "\n",
    "# merge both datasets together\n",
    "mask_means = mask_ind_means.merge(mask_oth_means, on = 'FIPS', how = 'outer')"
   ]
  },
  {
   "source": [
    "<img src='images/delphi_dec.png'>\n",
    "\n",
    "<center>Data from Delphi COVIDcast. Obtained via the Delphi Epidata API. <a href>https://cmu-delphi.github.io/delphi-epidata/api/covidcast.html</a></center>"
   ],
   "cell_type": "markdown",
   "metadata": {}
  },
  {
   "cell_type": "code",
   "execution_count": null,
   "metadata": {},
   "outputs": [],
   "source": []
  }
 ]
}