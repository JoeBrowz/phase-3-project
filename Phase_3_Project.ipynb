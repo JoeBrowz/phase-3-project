{
 "cells": [
  {
   "source": [
    "# Importing Packages"
   ],
   "cell_type": "markdown",
   "metadata": {}
  },
  {
   "cell_type": "code",
   "execution_count": 78,
   "metadata": {},
   "outputs": [],
   "source": [
    "import requests\n",
    "import json\n",
    "from io import StringIO\n",
    "from bs4 import BeautifulSoup as bs\n",
    "from datetime import date, timedelta\n",
    "import covidcast\n",
    "\n",
    "import numpy as np\n",
    "import pandas as pd\n",
    "pd.set_option('display.max_rows', 500)\n",
    "pd.set_option('display.max_columns', 100)\n",
    "\n",
    "import geopandas as gpd\n",
    "import seaborn as sns\n",
    "import matplotlib.pyplot as plt\n",
    "import matplotlib as mpl\n",
    "\n",
    "import pickle\n",
    "\n",
    "from sklearn.pipeline import Pipeline \n",
    "from sklearn.impute import KNNImputer, SimpleImputer \n",
    "from sklearn.preprocessing import StandardScaler\n",
    "from sklearn.model_selection import train_test_split, GridSearchCV\n",
    "from sklearn.ensemble import RandomForestClassifier\n",
    "\n"
   ]
  },
  {
   "cell_type": "markdown",
   "metadata": {},
   "source": [
    "# Data Collection\n",
    "\n",
    "- Dataset was orignally constructed (webscraping/api calls) made and relevant to classification.  At least 1000 rows and at least 10 features."
   ]
  },
  {
   "source": [
    "# Exploratory Data Analysis\n",
    "\n",
    "- Student created at least 2 well-constructed visualizations, discussed descriptive statistics, and is able to interpret and compare or link them together to give a cohesive introduction to the data\n"
   ],
   "cell_type": "markdown",
   "metadata": {}
  },
  {
   "source": [
    "## Geopandas File for Mapping"
   ],
   "cell_type": "markdown",
   "metadata": {}
  },
  {
   "cell_type": "code",
   "execution_count": 33,
   "metadata": {},
   "outputs": [],
   "source": [
    "data = gpd.read_file('https://services9.arcgis.com/6Hv9AANartyT7fJW/arcgis/rest/services/USCounties_cases_V1/FeatureServer/0/query?where=1%3D1&outFields=Countyname,FIPS,Shape__Area,Shape__Length,ST_Name,ST_Abbr,ST_ID,OBJECTID&outSR=4326&f=json')"
   ]
  },
  {
   "cell_type": "markdown",
   "metadata": {},
   "source": [
    "## NYT Mask Wearing Survey Data\n",
    "\n",
    "- This data comes from a large number of interviews conducted online by the global data and survey firm Dynata at the request of The New York Times. \n",
    "- The firm asked a question about mask use to obtain 250,000 survey responses between July 2 and July 14, enough data to provide estimates more detailed than the state level. - (Several states have imposed new mask requirements since the completion of these interviews.)\n",
    "\n",
    "Specifically, each participant was asked: \n",
    "\n",
    "*How often do you wear a mask in public when you expect to be within six feet of another person?*\n",
    "\n",
    "This survey was conducted a single time, and at this point we have no plans to update the data or conduct the survey again.\n",
    "\n",
    "The fields have the following definitions:\n",
    "\n",
    "- **COUNTYFP**: The county FIPS code.\n",
    "- **NEVER**: The estimated share of people in this county who would say never in response to the question: “How often do you wear a mask in public when you expect to be within six feet of another person?”\n",
    "- **RARELY**: The estimated share of people in this county who would say rarely\n",
    "- **SOMETIMES**: The estimated share of people in this county who would say sometimes\n",
    "- **FREQUENTLY**: The estimated share of people in this county who would say frequently\n",
    "- **ALWAYS**: The estimated share of people in this county who would say always\n"
   ]
  },
  {
   "cell_type": "code",
   "execution_count": 35,
   "metadata": {},
   "outputs": [
    {
     "output_type": "execute_result",
     "data": {
      "text/plain": [
       "    FIPS  NEVER  RARELY  SOMETIMES  FREQUENTLY  ALWAYS\n",
       "0  01001  0.053   0.074      0.134       0.295   0.444\n",
       "1  01003  0.083   0.059      0.098       0.323   0.436\n",
       "2  01005  0.067   0.121      0.120       0.201   0.491\n",
       "3  01007  0.020   0.034      0.096       0.278   0.572\n",
       "4  01009  0.053   0.114      0.180       0.194   0.459"
      ],
      "text/html": "<div>\n<style scoped>\n    .dataframe tbody tr th:only-of-type {\n        vertical-align: middle;\n    }\n\n    .dataframe tbody tr th {\n        vertical-align: top;\n    }\n\n    .dataframe thead th {\n        text-align: right;\n    }\n</style>\n<table border=\"1\" class=\"dataframe\">\n  <thead>\n    <tr style=\"text-align: right;\">\n      <th></th>\n      <th>FIPS</th>\n      <th>NEVER</th>\n      <th>RARELY</th>\n      <th>SOMETIMES</th>\n      <th>FREQUENTLY</th>\n      <th>ALWAYS</th>\n    </tr>\n  </thead>\n  <tbody>\n    <tr>\n      <th>0</th>\n      <td>01001</td>\n      <td>0.053</td>\n      <td>0.074</td>\n      <td>0.134</td>\n      <td>0.295</td>\n      <td>0.444</td>\n    </tr>\n    <tr>\n      <th>1</th>\n      <td>01003</td>\n      <td>0.083</td>\n      <td>0.059</td>\n      <td>0.098</td>\n      <td>0.323</td>\n      <td>0.436</td>\n    </tr>\n    <tr>\n      <th>2</th>\n      <td>01005</td>\n      <td>0.067</td>\n      <td>0.121</td>\n      <td>0.120</td>\n      <td>0.201</td>\n      <td>0.491</td>\n    </tr>\n    <tr>\n      <th>3</th>\n      <td>01007</td>\n      <td>0.020</td>\n      <td>0.034</td>\n      <td>0.096</td>\n      <td>0.278</td>\n      <td>0.572</td>\n    </tr>\n    <tr>\n      <th>4</th>\n      <td>01009</td>\n      <td>0.053</td>\n      <td>0.114</td>\n      <td>0.180</td>\n      <td>0.194</td>\n      <td>0.459</td>\n    </tr>\n  </tbody>\n</table>\n</div>"
     },
     "metadata": {},
     "execution_count": 35
    }
   ],
   "source": [
    "url = 'https://raw.githubusercontent.com/nytimes/covid-19-data/master/mask-use/mask-use-by-county.csv'\n",
    "s = requests.get(url).text\n",
    "nymask = pd.read_csv(StringIO(s))\n",
    "nymask.COUNTYFP = nymask.COUNTYFP.astype(str)\n",
    "nymask.COUNTYFP = np.where(nymask['COUNTYFP'].str.len() == 4, '0' + nymask.COUNTYFP, nymask.COUNTYFP)\n",
    "nymask.columns = ['FIPS', 'NEVER', 'RARELY', 'SOMETIMES', 'FREQUENTLY', 'ALWAYS']\n",
    "nymask.head()"
   ]
  },
  {
   "cell_type": "code",
   "execution_count": null,
   "metadata": {},
   "outputs": [],
   "source": [
    "# fig, ax = plt.subplots(1, figsize=(20,20))\n",
    "# merged.plot(column='trump_pct', cmap='RdBu_r', linewidth=0.8, ax=ax, edgecolor='black')\n",
    "# # ax.axis('off')\n",
    "# # ax.set_title('Percentage By County for 2016 Election', fontsize=18)\n",
    "# # plt.savefig('images/election2016.png')"
   ]
  },
  {
   "source": [
    "<img src='images/fb_mask_data.png'>"
   ],
   "cell_type": "markdown",
   "metadata": {}
  },
  {
   "source": [
    "## Carnegie Mellon Mask Wearing Facebook Survey Data\n",
    "\n",
    "Between the new survey’s deployment on September 8, 2020, and October 7th, the study collected 1,220,000 valid responses from respondents across the United States. \n",
    "Each response includes questions about symptoms, mask wearing, testing, and the other important topics described above, along with demographic details about the respondent. These demographics include age, gender, race, occupation, and education, allowing us to understand how different groups have been affected and which groups are currently most vulnerable to COVID-19. \n",
    "\n",
    "- **smoothed_wearing_mask**\n",
    "  - Estimated percentage of people who wore a mask for most or all of the time while in public in the past 5 days; those not in public in the past 5 days are not counted.\t\n",
    "\n",
    "- **smoothed_others_masked**\n",
    "  - Estimated percentage of respondents who say that most or all other people wear masks, when they are in public and social distancing is not possible\n"
   ],
   "cell_type": "markdown",
   "metadata": {}
  },
  {
   "cell_type": "code",
   "execution_count": 6,
   "metadata": {},
   "outputs": [],
   "source": [
    "# create variable to hold date object for two days ago\n",
    "two_days_ago = date.today() - timedelta(days=2)"
   ]
  },
  {
   "cell_type": "code",
   "execution_count": 7,
   "metadata": {},
   "outputs": [],
   "source": [
    "# get the most recent survey data\n",
    "mask_ind = covidcast.signal(\"fb-survey\", \"smoothed_wearing_mask\",\n",
    "                            date(2020, 10, 1), two_days_ago,\n",
    "                            \"county\")\n",
    "mask_oth = covidcast.signal('fb-survey', 'smoothed_others_masked', \n",
    "                            date(2020, 11, 24),two_days_ago, \n",
    "                            \"county\")"
   ]
  },
  {
   "cell_type": "code",
   "execution_count": 8,
   "metadata": {},
   "outputs": [],
   "source": [
    "# remove data that isn't at the county level\n",
    "mask_fip = mask_ind.loc[~mask_ind.geo_value.str.endswith('000')]\n",
    "mask_oth = mask_oth.loc[~mask_oth.geo_value.str.endswith('000')]"
   ]
  },
  {
   "cell_type": "code",
   "execution_count": 38,
   "metadata": {},
   "outputs": [
    {
     "output_type": "execute_result",
     "data": {
      "text/plain": [
       "  geo_value                 signal time_value      issue  lag      value  \\\n",
       "1     01003  smoothed_wearing_mask 2020-10-01 2020-12-09   69  73.866307   \n",
       "2     01073  smoothed_wearing_mask 2020-10-01 2020-12-09   69  88.893937   \n",
       "3     01089  smoothed_wearing_mask 2020-10-01 2020-12-09   69  90.361381   \n",
       "4     01097  smoothed_wearing_mask 2020-10-01 2020-12-09   69  80.325870   \n",
       "5     01101  smoothed_wearing_mask 2020-10-01 2020-12-09   69  92.842875   \n",
       "\n",
       "     stderr  sample_size geo_type data_source  \n",
       "1  2.968477     219.0684   county   fb-survey  \n",
       "2  1.822515     297.2281   county   fb-survey  \n",
       "3  1.421118     431.2580   county   fb-survey  \n",
       "4  2.119979     351.6316   county   fb-survey  \n",
       "5  2.164874     141.7822   county   fb-survey  "
      ],
      "text/html": "<div>\n<style scoped>\n    .dataframe tbody tr th:only-of-type {\n        vertical-align: middle;\n    }\n\n    .dataframe tbody tr th {\n        vertical-align: top;\n    }\n\n    .dataframe thead th {\n        text-align: right;\n    }\n</style>\n<table border=\"1\" class=\"dataframe\">\n  <thead>\n    <tr style=\"text-align: right;\">\n      <th></th>\n      <th>geo_value</th>\n      <th>signal</th>\n      <th>time_value</th>\n      <th>issue</th>\n      <th>lag</th>\n      <th>value</th>\n      <th>stderr</th>\n      <th>sample_size</th>\n      <th>geo_type</th>\n      <th>data_source</th>\n    </tr>\n  </thead>\n  <tbody>\n    <tr>\n      <th>1</th>\n      <td>01003</td>\n      <td>smoothed_wearing_mask</td>\n      <td>2020-10-01</td>\n      <td>2020-12-09</td>\n      <td>69</td>\n      <td>73.866307</td>\n      <td>2.968477</td>\n      <td>219.0684</td>\n      <td>county</td>\n      <td>fb-survey</td>\n    </tr>\n    <tr>\n      <th>2</th>\n      <td>01073</td>\n      <td>smoothed_wearing_mask</td>\n      <td>2020-10-01</td>\n      <td>2020-12-09</td>\n      <td>69</td>\n      <td>88.893937</td>\n      <td>1.822515</td>\n      <td>297.2281</td>\n      <td>county</td>\n      <td>fb-survey</td>\n    </tr>\n    <tr>\n      <th>3</th>\n      <td>01089</td>\n      <td>smoothed_wearing_mask</td>\n      <td>2020-10-01</td>\n      <td>2020-12-09</td>\n      <td>69</td>\n      <td>90.361381</td>\n      <td>1.421118</td>\n      <td>431.2580</td>\n      <td>county</td>\n      <td>fb-survey</td>\n    </tr>\n    <tr>\n      <th>4</th>\n      <td>01097</td>\n      <td>smoothed_wearing_mask</td>\n      <td>2020-10-01</td>\n      <td>2020-12-09</td>\n      <td>69</td>\n      <td>80.325870</td>\n      <td>2.119979</td>\n      <td>351.6316</td>\n      <td>county</td>\n      <td>fb-survey</td>\n    </tr>\n    <tr>\n      <th>5</th>\n      <td>01101</td>\n      <td>smoothed_wearing_mask</td>\n      <td>2020-10-01</td>\n      <td>2020-12-09</td>\n      <td>69</td>\n      <td>92.842875</td>\n      <td>2.164874</td>\n      <td>141.7822</td>\n      <td>county</td>\n      <td>fb-survey</td>\n    </tr>\n  </tbody>\n</table>\n</div>"
     },
     "metadata": {},
     "execution_count": 38
    }
   ],
   "source": [
    "mask_fip.head()"
   ]
  },
  {
   "cell_type": "code",
   "execution_count": 13,
   "metadata": {},
   "outputs": [
    {
     "output_type": "execute_result",
     "data": {
      "text/plain": [
       "                lag         value        stderr   sample_size\n",
       "count  50264.000000  50264.000000  50264.000000  50264.000000\n",
       "mean      25.046654     90.907979      1.861972    329.766106\n",
       "std       22.055374      5.500603      0.864895    320.344010\n",
       "min        1.000000     51.314471      0.252205    100.000000\n",
       "25%        5.000000     88.127758      1.167788    143.917100\n",
       "50%       16.000000     92.236727      1.739585    219.888050\n",
       "75%       45.000000     94.972180      2.459793    399.257450\n",
       "max       69.000000     99.677919      4.965824   4677.966900"
      ],
      "text/html": "<div>\n<style scoped>\n    .dataframe tbody tr th:only-of-type {\n        vertical-align: middle;\n    }\n\n    .dataframe tbody tr th {\n        vertical-align: top;\n    }\n\n    .dataframe thead th {\n        text-align: right;\n    }\n</style>\n<table border=\"1\" class=\"dataframe\">\n  <thead>\n    <tr style=\"text-align: right;\">\n      <th></th>\n      <th>lag</th>\n      <th>value</th>\n      <th>stderr</th>\n      <th>sample_size</th>\n    </tr>\n  </thead>\n  <tbody>\n    <tr>\n      <th>count</th>\n      <td>50264.000000</td>\n      <td>50264.000000</td>\n      <td>50264.000000</td>\n      <td>50264.000000</td>\n    </tr>\n    <tr>\n      <th>mean</th>\n      <td>25.046654</td>\n      <td>90.907979</td>\n      <td>1.861972</td>\n      <td>329.766106</td>\n    </tr>\n    <tr>\n      <th>std</th>\n      <td>22.055374</td>\n      <td>5.500603</td>\n      <td>0.864895</td>\n      <td>320.344010</td>\n    </tr>\n    <tr>\n      <th>min</th>\n      <td>1.000000</td>\n      <td>51.314471</td>\n      <td>0.252205</td>\n      <td>100.000000</td>\n    </tr>\n    <tr>\n      <th>25%</th>\n      <td>5.000000</td>\n      <td>88.127758</td>\n      <td>1.167788</td>\n      <td>143.917100</td>\n    </tr>\n    <tr>\n      <th>50%</th>\n      <td>16.000000</td>\n      <td>92.236727</td>\n      <td>1.739585</td>\n      <td>219.888050</td>\n    </tr>\n    <tr>\n      <th>75%</th>\n      <td>45.000000</td>\n      <td>94.972180</td>\n      <td>2.459793</td>\n      <td>399.257450</td>\n    </tr>\n    <tr>\n      <th>max</th>\n      <td>69.000000</td>\n      <td>99.677919</td>\n      <td>4.965824</td>\n      <td>4677.966900</td>\n    </tr>\n  </tbody>\n</table>\n</div>"
     },
     "metadata": {},
     "execution_count": 13
    }
   ],
   "source": [
    "mask_fip.describe()"
   ]
  },
  {
   "cell_type": "code",
   "execution_count": 48,
   "metadata": {},
   "outputs": [],
   "source": [
    "df = pd.DataFrame(mask_fip.geo_value.unique())"
   ]
  },
  {
   "cell_type": "code",
   "execution_count": 54,
   "metadata": {},
   "outputs": [],
   "source": [
    "df2 = mask_fip.groupby('geo_value').sample_size.sum()"
   ]
  },
  {
   "cell_type": "code",
   "execution_count": 55,
   "metadata": {},
   "outputs": [],
   "source": [
    "df3 = mask_fip.groupby('geo_value').value.mean()"
   ]
  },
  {
   "cell_type": "code",
   "execution_count": 12,
   "metadata": {},
   "outputs": [
    {
     "output_type": "execute_result",
     "data": {
      "text/plain": [
       "   geo_value                  signal time_value      issue  lag      value  \\\n",
       "2      04013  smoothed_others_masked 2020-11-24 2020-12-09   15  82.923867   \n",
       "3      04019  smoothed_others_masked 2020-11-24 2020-12-09   15  84.678313   \n",
       "6      06037  smoothed_others_masked 2020-11-24 2020-12-09   15  87.485556   \n",
       "7      06059  smoothed_others_masked 2020-11-24 2020-12-09   15  81.656743   \n",
       "8      06065  smoothed_others_masked 2020-11-24 2020-12-09   15  87.018507   \n",
       "9      06071  smoothed_others_masked 2020-11-24 2020-12-09   15  89.023513   \n",
       "10     06073  smoothed_others_masked 2020-11-24 2020-12-09   15  86.891234   \n",
       "11     06085  smoothed_others_masked 2020-11-24 2020-12-09   15  93.406706   \n",
       "13     08041  smoothed_others_masked 2020-11-24 2020-12-09   15  83.909140   \n",
       "15     09001  smoothed_others_masked 2020-11-24 2020-12-09   15  94.998454   \n",
       "\n",
       "      stderr  sample_size geo_type data_source  \n",
       "2   2.051720     336.3820   county   fb-survey  \n",
       "3   2.964860     147.5946   county   fb-survey  \n",
       "6   1.684146     386.0008   county   fb-survey  \n",
       "7   3.294606     137.9944   county   fb-survey  \n",
       "8   2.681319     157.1228   county   fb-survey  \n",
       "9   3.062219     104.2067   county   fb-survey  \n",
       "10  2.643510     162.9956   county   fb-survey  \n",
       "11  2.336948     112.7671   county   fb-survey  \n",
       "13  3.441874     113.9721   county   fb-survey  \n",
       "15  2.088127     108.9700   county   fb-survey  "
      ],
      "text/html": "<div>\n<style scoped>\n    .dataframe tbody tr th:only-of-type {\n        vertical-align: middle;\n    }\n\n    .dataframe tbody tr th {\n        vertical-align: top;\n    }\n\n    .dataframe thead th {\n        text-align: right;\n    }\n</style>\n<table border=\"1\" class=\"dataframe\">\n  <thead>\n    <tr style=\"text-align: right;\">\n      <th></th>\n      <th>geo_value</th>\n      <th>signal</th>\n      <th>time_value</th>\n      <th>issue</th>\n      <th>lag</th>\n      <th>value</th>\n      <th>stderr</th>\n      <th>sample_size</th>\n      <th>geo_type</th>\n      <th>data_source</th>\n    </tr>\n  </thead>\n  <tbody>\n    <tr>\n      <th>2</th>\n      <td>04013</td>\n      <td>smoothed_others_masked</td>\n      <td>2020-11-24</td>\n      <td>2020-12-09</td>\n      <td>15</td>\n      <td>82.923867</td>\n      <td>2.051720</td>\n      <td>336.3820</td>\n      <td>county</td>\n      <td>fb-survey</td>\n    </tr>\n    <tr>\n      <th>3</th>\n      <td>04019</td>\n      <td>smoothed_others_masked</td>\n      <td>2020-11-24</td>\n      <td>2020-12-09</td>\n      <td>15</td>\n      <td>84.678313</td>\n      <td>2.964860</td>\n      <td>147.5946</td>\n      <td>county</td>\n      <td>fb-survey</td>\n    </tr>\n    <tr>\n      <th>6</th>\n      <td>06037</td>\n      <td>smoothed_others_masked</td>\n      <td>2020-11-24</td>\n      <td>2020-12-09</td>\n      <td>15</td>\n      <td>87.485556</td>\n      <td>1.684146</td>\n      <td>386.0008</td>\n      <td>county</td>\n      <td>fb-survey</td>\n    </tr>\n    <tr>\n      <th>7</th>\n      <td>06059</td>\n      <td>smoothed_others_masked</td>\n      <td>2020-11-24</td>\n      <td>2020-12-09</td>\n      <td>15</td>\n      <td>81.656743</td>\n      <td>3.294606</td>\n      <td>137.9944</td>\n      <td>county</td>\n      <td>fb-survey</td>\n    </tr>\n    <tr>\n      <th>8</th>\n      <td>06065</td>\n      <td>smoothed_others_masked</td>\n      <td>2020-11-24</td>\n      <td>2020-12-09</td>\n      <td>15</td>\n      <td>87.018507</td>\n      <td>2.681319</td>\n      <td>157.1228</td>\n      <td>county</td>\n      <td>fb-survey</td>\n    </tr>\n    <tr>\n      <th>9</th>\n      <td>06071</td>\n      <td>smoothed_others_masked</td>\n      <td>2020-11-24</td>\n      <td>2020-12-09</td>\n      <td>15</td>\n      <td>89.023513</td>\n      <td>3.062219</td>\n      <td>104.2067</td>\n      <td>county</td>\n      <td>fb-survey</td>\n    </tr>\n    <tr>\n      <th>10</th>\n      <td>06073</td>\n      <td>smoothed_others_masked</td>\n      <td>2020-11-24</td>\n      <td>2020-12-09</td>\n      <td>15</td>\n      <td>86.891234</td>\n      <td>2.643510</td>\n      <td>162.9956</td>\n      <td>county</td>\n      <td>fb-survey</td>\n    </tr>\n    <tr>\n      <th>11</th>\n      <td>06085</td>\n      <td>smoothed_others_masked</td>\n      <td>2020-11-24</td>\n      <td>2020-12-09</td>\n      <td>15</td>\n      <td>93.406706</td>\n      <td>2.336948</td>\n      <td>112.7671</td>\n      <td>county</td>\n      <td>fb-survey</td>\n    </tr>\n    <tr>\n      <th>13</th>\n      <td>08041</td>\n      <td>smoothed_others_masked</td>\n      <td>2020-11-24</td>\n      <td>2020-12-09</td>\n      <td>15</td>\n      <td>83.909140</td>\n      <td>3.441874</td>\n      <td>113.9721</td>\n      <td>county</td>\n      <td>fb-survey</td>\n    </tr>\n    <tr>\n      <th>15</th>\n      <td>09001</td>\n      <td>smoothed_others_masked</td>\n      <td>2020-11-24</td>\n      <td>2020-12-09</td>\n      <td>15</td>\n      <td>94.998454</td>\n      <td>2.088127</td>\n      <td>108.9700</td>\n      <td>county</td>\n      <td>fb-survey</td>\n    </tr>\n  </tbody>\n</table>\n</div>"
     },
     "metadata": {},
     "execution_count": 12
    }
   ],
   "source": [
    "mask_oth.head(10)"
   ]
  },
  {
   "source": [
    "mask_oth.describe()"
   ],
   "cell_type": "code",
   "metadata": {},
   "execution_count": 14,
   "outputs": [
    {
     "output_type": "execute_result",
     "data": {
      "text/plain": [
       "                lag         value        stderr   sample_size\n",
       "count  22410.000000  22410.000000  22410.000000  22410.000000\n",
       "mean       5.438108     82.779259      2.363568    334.298024\n",
       "std        2.108070     11.656619      1.046377    330.008157\n",
       "min        1.000000     24.554959      0.418443    100.000000\n",
       "25%        5.000000     77.526024      1.509990    144.444525\n",
       "50%        5.000000     86.256870      2.209437    218.304050\n",
       "75%        5.000000     91.439472      3.178061    400.507175\n",
       "max       15.000000     98.750000      4.992825   4374.027800"
      ],
      "text/html": "<div>\n<style scoped>\n    .dataframe tbody tr th:only-of-type {\n        vertical-align: middle;\n    }\n\n    .dataframe tbody tr th {\n        vertical-align: top;\n    }\n\n    .dataframe thead th {\n        text-align: right;\n    }\n</style>\n<table border=\"1\" class=\"dataframe\">\n  <thead>\n    <tr style=\"text-align: right;\">\n      <th></th>\n      <th>lag</th>\n      <th>value</th>\n      <th>stderr</th>\n      <th>sample_size</th>\n    </tr>\n  </thead>\n  <tbody>\n    <tr>\n      <th>count</th>\n      <td>22410.000000</td>\n      <td>22410.000000</td>\n      <td>22410.000000</td>\n      <td>22410.000000</td>\n    </tr>\n    <tr>\n      <th>mean</th>\n      <td>5.438108</td>\n      <td>82.779259</td>\n      <td>2.363568</td>\n      <td>334.298024</td>\n    </tr>\n    <tr>\n      <th>std</th>\n      <td>2.108070</td>\n      <td>11.656619</td>\n      <td>1.046377</td>\n      <td>330.008157</td>\n    </tr>\n    <tr>\n      <th>min</th>\n      <td>1.000000</td>\n      <td>24.554959</td>\n      <td>0.418443</td>\n      <td>100.000000</td>\n    </tr>\n    <tr>\n      <th>25%</th>\n      <td>5.000000</td>\n      <td>77.526024</td>\n      <td>1.509990</td>\n      <td>144.444525</td>\n    </tr>\n    <tr>\n      <th>50%</th>\n      <td>5.000000</td>\n      <td>86.256870</td>\n      <td>2.209437</td>\n      <td>218.304050</td>\n    </tr>\n    <tr>\n      <th>75%</th>\n      <td>5.000000</td>\n      <td>91.439472</td>\n      <td>3.178061</td>\n      <td>400.507175</td>\n    </tr>\n    <tr>\n      <th>max</th>\n      <td>15.000000</td>\n      <td>98.750000</td>\n      <td>4.992825</td>\n      <td>4374.027800</td>\n    </tr>\n  </tbody>\n</table>\n</div>"
     },
     "metadata": {},
     "execution_count": 14
    }
   ]
  },
  {
   "cell_type": "code",
   "execution_count": 9,
   "metadata": {},
   "outputs": [
    {
     "output_type": "stream",
     "name": "stdout",
     "text": [
      "(726,)\n(677,)\n"
     ]
    },
    {
     "output_type": "execute_result",
     "data": {
      "text/plain": [
       "(655,)"
      ]
     },
     "metadata": {},
     "execution_count": 9
    }
   ],
   "source": [
    "# check number of counties represented \n",
    "print(mask_ind.geo_value.value_counts().shape)\n",
    "print(mask_fip.geo_value.value_counts().shape)\n",
    "mask_oth.geo_value.value_counts().shape"
   ]
  },
  {
   "cell_type": "code",
   "execution_count": 10,
   "metadata": {},
   "outputs": [],
   "source": [
    "# pare down datasets to just columns of interest\n",
    "mask_ind_means = pd.DataFrame(mask_fip.groupby(['geo_value'])['value'].mean()).reset_index()\n",
    "mask_ind_means.columns = ['FIPS', 'ind_mask']\n",
    "mask_ind_means['FIPS'] = mask_ind_means['FIPS'].astype(int)\n",
    "# repeat for other survey\n",
    "mask_oth_means = pd.DataFrame(mask_oth.groupby(['geo_value'])['value'].mean()).reset_index()\n",
    "mask_oth_means.columns = ['FIPS', 'oth_mask']\n",
    "mask_oth_means['FIPS'] = mask_oth_means['FIPS'].astype(int)"
   ]
  },
  {
   "source": [
    "<img src='images/delphi_dec.png'>"
   ],
   "cell_type": "markdown",
   "metadata": {}
  },
  {
   "cell_type": "code",
   "execution_count": 44,
   "metadata": {},
   "outputs": [
    {
     "output_type": "execute_result",
     "data": {
      "text/plain": [
       "   FIPS   ind_mask\n",
       "0  1003  79.671626\n",
       "1  1051  88.291970\n",
       "2  1069  85.591414\n",
       "3  1073  91.454122\n",
       "4  1081  89.816314"
      ],
      "text/html": "<div>\n<style scoped>\n    .dataframe tbody tr th:only-of-type {\n        vertical-align: middle;\n    }\n\n    .dataframe tbody tr th {\n        vertical-align: top;\n    }\n\n    .dataframe thead th {\n        text-align: right;\n    }\n</style>\n<table border=\"1\" class=\"dataframe\">\n  <thead>\n    <tr style=\"text-align: right;\">\n      <th></th>\n      <th>FIPS</th>\n      <th>ind_mask</th>\n    </tr>\n  </thead>\n  <tbody>\n    <tr>\n      <th>0</th>\n      <td>1003</td>\n      <td>79.671626</td>\n    </tr>\n    <tr>\n      <th>1</th>\n      <td>1051</td>\n      <td>88.291970</td>\n    </tr>\n    <tr>\n      <th>2</th>\n      <td>1069</td>\n      <td>85.591414</td>\n    </tr>\n    <tr>\n      <th>3</th>\n      <td>1073</td>\n      <td>91.454122</td>\n    </tr>\n    <tr>\n      <th>4</th>\n      <td>1081</td>\n      <td>89.816314</td>\n    </tr>\n  </tbody>\n</table>\n</div>"
     },
     "metadata": {},
     "execution_count": 44
    }
   ],
   "source": [
    "mask_ind_means.head()"
   ]
  },
  {
   "source": [
    "## Johns Hopkins COVID Data Geopandas\n",
    "\n",
    "This feature layer contains the most up-to-date COVID-19 cases for the US. Data is pulled from the Coronavirus COVID-19 Global Cases by the Center for Systems Science and Engineering (CSSE) at Johns Hopkins University, the Red Cross, the Census American Community Survey, and the Bureau of Labor and Statistics, and aggregated at the US county level. \n",
    "\n",
    "This web map created and maintained by the Centers for Civic Impact at the Johns Hopkins University, and is supported by the Esri Living Atlas team and JHU Data Services. It is used in the COVID-19 United States Cases by County dashboard. \n",
    "\n",
    " For more information on Johns Hopkins University’s response to COVID-19, visit the Johns Hopkins Coronavirus Resource Center where our experts help to advance understanding of the virus, inform the public, and brief policymakers in order to guide a response, improve care, and save lives.\n"
   ],
   "cell_type": "markdown",
   "metadata": {}
  },
  {
   "cell_type": "code",
   "execution_count": 74,
   "metadata": {},
   "outputs": [
    {
     "output_type": "stream",
     "name": "stdout",
     "text": [
      "(3331, 88)\n"
     ]
    },
    {
     "output_type": "execute_result",
     "data": {
      "text/plain": [
       "   OBJECTID Countyname  ST_Name ST_Abbr ST_ID   FIPS  FatalityRa  Confirmedb  \\\n",
       "0         1    Autauga  Alabama      AL    01  01001    1.076426     8354.17   \n",
       "1         2    Baldwin  Alabama      AL    01  01003    1.166758     6722.26   \n",
       "2         3    Barbour  Alabama      AL    01  01005    2.191609     6418.55   \n",
       "3         4       Bibb  Alabama      AL    01  01007    2.469136     8678.57   \n",
       "4         5     Blount  Alabama      AL    01  01009    1.367905     8468.19   \n",
       "\n",
       "   DeathsbyPo  PCTPOVALL_  Unemployme  Med_HH_Inc  State_Fata  \\\n",
       "0   89.926440        13.8         3.6    118.9591    1.299898   \n",
       "1   78.432452         9.8         3.6    115.4508    1.299898   \n",
       "2  140.669587        30.9         5.2     68.9280    1.299898   \n",
       "3  214.285714        21.8         4.0     92.3478    1.299898   \n",
       "4  115.836791        13.2         3.5    101.0645    1.299898   \n",
       "\n",
       "            DateChecke                            EM_type  \\\n",
       "0  01/07/2021 11:30:49  Govt Ordered Community Quarantine   \n",
       "1  01/07/2021 11:30:49  Govt Ordered Community Quarantine   \n",
       "2  01/07/2021 11:30:49  Govt Ordered Community Quarantine   \n",
       "3  01/07/2021 11:30:49  Govt Ordered Community Quarantine   \n",
       "4  01/07/2021 11:30:49  Govt Ordered Community Quarantine   \n",
       "\n",
       "                EM_date                                      EM_notes  \\\n",
       "0  4/3/2020 10:40:51 PM  AL Governor issued a Shelter In Place order.   \n",
       "1  4/3/2020 10:41:19 PM  AL Governor issued a Shelter In Place order.   \n",
       "2  4/3/2020 10:43:21 PM  AL Governor issued a Shelter In Place order.   \n",
       "3  4/3/2020 10:40:51 PM  AL Governor issued a Shelter In Place order.   \n",
       "4  4/3/2020 10:40:51 PM  AL Governor issued a Shelter In Place order.   \n",
       "\n",
       "                                                 url  \\\n",
       "0  https://bao.arcgis.com/covid-19/jhu/county/010...   \n",
       "1  https://bao.arcgis.com/covid-19/jhu/county/010...   \n",
       "2  https://bao.arcgis.com/covid-19/jhu/county/010...   \n",
       "3  https://bao.arcgis.com/covid-19/jhu/county/010...   \n",
       "4  https://bao.arcgis.com/covid-19/jhu/county/010...   \n",
       "\n",
       "                                           Thumbnail  Confirmed  Deaths  \\\n",
       "0  https://coronavirus.jhu.edu/static/media/dashb...       4645      50   \n",
       "1  https://coronavirus.jhu.edu/static/media/dashb...      14656     171   \n",
       "2  https://coronavirus.jhu.edu/static/media/dashb...       1597      35   \n",
       "3  https://coronavirus.jhu.edu/static/media/dashb...       1944      48   \n",
       "4  https://coronavirus.jhu.edu/static/media/dashb...       4898      67   \n",
       "\n",
       "   Age_85  Age_80_84  Age_75_79  Age_70_74  Age_65_69  Beds_Licen  Beds_Staff  \\\n",
       "0     815       1026       1498       2440       2271          85          55   \n",
       "1    3949       4792       7373      11410      13141         386         362   \n",
       "2     422        551        841       1305       1515          74          30   \n",
       "3     427        488        624        842       1280          35          25   \n",
       "4     866       1459       1776       2802       3330          25          25   \n",
       "\n",
       "   Beds_ICU  Ventilator  POP_ESTIMA  POVALL_201  Unemployed  Median_Hou  \\\n",
       "0         6           2       55601        7587         942       59338   \n",
       "1        51           8      218022       21069        3393       57588   \n",
       "2         5           2       24881        6788         433       34382   \n",
       "3         4           1       22400        4400         344       46064   \n",
       "4         6           2       57840        7527         878       50412   \n",
       "\n",
       "   Recovered  Active  State_Conf  State_Deat  State_Reco  State_Test  AgedPop  \\\n",
       "0          0       0      384184        4994           0     1997125     8050   \n",
       "1          0       0      384184        4994           0     1997125    40665   \n",
       "2          0       0      384184        4994           0     1997125     4634   \n",
       "3          0       0      384184        4994           0     1997125     3661   \n",
       "4          0       0      384184        4994           0     1997125    10233   \n",
       "\n",
       "   NewCases  NewDeaths  TotalPop  NonHispWhP  BlackPop  AmIndop  AsianPop  \\\n",
       "0        99          0     55200       41412     10475      159       568   \n",
       "1       216          2    208107      172768     19529     1398      1668   \n",
       "2        22          2     25782       11898     12199       63        85   \n",
       "3        21          2     22527       16801      4974        8        37   \n",
       "4        49          4     57645       50232       820      124       198   \n",
       "\n",
       "   PacIslPop  OtherPop  TwoMorPop  HispPop  Wh_Alone  Bk_Alone  AI_Alone  \\\n",
       "0          5        41       1012     1528     42437     10565       159   \n",
       "1          9       410       2972     9353    179526     19764      1522   \n",
       "2          1        86        344     1106     12216     12266        72   \n",
       "3          0         0        160      547     17268      5018         8   \n",
       "4         18       174        818     5261     55054       862       141   \n",
       "\n",
       "   As_Alone  NH_Alone  SO_Alone  Two_More  Not_Hisp  Age_Less15  Age_15_24  \\\n",
       "0       568        32       409      1030     53672       10842       7192   \n",
       "1      1680         9      2034      3572    198754       37621      23497   \n",
       "2        96         1       778       353     24676        4517       3092   \n",
       "3        37         0         9       187     21980        3742       3005   \n",
       "4       198        18       437       935     52384       11112       6906   \n",
       "\n",
       "   Age_25_34  Age_Over75  Agetotal  NonHisp  Age_35_64  Age_65_74  Day_1  \\\n",
       "0       7064        3339     55200     1528      22052       4711   99.0   \n",
       "1      23326       16114    208107     9353      82998      24551  216.0   \n",
       "2       3675        1814     25782     1106       9864       2820   22.0   \n",
       "3       3075        1539     22527      547       9044       2122   21.0   \n",
       "4       6786        4101     57645     5261      22608       6132   49.0   \n",
       "\n",
       "   Day_2  Day_3  Day_4  Day_5  Day_6  Day_7  Day_8  Day_9  Day_10  Day_11  \\\n",
       "0  210.0   31.0   37.0   29.0   49.0   26.0   59.0   40.0    36.0    30.0   \n",
       "1  253.0  123.0  109.0  132.0  222.0  209.0  220.0  210.0   137.0   117.0   \n",
       "2   42.0    3.0    2.0   11.0    3.0   22.0   30.0   45.0    11.0     8.0   \n",
       "3   38.0    3.0   19.0    9.0   20.0   17.0   25.0   30.0    16.0     7.0   \n",
       "4   78.0   25.0   17.0   36.0   52.0   57.0   49.0   52.0    18.0    19.0   \n",
       "\n",
       "   Day_12  Day_13  Day_14  NewCasebyP  Inpat_Occ     ICU_Occ   Shape__Area  \\\n",
       "0     9.0    48.0    53.0  178.054352  96.320346  100.000000  2.209382e+09   \n",
       "1    42.0   145.0   200.0   99.072571  74.029401  120.089286  5.770469e+09   \n",
       "2     2.0     6.0     7.0   88.420883  56.711409   88.571429  3.258643e+09   \n",
       "3    14.0    14.0    28.0   93.750000  19.047619         NaN  2.310715e+09   \n",
       "4     5.0    36.0    38.0   84.716459  76.190476   92.857143  2.456058e+09   \n",
       "\n",
       "   Shape__Length                                           geometry  \n",
       "0  246839.865479  POLYGON ((-86.41312 32.70739, -86.41219 32.526...  \n",
       "1  728445.072448  MULTIPOLYGON (((-87.78878 31.29877, -87.78849 ...  \n",
       "2  307285.154510  POLYGON ((-85.25609 32.13767, -85.25569 32.135...  \n",
       "3  227886.963840  POLYGON ((-87.02685 33.24646, -87.02572 33.209...  \n",
       "4  286306.840721  POLYGON ((-86.44507 34.24954, -86.40902 34.205...  "
      ],
      "text/html": "<div>\n<style scoped>\n    .dataframe tbody tr th:only-of-type {\n        vertical-align: middle;\n    }\n\n    .dataframe tbody tr th {\n        vertical-align: top;\n    }\n\n    .dataframe thead th {\n        text-align: right;\n    }\n</style>\n<table border=\"1\" class=\"dataframe\">\n  <thead>\n    <tr style=\"text-align: right;\">\n      <th></th>\n      <th>OBJECTID</th>\n      <th>Countyname</th>\n      <th>ST_Name</th>\n      <th>ST_Abbr</th>\n      <th>ST_ID</th>\n      <th>FIPS</th>\n      <th>FatalityRa</th>\n      <th>Confirmedb</th>\n      <th>DeathsbyPo</th>\n      <th>PCTPOVALL_</th>\n      <th>Unemployme</th>\n      <th>Med_HH_Inc</th>\n      <th>State_Fata</th>\n      <th>DateChecke</th>\n      <th>EM_type</th>\n      <th>EM_date</th>\n      <th>EM_notes</th>\n      <th>url</th>\n      <th>Thumbnail</th>\n      <th>Confirmed</th>\n      <th>Deaths</th>\n      <th>Age_85</th>\n      <th>Age_80_84</th>\n      <th>Age_75_79</th>\n      <th>Age_70_74</th>\n      <th>Age_65_69</th>\n      <th>Beds_Licen</th>\n      <th>Beds_Staff</th>\n      <th>Beds_ICU</th>\n      <th>Ventilator</th>\n      <th>POP_ESTIMA</th>\n      <th>POVALL_201</th>\n      <th>Unemployed</th>\n      <th>Median_Hou</th>\n      <th>Recovered</th>\n      <th>Active</th>\n      <th>State_Conf</th>\n      <th>State_Deat</th>\n      <th>State_Reco</th>\n      <th>State_Test</th>\n      <th>AgedPop</th>\n      <th>NewCases</th>\n      <th>NewDeaths</th>\n      <th>TotalPop</th>\n      <th>NonHispWhP</th>\n      <th>BlackPop</th>\n      <th>AmIndop</th>\n      <th>AsianPop</th>\n      <th>PacIslPop</th>\n      <th>OtherPop</th>\n      <th>TwoMorPop</th>\n      <th>HispPop</th>\n      <th>Wh_Alone</th>\n      <th>Bk_Alone</th>\n      <th>AI_Alone</th>\n      <th>As_Alone</th>\n      <th>NH_Alone</th>\n      <th>SO_Alone</th>\n      <th>Two_More</th>\n      <th>Not_Hisp</th>\n      <th>Age_Less15</th>\n      <th>Age_15_24</th>\n      <th>Age_25_34</th>\n      <th>Age_Over75</th>\n      <th>Agetotal</th>\n      <th>NonHisp</th>\n      <th>Age_35_64</th>\n      <th>Age_65_74</th>\n      <th>Day_1</th>\n      <th>Day_2</th>\n      <th>Day_3</th>\n      <th>Day_4</th>\n      <th>Day_5</th>\n      <th>Day_6</th>\n      <th>Day_7</th>\n      <th>Day_8</th>\n      <th>Day_9</th>\n      <th>Day_10</th>\n      <th>Day_11</th>\n      <th>Day_12</th>\n      <th>Day_13</th>\n      <th>Day_14</th>\n      <th>NewCasebyP</th>\n      <th>Inpat_Occ</th>\n      <th>ICU_Occ</th>\n      <th>Shape__Area</th>\n      <th>Shape__Length</th>\n      <th>geometry</th>\n    </tr>\n  </thead>\n  <tbody>\n    <tr>\n      <th>0</th>\n      <td>1</td>\n      <td>Autauga</td>\n      <td>Alabama</td>\n      <td>AL</td>\n      <td>01</td>\n      <td>01001</td>\n      <td>1.076426</td>\n      <td>8354.17</td>\n      <td>89.926440</td>\n      <td>13.8</td>\n      <td>3.6</td>\n      <td>118.9591</td>\n      <td>1.299898</td>\n      <td>01/07/2021 11:30:49</td>\n      <td>Govt Ordered Community Quarantine</td>\n      <td>4/3/2020 10:40:51 PM</td>\n      <td>AL Governor issued a Shelter In Place order.</td>\n      <td>https://bao.arcgis.com/covid-19/jhu/county/010...</td>\n      <td>https://coronavirus.jhu.edu/static/media/dashb...</td>\n      <td>4645</td>\n      <td>50</td>\n      <td>815</td>\n      <td>1026</td>\n      <td>1498</td>\n      <td>2440</td>\n      <td>2271</td>\n      <td>85</td>\n      <td>55</td>\n      <td>6</td>\n      <td>2</td>\n      <td>55601</td>\n      <td>7587</td>\n      <td>942</td>\n      <td>59338</td>\n      <td>0</td>\n      <td>0</td>\n      <td>384184</td>\n      <td>4994</td>\n      <td>0</td>\n      <td>1997125</td>\n      <td>8050</td>\n      <td>99</td>\n      <td>0</td>\n      <td>55200</td>\n      <td>41412</td>\n      <td>10475</td>\n      <td>159</td>\n      <td>568</td>\n      <td>5</td>\n      <td>41</td>\n      <td>1012</td>\n      <td>1528</td>\n      <td>42437</td>\n      <td>10565</td>\n      <td>159</td>\n      <td>568</td>\n      <td>32</td>\n      <td>409</td>\n      <td>1030</td>\n      <td>53672</td>\n      <td>10842</td>\n      <td>7192</td>\n      <td>7064</td>\n      <td>3339</td>\n      <td>55200</td>\n      <td>1528</td>\n      <td>22052</td>\n      <td>4711</td>\n      <td>99.0</td>\n      <td>210.0</td>\n      <td>31.0</td>\n      <td>37.0</td>\n      <td>29.0</td>\n      <td>49.0</td>\n      <td>26.0</td>\n      <td>59.0</td>\n      <td>40.0</td>\n      <td>36.0</td>\n      <td>30.0</td>\n      <td>9.0</td>\n      <td>48.0</td>\n      <td>53.0</td>\n      <td>178.054352</td>\n      <td>96.320346</td>\n      <td>100.000000</td>\n      <td>2.209382e+09</td>\n      <td>246839.865479</td>\n      <td>POLYGON ((-86.41312 32.70739, -86.41219 32.526...</td>\n    </tr>\n    <tr>\n      <th>1</th>\n      <td>2</td>\n      <td>Baldwin</td>\n      <td>Alabama</td>\n      <td>AL</td>\n      <td>01</td>\n      <td>01003</td>\n      <td>1.166758</td>\n      <td>6722.26</td>\n      <td>78.432452</td>\n      <td>9.8</td>\n      <td>3.6</td>\n      <td>115.4508</td>\n      <td>1.299898</td>\n      <td>01/07/2021 11:30:49</td>\n      <td>Govt Ordered Community Quarantine</td>\n      <td>4/3/2020 10:41:19 PM</td>\n      <td>AL Governor issued a Shelter In Place order.</td>\n      <td>https://bao.arcgis.com/covid-19/jhu/county/010...</td>\n      <td>https://coronavirus.jhu.edu/static/media/dashb...</td>\n      <td>14656</td>\n      <td>171</td>\n      <td>3949</td>\n      <td>4792</td>\n      <td>7373</td>\n      <td>11410</td>\n      <td>13141</td>\n      <td>386</td>\n      <td>362</td>\n      <td>51</td>\n      <td>8</td>\n      <td>218022</td>\n      <td>21069</td>\n      <td>3393</td>\n      <td>57588</td>\n      <td>0</td>\n      <td>0</td>\n      <td>384184</td>\n      <td>4994</td>\n      <td>0</td>\n      <td>1997125</td>\n      <td>40665</td>\n      <td>216</td>\n      <td>2</td>\n      <td>208107</td>\n      <td>172768</td>\n      <td>19529</td>\n      <td>1398</td>\n      <td>1668</td>\n      <td>9</td>\n      <td>410</td>\n      <td>2972</td>\n      <td>9353</td>\n      <td>179526</td>\n      <td>19764</td>\n      <td>1522</td>\n      <td>1680</td>\n      <td>9</td>\n      <td>2034</td>\n      <td>3572</td>\n      <td>198754</td>\n      <td>37621</td>\n      <td>23497</td>\n      <td>23326</td>\n      <td>16114</td>\n      <td>208107</td>\n      <td>9353</td>\n      <td>82998</td>\n      <td>24551</td>\n      <td>216.0</td>\n      <td>253.0</td>\n      <td>123.0</td>\n      <td>109.0</td>\n      <td>132.0</td>\n      <td>222.0</td>\n      <td>209.0</td>\n      <td>220.0</td>\n      <td>210.0</td>\n      <td>137.0</td>\n      <td>117.0</td>\n      <td>42.0</td>\n      <td>145.0</td>\n      <td>200.0</td>\n      <td>99.072571</td>\n      <td>74.029401</td>\n      <td>120.089286</td>\n      <td>5.770469e+09</td>\n      <td>728445.072448</td>\n      <td>MULTIPOLYGON (((-87.78878 31.29877, -87.78849 ...</td>\n    </tr>\n    <tr>\n      <th>2</th>\n      <td>3</td>\n      <td>Barbour</td>\n      <td>Alabama</td>\n      <td>AL</td>\n      <td>01</td>\n      <td>01005</td>\n      <td>2.191609</td>\n      <td>6418.55</td>\n      <td>140.669587</td>\n      <td>30.9</td>\n      <td>5.2</td>\n      <td>68.9280</td>\n      <td>1.299898</td>\n      <td>01/07/2021 11:30:49</td>\n      <td>Govt Ordered Community Quarantine</td>\n      <td>4/3/2020 10:43:21 PM</td>\n      <td>AL Governor issued a Shelter In Place order.</td>\n      <td>https://bao.arcgis.com/covid-19/jhu/county/010...</td>\n      <td>https://coronavirus.jhu.edu/static/media/dashb...</td>\n      <td>1597</td>\n      <td>35</td>\n      <td>422</td>\n      <td>551</td>\n      <td>841</td>\n      <td>1305</td>\n      <td>1515</td>\n      <td>74</td>\n      <td>30</td>\n      <td>5</td>\n      <td>2</td>\n      <td>24881</td>\n      <td>6788</td>\n      <td>433</td>\n      <td>34382</td>\n      <td>0</td>\n      <td>0</td>\n      <td>384184</td>\n      <td>4994</td>\n      <td>0</td>\n      <td>1997125</td>\n      <td>4634</td>\n      <td>22</td>\n      <td>2</td>\n      <td>25782</td>\n      <td>11898</td>\n      <td>12199</td>\n      <td>63</td>\n      <td>85</td>\n      <td>1</td>\n      <td>86</td>\n      <td>344</td>\n      <td>1106</td>\n      <td>12216</td>\n      <td>12266</td>\n      <td>72</td>\n      <td>96</td>\n      <td>1</td>\n      <td>778</td>\n      <td>353</td>\n      <td>24676</td>\n      <td>4517</td>\n      <td>3092</td>\n      <td>3675</td>\n      <td>1814</td>\n      <td>25782</td>\n      <td>1106</td>\n      <td>9864</td>\n      <td>2820</td>\n      <td>22.0</td>\n      <td>42.0</td>\n      <td>3.0</td>\n      <td>2.0</td>\n      <td>11.0</td>\n      <td>3.0</td>\n      <td>22.0</td>\n      <td>30.0</td>\n      <td>45.0</td>\n      <td>11.0</td>\n      <td>8.0</td>\n      <td>2.0</td>\n      <td>6.0</td>\n      <td>7.0</td>\n      <td>88.420883</td>\n      <td>56.711409</td>\n      <td>88.571429</td>\n      <td>3.258643e+09</td>\n      <td>307285.154510</td>\n      <td>POLYGON ((-85.25609 32.13767, -85.25569 32.135...</td>\n    </tr>\n    <tr>\n      <th>3</th>\n      <td>4</td>\n      <td>Bibb</td>\n      <td>Alabama</td>\n      <td>AL</td>\n      <td>01</td>\n      <td>01007</td>\n      <td>2.469136</td>\n      <td>8678.57</td>\n      <td>214.285714</td>\n      <td>21.8</td>\n      <td>4.0</td>\n      <td>92.3478</td>\n      <td>1.299898</td>\n      <td>01/07/2021 11:30:49</td>\n      <td>Govt Ordered Community Quarantine</td>\n      <td>4/3/2020 10:40:51 PM</td>\n      <td>AL Governor issued a Shelter In Place order.</td>\n      <td>https://bao.arcgis.com/covid-19/jhu/county/010...</td>\n      <td>https://coronavirus.jhu.edu/static/media/dashb...</td>\n      <td>1944</td>\n      <td>48</td>\n      <td>427</td>\n      <td>488</td>\n      <td>624</td>\n      <td>842</td>\n      <td>1280</td>\n      <td>35</td>\n      <td>25</td>\n      <td>4</td>\n      <td>1</td>\n      <td>22400</td>\n      <td>4400</td>\n      <td>344</td>\n      <td>46064</td>\n      <td>0</td>\n      <td>0</td>\n      <td>384184</td>\n      <td>4994</td>\n      <td>0</td>\n      <td>1997125</td>\n      <td>3661</td>\n      <td>21</td>\n      <td>2</td>\n      <td>22527</td>\n      <td>16801</td>\n      <td>4974</td>\n      <td>8</td>\n      <td>37</td>\n      <td>0</td>\n      <td>0</td>\n      <td>160</td>\n      <td>547</td>\n      <td>17268</td>\n      <td>5018</td>\n      <td>8</td>\n      <td>37</td>\n      <td>0</td>\n      <td>9</td>\n      <td>187</td>\n      <td>21980</td>\n      <td>3742</td>\n      <td>3005</td>\n      <td>3075</td>\n      <td>1539</td>\n      <td>22527</td>\n      <td>547</td>\n      <td>9044</td>\n      <td>2122</td>\n      <td>21.0</td>\n      <td>38.0</td>\n      <td>3.0</td>\n      <td>19.0</td>\n      <td>9.0</td>\n      <td>20.0</td>\n      <td>17.0</td>\n      <td>25.0</td>\n      <td>30.0</td>\n      <td>16.0</td>\n      <td>7.0</td>\n      <td>14.0</td>\n      <td>14.0</td>\n      <td>28.0</td>\n      <td>93.750000</td>\n      <td>19.047619</td>\n      <td>NaN</td>\n      <td>2.310715e+09</td>\n      <td>227886.963840</td>\n      <td>POLYGON ((-87.02685 33.24646, -87.02572 33.209...</td>\n    </tr>\n    <tr>\n      <th>4</th>\n      <td>5</td>\n      <td>Blount</td>\n      <td>Alabama</td>\n      <td>AL</td>\n      <td>01</td>\n      <td>01009</td>\n      <td>1.367905</td>\n      <td>8468.19</td>\n      <td>115.836791</td>\n      <td>13.2</td>\n      <td>3.5</td>\n      <td>101.0645</td>\n      <td>1.299898</td>\n      <td>01/07/2021 11:30:49</td>\n      <td>Govt Ordered Community Quarantine</td>\n      <td>4/3/2020 10:40:51 PM</td>\n      <td>AL Governor issued a Shelter In Place order.</td>\n      <td>https://bao.arcgis.com/covid-19/jhu/county/010...</td>\n      <td>https://coronavirus.jhu.edu/static/media/dashb...</td>\n      <td>4898</td>\n      <td>67</td>\n      <td>866</td>\n      <td>1459</td>\n      <td>1776</td>\n      <td>2802</td>\n      <td>3330</td>\n      <td>25</td>\n      <td>25</td>\n      <td>6</td>\n      <td>2</td>\n      <td>57840</td>\n      <td>7527</td>\n      <td>878</td>\n      <td>50412</td>\n      <td>0</td>\n      <td>0</td>\n      <td>384184</td>\n      <td>4994</td>\n      <td>0</td>\n      <td>1997125</td>\n      <td>10233</td>\n      <td>49</td>\n      <td>4</td>\n      <td>57645</td>\n      <td>50232</td>\n      <td>820</td>\n      <td>124</td>\n      <td>198</td>\n      <td>18</td>\n      <td>174</td>\n      <td>818</td>\n      <td>5261</td>\n      <td>55054</td>\n      <td>862</td>\n      <td>141</td>\n      <td>198</td>\n      <td>18</td>\n      <td>437</td>\n      <td>935</td>\n      <td>52384</td>\n      <td>11112</td>\n      <td>6906</td>\n      <td>6786</td>\n      <td>4101</td>\n      <td>57645</td>\n      <td>5261</td>\n      <td>22608</td>\n      <td>6132</td>\n      <td>49.0</td>\n      <td>78.0</td>\n      <td>25.0</td>\n      <td>17.0</td>\n      <td>36.0</td>\n      <td>52.0</td>\n      <td>57.0</td>\n      <td>49.0</td>\n      <td>52.0</td>\n      <td>18.0</td>\n      <td>19.0</td>\n      <td>5.0</td>\n      <td>36.0</td>\n      <td>38.0</td>\n      <td>84.716459</td>\n      <td>76.190476</td>\n      <td>92.857143</td>\n      <td>2.456058e+09</td>\n      <td>286306.840721</td>\n      <td>POLYGON ((-86.44507 34.24954, -86.40902 34.205...</td>\n    </tr>\n  </tbody>\n</table>\n</div>"
     },
     "metadata": {},
     "execution_count": 74
    }
   ],
   "source": [
    "data2 = gpd.read_file('https://opendata.arcgis.com/datasets/4cb598ae041348fb92270f102a6783cb_0.geojson')\n",
    "print(data2.shape)\n",
    "data2.head()"
   ]
  },
  {
   "source": [
    "- FatalityRa = County Fatality Rate\n",
    "- Confirmedb = County Confirmed divided by County Population * 100,000\n",
    "- DeathsbyPo = County Deaths divided by County Population * 100,000\n",
    "- Unemployme = Unemployment Rate\n",
    "- EM_type, EM_date, EM_notes - could be turned into a column about Emergency Declaration\n",
    "- Confirmed = County Level Confirmed Cases\n",
    "- Deaths = County Level Deaths\n",
    "- Beds_Licen = Number of Licensed Beds \n",
    "- Beds_Staff = Number of Staffed Beds \n",
    "- Beds_ICU = Number of ICU Beds \n",
    "- Ventilator = Average Ventilation Used Per Hospital\n",
    "- POP_ESTIMA = Total Population\n",
    "- POVALL_201 = Poverty Rate\n",
    "- Median_Hou - Median Household Income\n",
    "- Recovered = Number of Recovered Cases\n",
    "- Active = Number of Active Cases\n",
    "- AgedPop = TOtal Population Aged 65 Plus\n",
    "- NewCases = New cases since yesterday\n",
    "- NewDeaths = Newdeaths since yesterday\n",
    "- Wh_Alone, Bk_Alone, AI_Alone, As_Alone, NH_Alone, SO_Alone, Two_More, Not_Hisp = Population numbers of each group\n",
    "- Age_? = Population numbers of age groups\n",
    "- NewCasebyP = I think this is new case by percentage\n",
    "- ICU_Occ, Inpat_Occ = Percent Occupied of ICUs and Inpatient Beds\n",
    "- Shape_Area, Shape_Length = for mapping\n",
    "\n"
   ],
   "cell_type": "markdown",
   "metadata": {}
  },
  {
   "cell_type": "code",
   "execution_count": 76,
   "metadata": {},
   "outputs": [],
   "source": [
    "# remove all the rows with Unassigned and Out of [State] designations for county name, as well as Puerto Rico\n",
    "data2 = data2[~data2.Countyname.str.contains(\"Out of\")]\n",
    "data2 = data2[~data2.Countyname.str.contains(\"Unassigned\")]\n",
    "data2 = data2[~data2.ST_Name.str.contains(\"Puerto Rico\")]\n",
    "data2.drop(data2.tail(7).index, inplace=True)\n",
    "# remove Day_1 to Day_14 columns, unclear what the days represent\n",
    "data2.drop(columns=['Day_1', 'Day_2', 'Day_3', 'Day_4', 'Day_5', 'Day_6', 'Day_7', 'Day_8', 'Day_9', 'Day_10', 'Day_11', 'Day_12', 'Day_13', 'Day_14'], inplace=True)\n",
    "# State level data columns were dropped, as well as any ID and repeated population data\n",
    "data2.drop(columns=['OBJECTID', 'ST_ID', 'PCTPOVALL_', 'Med_HH_Inc', 'State_Fata', 'DateChecke', 'url', 'Thumbnail', 'State_Conf', 'State_Deat', 'State_Reco', 'State_Test', 'TotalPop', 'NonHispWhP', 'BlackPop', 'AmIndop', 'PacIslPop', 'OtherPop', 'TwoMorPop', 'HispPop', 'NonHisp', 'AsianPop'], inplace=True)\n",
    "data2.drop(columns=['Wh_Alone', 'Bk_Alone', 'AI_Alone', 'As_Alone', 'NH_Alone', 'SO_Alone', 'Two_More', 'Not_Hisp', 'Age_Over75'], inplace=True)\n",
    "# Kept Deaths per \n",
    "data2.drop(columns=['Confirmed', 'Deaths'], inplace=True)\n",
    "# remove all age category data, as there is not statistical difference between the various age groups above 65\n",
    "data2.drop(columns=['Age_85', 'Age_80_84', 'Age_75_79', 'Age_70_74', 'Age_65_69', 'Agetotal', 'Age_Less15', 'Age_15_24', 'Age_25_34', 'Age_35_64', 'Age_65_74'], inplace=True)\n",
    "# Columns are mostly empty values and difficult to categorize\n",
    "data2.drop(columns=['Recovered', 'Active', 'EM_notes'], inplace=True)"
   ]
  },
  {
   "cell_type": "code",
   "execution_count": 77,
   "metadata": {},
   "outputs": [
    {
     "output_type": "execute_result",
     "data": {
      "text/plain": [
       "  Countyname  ST_Name ST_Abbr   FIPS  FatalityRa  Confirmedb  DeathsbyPo  \\\n",
       "0    Autauga  Alabama      AL  01001    1.076426     8354.17   89.926440   \n",
       "1    Baldwin  Alabama      AL  01003    1.166758     6722.26   78.432452   \n",
       "2    Barbour  Alabama      AL  01005    2.191609     6418.55  140.669587   \n",
       "3       Bibb  Alabama      AL  01007    2.469136     8678.57  214.285714   \n",
       "4     Blount  Alabama      AL  01009    1.367905     8468.19  115.836791   \n",
       "\n",
       "   Unemployme                            EM_type               EM_date  \\\n",
       "0         3.6  Govt Ordered Community Quarantine  4/3/2020 10:40:51 PM   \n",
       "1         3.6  Govt Ordered Community Quarantine  4/3/2020 10:41:19 PM   \n",
       "2         5.2  Govt Ordered Community Quarantine  4/3/2020 10:43:21 PM   \n",
       "3         4.0  Govt Ordered Community Quarantine  4/3/2020 10:40:51 PM   \n",
       "4         3.5  Govt Ordered Community Quarantine  4/3/2020 10:40:51 PM   \n",
       "\n",
       "   Beds_Licen  Beds_Staff  Beds_ICU  Ventilator  POP_ESTIMA  POVALL_201  \\\n",
       "0          85          55         6           2       55601        7587   \n",
       "1         386         362        51           8      218022       21069   \n",
       "2          74          30         5           2       24881        6788   \n",
       "3          35          25         4           1       22400        4400   \n",
       "4          25          25         6           2       57840        7527   \n",
       "\n",
       "   Unemployed  Median_Hou  AgedPop  NewCases  NewDeaths  NewCasebyP  \\\n",
       "0         942       59338     8050        99          0  178.054352   \n",
       "1        3393       57588    40665       216          2   99.072571   \n",
       "2         433       34382     4634        22          2   88.420883   \n",
       "3         344       46064     3661        21          2   93.750000   \n",
       "4         878       50412    10233        49          4   84.716459   \n",
       "\n",
       "   Inpat_Occ     ICU_Occ   Shape__Area  Shape__Length  \\\n",
       "0  96.320346  100.000000  2.209382e+09  246839.865479   \n",
       "1  74.029401  120.089286  5.770469e+09  728445.072448   \n",
       "2  56.711409   88.571429  3.258643e+09  307285.154510   \n",
       "3  19.047619         NaN  2.310715e+09  227886.963840   \n",
       "4  76.190476   92.857143  2.456058e+09  286306.840721   \n",
       "\n",
       "                                            geometry  \n",
       "0  POLYGON ((-86.41312 32.70739, -86.41219 32.526...  \n",
       "1  MULTIPOLYGON (((-87.78878 31.29877, -87.78849 ...  \n",
       "2  POLYGON ((-85.25609 32.13767, -85.25569 32.135...  \n",
       "3  POLYGON ((-87.02685 33.24646, -87.02572 33.209...  \n",
       "4  POLYGON ((-86.44507 34.24954, -86.40902 34.205...  "
      ],
      "text/html": "<div>\n<style scoped>\n    .dataframe tbody tr th:only-of-type {\n        vertical-align: middle;\n    }\n\n    .dataframe tbody tr th {\n        vertical-align: top;\n    }\n\n    .dataframe thead th {\n        text-align: right;\n    }\n</style>\n<table border=\"1\" class=\"dataframe\">\n  <thead>\n    <tr style=\"text-align: right;\">\n      <th></th>\n      <th>Countyname</th>\n      <th>ST_Name</th>\n      <th>ST_Abbr</th>\n      <th>FIPS</th>\n      <th>FatalityRa</th>\n      <th>Confirmedb</th>\n      <th>DeathsbyPo</th>\n      <th>Unemployme</th>\n      <th>EM_type</th>\n      <th>EM_date</th>\n      <th>Beds_Licen</th>\n      <th>Beds_Staff</th>\n      <th>Beds_ICU</th>\n      <th>Ventilator</th>\n      <th>POP_ESTIMA</th>\n      <th>POVALL_201</th>\n      <th>Unemployed</th>\n      <th>Median_Hou</th>\n      <th>AgedPop</th>\n      <th>NewCases</th>\n      <th>NewDeaths</th>\n      <th>NewCasebyP</th>\n      <th>Inpat_Occ</th>\n      <th>ICU_Occ</th>\n      <th>Shape__Area</th>\n      <th>Shape__Length</th>\n      <th>geometry</th>\n    </tr>\n  </thead>\n  <tbody>\n    <tr>\n      <th>0</th>\n      <td>Autauga</td>\n      <td>Alabama</td>\n      <td>AL</td>\n      <td>01001</td>\n      <td>1.076426</td>\n      <td>8354.17</td>\n      <td>89.926440</td>\n      <td>3.6</td>\n      <td>Govt Ordered Community Quarantine</td>\n      <td>4/3/2020 10:40:51 PM</td>\n      <td>85</td>\n      <td>55</td>\n      <td>6</td>\n      <td>2</td>\n      <td>55601</td>\n      <td>7587</td>\n      <td>942</td>\n      <td>59338</td>\n      <td>8050</td>\n      <td>99</td>\n      <td>0</td>\n      <td>178.054352</td>\n      <td>96.320346</td>\n      <td>100.000000</td>\n      <td>2.209382e+09</td>\n      <td>246839.865479</td>\n      <td>POLYGON ((-86.41312 32.70739, -86.41219 32.526...</td>\n    </tr>\n    <tr>\n      <th>1</th>\n      <td>Baldwin</td>\n      <td>Alabama</td>\n      <td>AL</td>\n      <td>01003</td>\n      <td>1.166758</td>\n      <td>6722.26</td>\n      <td>78.432452</td>\n      <td>3.6</td>\n      <td>Govt Ordered Community Quarantine</td>\n      <td>4/3/2020 10:41:19 PM</td>\n      <td>386</td>\n      <td>362</td>\n      <td>51</td>\n      <td>8</td>\n      <td>218022</td>\n      <td>21069</td>\n      <td>3393</td>\n      <td>57588</td>\n      <td>40665</td>\n      <td>216</td>\n      <td>2</td>\n      <td>99.072571</td>\n      <td>74.029401</td>\n      <td>120.089286</td>\n      <td>5.770469e+09</td>\n      <td>728445.072448</td>\n      <td>MULTIPOLYGON (((-87.78878 31.29877, -87.78849 ...</td>\n    </tr>\n    <tr>\n      <th>2</th>\n      <td>Barbour</td>\n      <td>Alabama</td>\n      <td>AL</td>\n      <td>01005</td>\n      <td>2.191609</td>\n      <td>6418.55</td>\n      <td>140.669587</td>\n      <td>5.2</td>\n      <td>Govt Ordered Community Quarantine</td>\n      <td>4/3/2020 10:43:21 PM</td>\n      <td>74</td>\n      <td>30</td>\n      <td>5</td>\n      <td>2</td>\n      <td>24881</td>\n      <td>6788</td>\n      <td>433</td>\n      <td>34382</td>\n      <td>4634</td>\n      <td>22</td>\n      <td>2</td>\n      <td>88.420883</td>\n      <td>56.711409</td>\n      <td>88.571429</td>\n      <td>3.258643e+09</td>\n      <td>307285.154510</td>\n      <td>POLYGON ((-85.25609 32.13767, -85.25569 32.135...</td>\n    </tr>\n    <tr>\n      <th>3</th>\n      <td>Bibb</td>\n      <td>Alabama</td>\n      <td>AL</td>\n      <td>01007</td>\n      <td>2.469136</td>\n      <td>8678.57</td>\n      <td>214.285714</td>\n      <td>4.0</td>\n      <td>Govt Ordered Community Quarantine</td>\n      <td>4/3/2020 10:40:51 PM</td>\n      <td>35</td>\n      <td>25</td>\n      <td>4</td>\n      <td>1</td>\n      <td>22400</td>\n      <td>4400</td>\n      <td>344</td>\n      <td>46064</td>\n      <td>3661</td>\n      <td>21</td>\n      <td>2</td>\n      <td>93.750000</td>\n      <td>19.047619</td>\n      <td>NaN</td>\n      <td>2.310715e+09</td>\n      <td>227886.963840</td>\n      <td>POLYGON ((-87.02685 33.24646, -87.02572 33.209...</td>\n    </tr>\n    <tr>\n      <th>4</th>\n      <td>Blount</td>\n      <td>Alabama</td>\n      <td>AL</td>\n      <td>01009</td>\n      <td>1.367905</td>\n      <td>8468.19</td>\n      <td>115.836791</td>\n      <td>3.5</td>\n      <td>Govt Ordered Community Quarantine</td>\n      <td>4/3/2020 10:40:51 PM</td>\n      <td>25</td>\n      <td>25</td>\n      <td>6</td>\n      <td>2</td>\n      <td>57840</td>\n      <td>7527</td>\n      <td>878</td>\n      <td>50412</td>\n      <td>10233</td>\n      <td>49</td>\n      <td>4</td>\n      <td>84.716459</td>\n      <td>76.190476</td>\n      <td>92.857143</td>\n      <td>2.456058e+09</td>\n      <td>286306.840721</td>\n      <td>POLYGON ((-86.44507 34.24954, -86.40902 34.205...</td>\n    </tr>\n  </tbody>\n</table>\n</div>"
     },
     "metadata": {},
     "execution_count": 77
    }
   ],
   "source": [
    "data2.head()"
   ]
  },
  {
   "source": [],
   "cell_type": "markdown",
   "metadata": {}
  },
  {
   "cell_type": "code",
   "execution_count": 79,
   "metadata": {},
   "outputs": [
    {
     "output_type": "execute_result",
     "data": {
      "text/plain": [
       "Index(['Countyname', 'ST_Name', 'ST_Abbr', 'FIPS', 'FatalityRa', 'Confirmedb',\n",
       "       'DeathsbyPo', 'Unemployme', 'EM_type', 'EM_date', 'Beds_Licen',\n",
       "       'Beds_Staff', 'Beds_ICU', 'Ventilator', 'POP_ESTIMA', 'POVALL_201',\n",
       "       'Unemployed', 'Median_Hou', 'AgedPop', 'NewCases', 'NewDeaths',\n",
       "       'NewCasebyP', 'Inpat_Occ', 'ICU_Occ', 'Shape__Area', 'Shape__Length',\n",
       "       'geometry'],\n",
       "      dtype='object')"
      ]
     },
     "metadata": {},
     "execution_count": 79
    }
   ],
   "source": [
    "data2.columns"
   ]
  },
  {
   "cell_type": "code",
   "execution_count": 81,
   "metadata": {},
   "outputs": [
    {
     "output_type": "execute_result",
     "data": {
      "text/plain": [
       "  Countyname  ST_Name ST_Abbr   FIPS  FatalityRa  Confirmedb  DeathsbyPo  \\\n",
       "0    Autauga  Alabama      AL  01001    1.076426     8354.17   89.926440   \n",
       "1    Baldwin  Alabama      AL  01003    1.166758     6722.26   78.432452   \n",
       "2    Barbour  Alabama      AL  01005    2.191609     6418.55  140.669587   \n",
       "3       Bibb  Alabama      AL  01007    2.469136     8678.57  214.285714   \n",
       "4     Blount  Alabama      AL  01009    1.367905     8468.19  115.836791   \n",
       "\n",
       "   Unemployme                            EM_type               EM_date  \\\n",
       "0         3.6  Govt Ordered Community Quarantine  4/3/2020 10:40:51 PM   \n",
       "1         3.6  Govt Ordered Community Quarantine  4/3/2020 10:41:19 PM   \n",
       "2         5.2  Govt Ordered Community Quarantine  4/3/2020 10:43:21 PM   \n",
       "3         4.0  Govt Ordered Community Quarantine  4/3/2020 10:40:51 PM   \n",
       "4         3.5  Govt Ordered Community Quarantine  4/3/2020 10:40:51 PM   \n",
       "\n",
       "   Beds_Licen  Beds_Staff  Beds_ICU  Ventilator  POP_ESTIMA  POVALL_201  \\\n",
       "0          85          55         6           2       55601        7587   \n",
       "1         386         362        51           8      218022       21069   \n",
       "2          74          30         5           2       24881        6788   \n",
       "3          35          25         4           1       22400        4400   \n",
       "4          25          25         6           2       57840        7527   \n",
       "\n",
       "   Unemployed  Median_Hou  AgedPop  NewCases  NewDeaths  NewCasebyP  \\\n",
       "0         942       59338     8050        99          0  178.054352   \n",
       "1        3393       57588    40665       216          2   99.072571   \n",
       "2         433       34382     4634        22          2   88.420883   \n",
       "3         344       46064     3661        21          2   93.750000   \n",
       "4         878       50412    10233        49          4   84.716459   \n",
       "\n",
       "   Inpat_Occ     ICU_Occ   Shape__Area  Shape__Length  \\\n",
       "0  96.320346  100.000000  2.209382e+09  246839.865479   \n",
       "1  74.029401  120.089286  5.770469e+09  728445.072448   \n",
       "2  56.711409   88.571429  3.258643e+09  307285.154510   \n",
       "3  19.047619         NaN  2.310715e+09  227886.963840   \n",
       "4  76.190476   92.857143  2.456058e+09  286306.840721   \n",
       "\n",
       "                                            geometry  \n",
       "0  POLYGON ((-86.41312 32.70739, -86.41219 32.526...  \n",
       "1  MULTIPOLYGON (((-87.78878 31.29877, -87.78849 ...  \n",
       "2  POLYGON ((-85.25609 32.13767, -85.25569 32.135...  \n",
       "3  POLYGON ((-87.02685 33.24646, -87.02572 33.209...  \n",
       "4  POLYGON ((-86.44507 34.24954, -86.40902 34.205...  "
      ],
      "text/html": "<div>\n<style scoped>\n    .dataframe tbody tr th:only-of-type {\n        vertical-align: middle;\n    }\n\n    .dataframe tbody tr th {\n        vertical-align: top;\n    }\n\n    .dataframe thead th {\n        text-align: right;\n    }\n</style>\n<table border=\"1\" class=\"dataframe\">\n  <thead>\n    <tr style=\"text-align: right;\">\n      <th></th>\n      <th>Countyname</th>\n      <th>ST_Name</th>\n      <th>ST_Abbr</th>\n      <th>FIPS</th>\n      <th>FatalityRa</th>\n      <th>Confirmedb</th>\n      <th>DeathsbyPo</th>\n      <th>Unemployme</th>\n      <th>EM_type</th>\n      <th>EM_date</th>\n      <th>Beds_Licen</th>\n      <th>Beds_Staff</th>\n      <th>Beds_ICU</th>\n      <th>Ventilator</th>\n      <th>POP_ESTIMA</th>\n      <th>POVALL_201</th>\n      <th>Unemployed</th>\n      <th>Median_Hou</th>\n      <th>AgedPop</th>\n      <th>NewCases</th>\n      <th>NewDeaths</th>\n      <th>NewCasebyP</th>\n      <th>Inpat_Occ</th>\n      <th>ICU_Occ</th>\n      <th>Shape__Area</th>\n      <th>Shape__Length</th>\n      <th>geometry</th>\n    </tr>\n  </thead>\n  <tbody>\n    <tr>\n      <th>0</th>\n      <td>Autauga</td>\n      <td>Alabama</td>\n      <td>AL</td>\n      <td>01001</td>\n      <td>1.076426</td>\n      <td>8354.17</td>\n      <td>89.926440</td>\n      <td>3.6</td>\n      <td>Govt Ordered Community Quarantine</td>\n      <td>4/3/2020 10:40:51 PM</td>\n      <td>85</td>\n      <td>55</td>\n      <td>6</td>\n      <td>2</td>\n      <td>55601</td>\n      <td>7587</td>\n      <td>942</td>\n      <td>59338</td>\n      <td>8050</td>\n      <td>99</td>\n      <td>0</td>\n      <td>178.054352</td>\n      <td>96.320346</td>\n      <td>100.000000</td>\n      <td>2.209382e+09</td>\n      <td>246839.865479</td>\n      <td>POLYGON ((-86.41312 32.70739, -86.41219 32.526...</td>\n    </tr>\n    <tr>\n      <th>1</th>\n      <td>Baldwin</td>\n      <td>Alabama</td>\n      <td>AL</td>\n      <td>01003</td>\n      <td>1.166758</td>\n      <td>6722.26</td>\n      <td>78.432452</td>\n      <td>3.6</td>\n      <td>Govt Ordered Community Quarantine</td>\n      <td>4/3/2020 10:41:19 PM</td>\n      <td>386</td>\n      <td>362</td>\n      <td>51</td>\n      <td>8</td>\n      <td>218022</td>\n      <td>21069</td>\n      <td>3393</td>\n      <td>57588</td>\n      <td>40665</td>\n      <td>216</td>\n      <td>2</td>\n      <td>99.072571</td>\n      <td>74.029401</td>\n      <td>120.089286</td>\n      <td>5.770469e+09</td>\n      <td>728445.072448</td>\n      <td>MULTIPOLYGON (((-87.78878 31.29877, -87.78849 ...</td>\n    </tr>\n    <tr>\n      <th>2</th>\n      <td>Barbour</td>\n      <td>Alabama</td>\n      <td>AL</td>\n      <td>01005</td>\n      <td>2.191609</td>\n      <td>6418.55</td>\n      <td>140.669587</td>\n      <td>5.2</td>\n      <td>Govt Ordered Community Quarantine</td>\n      <td>4/3/2020 10:43:21 PM</td>\n      <td>74</td>\n      <td>30</td>\n      <td>5</td>\n      <td>2</td>\n      <td>24881</td>\n      <td>6788</td>\n      <td>433</td>\n      <td>34382</td>\n      <td>4634</td>\n      <td>22</td>\n      <td>2</td>\n      <td>88.420883</td>\n      <td>56.711409</td>\n      <td>88.571429</td>\n      <td>3.258643e+09</td>\n      <td>307285.154510</td>\n      <td>POLYGON ((-85.25609 32.13767, -85.25569 32.135...</td>\n    </tr>\n    <tr>\n      <th>3</th>\n      <td>Bibb</td>\n      <td>Alabama</td>\n      <td>AL</td>\n      <td>01007</td>\n      <td>2.469136</td>\n      <td>8678.57</td>\n      <td>214.285714</td>\n      <td>4.0</td>\n      <td>Govt Ordered Community Quarantine</td>\n      <td>4/3/2020 10:40:51 PM</td>\n      <td>35</td>\n      <td>25</td>\n      <td>4</td>\n      <td>1</td>\n      <td>22400</td>\n      <td>4400</td>\n      <td>344</td>\n      <td>46064</td>\n      <td>3661</td>\n      <td>21</td>\n      <td>2</td>\n      <td>93.750000</td>\n      <td>19.047619</td>\n      <td>NaN</td>\n      <td>2.310715e+09</td>\n      <td>227886.963840</td>\n      <td>POLYGON ((-87.02685 33.24646, -87.02572 33.209...</td>\n    </tr>\n    <tr>\n      <th>4</th>\n      <td>Blount</td>\n      <td>Alabama</td>\n      <td>AL</td>\n      <td>01009</td>\n      <td>1.367905</td>\n      <td>8468.19</td>\n      <td>115.836791</td>\n      <td>3.5</td>\n      <td>Govt Ordered Community Quarantine</td>\n      <td>4/3/2020 10:40:51 PM</td>\n      <td>25</td>\n      <td>25</td>\n      <td>6</td>\n      <td>2</td>\n      <td>57840</td>\n      <td>7527</td>\n      <td>878</td>\n      <td>50412</td>\n      <td>10233</td>\n      <td>49</td>\n      <td>4</td>\n      <td>84.716459</td>\n      <td>76.190476</td>\n      <td>92.857143</td>\n      <td>2.456058e+09</td>\n      <td>286306.840721</td>\n      <td>POLYGON ((-86.44507 34.24954, -86.40902 34.205...</td>\n    </tr>\n  </tbody>\n</table>\n</div>"
     },
     "metadata": {},
     "execution_count": 81
    }
   ],
   "source": [
    "data2.head()"
   ]
  },
  {
   "cell_type": "code",
   "execution_count": 83,
   "metadata": {},
   "outputs": [
    {
     "output_type": "execute_result",
     "data": {
      "text/plain": [
       "        FatalityRa    Confirmedb   DeathsbyPo   Unemployme    Beds_Licen  \\\n",
       "count  3142.000000   3142.000000  3142.000000  3142.000000   3142.000000   \n",
       "mean      1.750076   6948.591687   122.715199     4.132018    298.811903   \n",
       "std       1.112969   2837.637191    89.957044     1.503802    985.479124   \n",
       "min       0.000000      0.000000     0.000000     0.000000      0.000000   \n",
       "25%       1.010014   5149.432500    60.155273     3.100000     16.000000   \n",
       "50%       1.537125   6825.790000   105.698029     3.900000     42.000000   \n",
       "75%       2.288272   8529.000000   161.625494     4.800000    171.000000   \n",
       "max      13.043478  28439.740000   842.266462    19.900000  23579.000000   \n",
       "\n",
       "         Beds_Staff     Beds_ICU   Ventilator    POP_ESTIMA    POVALL_201  \\\n",
       "count   3142.000000  3142.000000  3142.000000  3.142000e+03  3.142000e+03   \n",
       "mean     254.153405    29.178867     7.380013  1.041271e+05  1.332028e+04   \n",
       "std      862.311711   102.185808    23.534068  3.334863e+05  4.559631e+04   \n",
       "min        0.000000     0.000000     0.000000  0.000000e+00  0.000000e+00   \n",
       "25%       15.000000     2.000000     0.000000  1.092650e+04  1.594000e+03   \n",
       "50%       32.000000     5.000000     2.000000  2.575850e+04  3.766000e+03   \n",
       "75%      134.000000    14.000000     4.000000  6.782050e+04  9.391250e+03   \n",
       "max    22419.000000  2352.000000   523.000000  1.010552e+07  1.409155e+06   \n",
       "\n",
       "          Unemployed     Median_Hou       AgedPop      NewCases    NewDeaths  \\\n",
       "count    3142.000000    3142.000000  3.142000e+03   3142.000000  3142.000000   \n",
       "mean     2003.960853   52777.610439  1.509336e+04     80.888288     1.239338   \n",
       "std      6969.042922   13909.834889  4.499390e+04    316.806914     5.901344   \n",
       "min         0.000000       0.000000  0.000000e+00    -41.000000    -5.000000   \n",
       "25%       200.250000   43679.500000  8.807500e+02      6.000000     0.000000   \n",
       "50%       482.500000   50566.500000  4.080000e+03     19.000000     0.000000   \n",
       "75%      1275.750000   58845.500000  1.161875e+04     55.000000     1.000000   \n",
       "max    239829.000000  140382.000000  1.299277e+06  11554.000000   257.000000   \n",
       "\n",
       "        NewCasebyP    Inpat_Occ      ICU_Occ   Shape__Area  Shape__Length  \n",
       "count  3142.000000  2423.000000  1552.000000  3.142000e+03   3.142000e+03  \n",
       "mean     81.933501    53.976173    65.560210  6.808623e+09   3.714886e+05  \n",
       "std      82.248343    34.142614    29.709178  5.556968e+10   7.397408e+05  \n",
       "min   -1416.234888     0.000000     0.000000  8.763938e+06   1.563678e+04  \n",
       "25%      38.213398    34.330776    50.339860  1.860524e+09   2.058000e+05  \n",
       "50%      68.450955    54.614412    72.340426  2.680092e+09   2.493543e+05  \n",
       "75%     107.267763    72.141680    88.000071  3.944540e+09   3.367670e+05  \n",
       "max    1564.455569  1218.285714   200.000000  2.228678e+12   1.796423e+07  "
      ],
      "text/html": "<div>\n<style scoped>\n    .dataframe tbody tr th:only-of-type {\n        vertical-align: middle;\n    }\n\n    .dataframe tbody tr th {\n        vertical-align: top;\n    }\n\n    .dataframe thead th {\n        text-align: right;\n    }\n</style>\n<table border=\"1\" class=\"dataframe\">\n  <thead>\n    <tr style=\"text-align: right;\">\n      <th></th>\n      <th>FatalityRa</th>\n      <th>Confirmedb</th>\n      <th>DeathsbyPo</th>\n      <th>Unemployme</th>\n      <th>Beds_Licen</th>\n      <th>Beds_Staff</th>\n      <th>Beds_ICU</th>\n      <th>Ventilator</th>\n      <th>POP_ESTIMA</th>\n      <th>POVALL_201</th>\n      <th>Unemployed</th>\n      <th>Median_Hou</th>\n      <th>AgedPop</th>\n      <th>NewCases</th>\n      <th>NewDeaths</th>\n      <th>NewCasebyP</th>\n      <th>Inpat_Occ</th>\n      <th>ICU_Occ</th>\n      <th>Shape__Area</th>\n      <th>Shape__Length</th>\n    </tr>\n  </thead>\n  <tbody>\n    <tr>\n      <th>count</th>\n      <td>3142.000000</td>\n      <td>3142.000000</td>\n      <td>3142.000000</td>\n      <td>3142.000000</td>\n      <td>3142.000000</td>\n      <td>3142.000000</td>\n      <td>3142.000000</td>\n      <td>3142.000000</td>\n      <td>3.142000e+03</td>\n      <td>3.142000e+03</td>\n      <td>3142.000000</td>\n      <td>3142.000000</td>\n      <td>3.142000e+03</td>\n      <td>3142.000000</td>\n      <td>3142.000000</td>\n      <td>3142.000000</td>\n      <td>2423.000000</td>\n      <td>1552.000000</td>\n      <td>3.142000e+03</td>\n      <td>3.142000e+03</td>\n    </tr>\n    <tr>\n      <th>mean</th>\n      <td>1.750076</td>\n      <td>6948.591687</td>\n      <td>122.715199</td>\n      <td>4.132018</td>\n      <td>298.811903</td>\n      <td>254.153405</td>\n      <td>29.178867</td>\n      <td>7.380013</td>\n      <td>1.041271e+05</td>\n      <td>1.332028e+04</td>\n      <td>2003.960853</td>\n      <td>52777.610439</td>\n      <td>1.509336e+04</td>\n      <td>80.888288</td>\n      <td>1.239338</td>\n      <td>81.933501</td>\n      <td>53.976173</td>\n      <td>65.560210</td>\n      <td>6.808623e+09</td>\n      <td>3.714886e+05</td>\n    </tr>\n    <tr>\n      <th>std</th>\n      <td>1.112969</td>\n      <td>2837.637191</td>\n      <td>89.957044</td>\n      <td>1.503802</td>\n      <td>985.479124</td>\n      <td>862.311711</td>\n      <td>102.185808</td>\n      <td>23.534068</td>\n      <td>3.334863e+05</td>\n      <td>4.559631e+04</td>\n      <td>6969.042922</td>\n      <td>13909.834889</td>\n      <td>4.499390e+04</td>\n      <td>316.806914</td>\n      <td>5.901344</td>\n      <td>82.248343</td>\n      <td>34.142614</td>\n      <td>29.709178</td>\n      <td>5.556968e+10</td>\n      <td>7.397408e+05</td>\n    </tr>\n    <tr>\n      <th>min</th>\n      <td>0.000000</td>\n      <td>0.000000</td>\n      <td>0.000000</td>\n      <td>0.000000</td>\n      <td>0.000000</td>\n      <td>0.000000</td>\n      <td>0.000000</td>\n      <td>0.000000</td>\n      <td>0.000000e+00</td>\n      <td>0.000000e+00</td>\n      <td>0.000000</td>\n      <td>0.000000</td>\n      <td>0.000000e+00</td>\n      <td>-41.000000</td>\n      <td>-5.000000</td>\n      <td>-1416.234888</td>\n      <td>0.000000</td>\n      <td>0.000000</td>\n      <td>8.763938e+06</td>\n      <td>1.563678e+04</td>\n    </tr>\n    <tr>\n      <th>25%</th>\n      <td>1.010014</td>\n      <td>5149.432500</td>\n      <td>60.155273</td>\n      <td>3.100000</td>\n      <td>16.000000</td>\n      <td>15.000000</td>\n      <td>2.000000</td>\n      <td>0.000000</td>\n      <td>1.092650e+04</td>\n      <td>1.594000e+03</td>\n      <td>200.250000</td>\n      <td>43679.500000</td>\n      <td>8.807500e+02</td>\n      <td>6.000000</td>\n      <td>0.000000</td>\n      <td>38.213398</td>\n      <td>34.330776</td>\n      <td>50.339860</td>\n      <td>1.860524e+09</td>\n      <td>2.058000e+05</td>\n    </tr>\n    <tr>\n      <th>50%</th>\n      <td>1.537125</td>\n      <td>6825.790000</td>\n      <td>105.698029</td>\n      <td>3.900000</td>\n      <td>42.000000</td>\n      <td>32.000000</td>\n      <td>5.000000</td>\n      <td>2.000000</td>\n      <td>2.575850e+04</td>\n      <td>3.766000e+03</td>\n      <td>482.500000</td>\n      <td>50566.500000</td>\n      <td>4.080000e+03</td>\n      <td>19.000000</td>\n      <td>0.000000</td>\n      <td>68.450955</td>\n      <td>54.614412</td>\n      <td>72.340426</td>\n      <td>2.680092e+09</td>\n      <td>2.493543e+05</td>\n    </tr>\n    <tr>\n      <th>75%</th>\n      <td>2.288272</td>\n      <td>8529.000000</td>\n      <td>161.625494</td>\n      <td>4.800000</td>\n      <td>171.000000</td>\n      <td>134.000000</td>\n      <td>14.000000</td>\n      <td>4.000000</td>\n      <td>6.782050e+04</td>\n      <td>9.391250e+03</td>\n      <td>1275.750000</td>\n      <td>58845.500000</td>\n      <td>1.161875e+04</td>\n      <td>55.000000</td>\n      <td>1.000000</td>\n      <td>107.267763</td>\n      <td>72.141680</td>\n      <td>88.000071</td>\n      <td>3.944540e+09</td>\n      <td>3.367670e+05</td>\n    </tr>\n    <tr>\n      <th>max</th>\n      <td>13.043478</td>\n      <td>28439.740000</td>\n      <td>842.266462</td>\n      <td>19.900000</td>\n      <td>23579.000000</td>\n      <td>22419.000000</td>\n      <td>2352.000000</td>\n      <td>523.000000</td>\n      <td>1.010552e+07</td>\n      <td>1.409155e+06</td>\n      <td>239829.000000</td>\n      <td>140382.000000</td>\n      <td>1.299277e+06</td>\n      <td>11554.000000</td>\n      <td>257.000000</td>\n      <td>1564.455569</td>\n      <td>1218.285714</td>\n      <td>200.000000</td>\n      <td>2.228678e+12</td>\n      <td>1.796423e+07</td>\n    </tr>\n  </tbody>\n</table>\n</div>"
     },
     "metadata": {},
     "execution_count": 83
    }
   ],
   "source": [
    "data2.describe()"
   ]
  },
  {
   "source": [
    "<img src='images/county_conf_by_pop.png'>"
   ],
   "cell_type": "markdown",
   "metadata": {}
  },
  {
   "source": [
    "<img src='images/county_confirmed.png'>"
   ],
   "cell_type": "markdown",
   "metadata": {}
  },
  {
   "source": [
    "## 2020 Election Data"
   ],
   "cell_type": "markdown",
   "metadata": {}
  },
  {
   "cell_type": "code",
   "execution_count": 71,
   "metadata": {},
   "outputs": [],
   "source": [
    "# \n",
    "df2020 = pd.read_csv('data/2020_Results.csv')\n",
    "df2020.county_fips = df2020.county_fips.astype(str)\n",
    "df2020.county_fips = df2020.county_fips.apply(lambda x: x.zfill(5))\n",
    "# upload shapefile for USA counties\n",
    "shapefile = 'data/USA_Counties.shp'\n",
    "gdf = gpd.read_file(shapefile)\n",
    "geo = gdf[~gdf.STATE_NAME.isin(['Puerto Rico', 'Alaska', 'Hawaii'])]\n",
    "geo.FIPS = geo.FIPS.astype(str)\n",
    "merged = geo.merge(df2020, left_on='FIPS', right_on='county_fips', how='left')"
   ]
  },
  {
   "cell_type": "code",
   "execution_count": 73,
   "metadata": {},
   "outputs": [],
   "source": [
    "# fig, ax = plt.subplots(1, figsize=(20,20))\n",
    "# merged.plot(column='per_gop', cmap='RdBu_r', linewidth=0.8, ax=ax, edgecolor='black')\n",
    "# ax.axis('off')\n",
    "# ax.set_title('Percentage By County for 2020 Election', fontsize=18)\n",
    "# plt.savefig('images/election2020.png')"
   ]
  },
  {
   "source": [
    "<img src='images/election2020.png'>"
   ],
   "cell_type": "markdown",
   "metadata": {}
  },
  {
   "cell_type": "code",
   "execution_count": null,
   "metadata": {},
   "outputs": [],
   "source": []
  },
  {
   "cell_type": "code",
   "execution_count": null,
   "metadata": {},
   "outputs": [],
   "source": [
    "data2['Staf_Bed_Perc'] = data2.Beds_Staff / data2.Beds_Licen\n",
    "data2['Aged_Perc'] = data2.AgedPop / data2.POP_ESTIMA\n",
    "data2['Pov_Perc'] = data2.POVALL_201 / data2.POP_ESTIMA\n",
    "data2['Aged_Per_ICU'] = data2.AgedPop / data2.Beds_ICU\n",
    "data2.drop(columns=['Unemployed', 'Beds_Licen', 'Beds_Staff', 'Ventilator'], inplace=True)\n",
    "\n",
    "data2.EM_date = data2.EM_date.str.extract(r'((\\d+)\\/(\\d{2})\\/(\\d{4}))')\n",
    "data2.EM_type = data2.EM_type.replace({'Govt Ordered Community Quarantine': 'CQ', 'Govt Directed Social Distancing': 'SD'})"
   ]
  }
 ],
 "metadata": {
  "kernelspec": {
   "display_name": "Python 3",
   "language": "python",
   "name": "python3"
  },
  "language_info": {
   "codemirror_mode": {
    "name": "ipython",
    "version": 3
   },
   "file_extension": ".py",
   "mimetype": "text/x-python",
   "name": "python",
   "nbconvert_exporter": "python",
   "pygments_lexer": "ipython3",
   "version": "3.9.1-final"
  }
 },
 "nbformat": 4,
 "nbformat_minor": 2
}