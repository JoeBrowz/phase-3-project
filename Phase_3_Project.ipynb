{
 "cells": [
  {
   "source": [
    "# Importing Packages"
   ],
   "cell_type": "markdown",
   "metadata": {}
  },
  {
   "cell_type": "code",
   "execution_count": 2,
   "metadata": {},
   "outputs": [],
   "source": [
    "import requests\n",
    "import json\n",
    "from io import StringIO\n",
    "from bs4 import BeautifulSoup as bs\n",
    "from datetime import date, timedelta\n",
    "import covidcast\n",
    "\n",
    "import numpy as np\n",
    "import pandas as pd\n",
    "pd.set_option('display.max_rows', 500)\n",
    "pd.set_option('display.max_columns', 100)\n",
    "\n",
    "import geopandas as gpd\n",
    "import seaborn as sns\n",
    "import matplotlib.pyplot as plt\n",
    "import matplotlib as mpl\n",
    "\n",
    "import pickle\n",
    "\n",
    "from sklearn.pipeline import Pipeline \n",
    "from sklearn.impute import KNNImputer, SimpleImputer \n",
    "from sklearn.preprocessing import StandardScaler\n",
    "from sklearn.model_selection import train_test_split, GridSearchCV\n",
    "from sklearn.ensemble import RandomForestClassifier\n",
    "\n"
   ]
  },
  {
   "cell_type": "markdown",
   "metadata": {},
   "source": [
    "# Data Collection\n",
    "\n",
    "- Dataset was orignally constructed (webscraping/api calls) made and relevant to classification.  At least 1000 rows and at least 10 features."
   ]
  },
  {
   "source": [
    "# Exploratory Data Analysis\n",
    "\n",
    "- Student created at least 2 well-constructed visualizations, discussed descriptive statistics, and is able to interpret and compare or link them together to give a cohesive introduction to the data\n"
   ],
   "cell_type": "markdown",
   "metadata": {}
  },
  {
   "source": [
    "## Geopandas File for Mapping"
   ],
   "cell_type": "markdown",
   "metadata": {}
  },
  {
   "cell_type": "code",
   "execution_count": 33,
   "metadata": {},
   "outputs": [],
   "source": [
    "data = gpd.read_file('https://services9.arcgis.com/6Hv9AANartyT7fJW/arcgis/rest/services/USCounties_cases_V1/FeatureServer/0/query?where=1%3D1&outFields=Countyname,FIPS,Shape__Area,Shape__Length,ST_Name,ST_Abbr,ST_ID,OBJECTID&outSR=4326&f=json')"
   ]
  },
  {
   "cell_type": "markdown",
   "metadata": {},
   "source": [
    "## NYT Mask Wearing Survey Data\n",
    "\n",
    "- This data comes from a large number of interviews conducted online by the global data and survey firm Dynata at the request of The New York Times. \n",
    "- The firm asked a question about mask use to obtain 250,000 survey responses between July 2 and July 14, enough data to provide estimates more detailed than the state level. - (Several states have imposed new mask requirements since the completion of these interviews.)\n",
    "\n",
    "Specifically, each participant was asked: \n",
    "\n",
    "*How often do you wear a mask in public when you expect to be within six feet of another person?*\n",
    "\n",
    "This survey was conducted a single time, and at this point we have no plans to update the data or conduct the survey again.\n",
    "\n",
    "The fields have the following definitions:\n",
    "\n",
    "- **COUNTYFP**: The county FIPS code.\n",
    "- **NEVER**: The estimated share of people in this county who would say never in response to the question: “How often do you wear a mask in public when you expect to be within six feet of another person?”\n",
    "- **RARELY**: The estimated share of people in this county who would say rarely\n",
    "- **SOMETIMES**: The estimated share of people in this county who would say sometimes\n",
    "- **FREQUENTLY**: The estimated share of people in this county who would say frequently\n",
    "- **ALWAYS**: The estimated share of people in this county who would say always\n"
   ]
  },
  {
   "cell_type": "code",
   "execution_count": 3,
   "metadata": {},
   "outputs": [
    {
     "output_type": "execute_result",
     "data": {
      "text/plain": [
       "    FIPS  NEVER  RARELY  SOMETIMES  FREQUENTLY  ALWAYS\n",
       "0  01001  0.053   0.074      0.134       0.295   0.444\n",
       "1  01003  0.083   0.059      0.098       0.323   0.436\n",
       "2  01005  0.067   0.121      0.120       0.201   0.491\n",
       "3  01007  0.020   0.034      0.096       0.278   0.572\n",
       "4  01009  0.053   0.114      0.180       0.194   0.459"
      ],
      "text/html": "<div>\n<style scoped>\n    .dataframe tbody tr th:only-of-type {\n        vertical-align: middle;\n    }\n\n    .dataframe tbody tr th {\n        vertical-align: top;\n    }\n\n    .dataframe thead th {\n        text-align: right;\n    }\n</style>\n<table border=\"1\" class=\"dataframe\">\n  <thead>\n    <tr style=\"text-align: right;\">\n      <th></th>\n      <th>FIPS</th>\n      <th>NEVER</th>\n      <th>RARELY</th>\n      <th>SOMETIMES</th>\n      <th>FREQUENTLY</th>\n      <th>ALWAYS</th>\n    </tr>\n  </thead>\n  <tbody>\n    <tr>\n      <th>0</th>\n      <td>01001</td>\n      <td>0.053</td>\n      <td>0.074</td>\n      <td>0.134</td>\n      <td>0.295</td>\n      <td>0.444</td>\n    </tr>\n    <tr>\n      <th>1</th>\n      <td>01003</td>\n      <td>0.083</td>\n      <td>0.059</td>\n      <td>0.098</td>\n      <td>0.323</td>\n      <td>0.436</td>\n    </tr>\n    <tr>\n      <th>2</th>\n      <td>01005</td>\n      <td>0.067</td>\n      <td>0.121</td>\n      <td>0.120</td>\n      <td>0.201</td>\n      <td>0.491</td>\n    </tr>\n    <tr>\n      <th>3</th>\n      <td>01007</td>\n      <td>0.020</td>\n      <td>0.034</td>\n      <td>0.096</td>\n      <td>0.278</td>\n      <td>0.572</td>\n    </tr>\n    <tr>\n      <th>4</th>\n      <td>01009</td>\n      <td>0.053</td>\n      <td>0.114</td>\n      <td>0.180</td>\n      <td>0.194</td>\n      <td>0.459</td>\n    </tr>\n  </tbody>\n</table>\n</div>"
     },
     "metadata": {},
     "execution_count": 3
    }
   ],
   "source": [
    "url = 'https://raw.githubusercontent.com/nytimes/covid-19-data/master/mask-use/mask-use-by-county.csv'\n",
    "s = requests.get(url).text\n",
    "nymask = pd.read_csv(StringIO(s))\n",
    "nymask.COUNTYFP = nymask.COUNTYFP.astype(str)\n",
    "nymask.COUNTYFP = np.where(nymask['COUNTYFP'].str.len() == 4, '0' + nymask.COUNTYFP, nymask.COUNTYFP)\n",
    "nymask.columns = ['FIPS', 'NEVER', 'RARELY', 'SOMETIMES', 'FREQUENTLY', 'ALWAYS']\n",
    "nymask.head()"
   ]
  },
  {
   "cell_type": "code",
   "execution_count": 4,
   "metadata": {},
   "outputs": [],
   "source": [
    "# fig, ax = plt.subplots(1, figsize=(20,20))\n",
    "# merged.plot(column='trump_pct', cmap='RdBu_r', linewidth=0.8, ax=ax, edgecolor='black')\n",
    "# # ax.axis('off')\n",
    "# # ax.set_title('Percentage By County for 2016 Election', fontsize=18)\n",
    "# # plt.savefig('images/election2016.png')"
   ]
  },
  {
   "source": [
    "<img src='images/fb_mask_data.png'>"
   ],
   "cell_type": "markdown",
   "metadata": {}
  },
  {
   "source": [
    "## Carnegie Mellon Mask Wearing Facebook Survey Data\n",
    "\n",
    "Between the new survey’s deployment on September 8, 2020, and October 7th, the study collected 1,220,000 valid responses from respondents across the United States. \n",
    "Each response includes questions about symptoms, mask wearing, testing, and the other important topics described above, along with demographic details about the respondent. These demographics include age, gender, race, occupation, and education, allowing us to understand how different groups have been affected and which groups are currently most vulnerable to COVID-19. \n",
    "\n",
    "- **smoothed_wearing_mask**\n",
    "  - Estimated percentage of people who wore a mask for most or all of the time while in public in the past 5 days; those not in public in the past 5 days are not counted.\t\n",
    "\n",
    "- **smoothed_others_masked**\n",
    "  - Estimated percentage of respondents who say that most or all other people wear masks, when they are in public and social distancing is not possible\n"
   ],
   "cell_type": "markdown",
   "metadata": {}
  },
  {
   "cell_type": "code",
   "execution_count": 5,
   "metadata": {},
   "outputs": [],
   "source": [
    "# create variable to hold date object for two days ago\n",
    "two_days_ago = date.today() - timedelta(days=2)"
   ]
  },
  {
   "cell_type": "code",
   "execution_count": 6,
   "metadata": {},
   "outputs": [],
   "source": [
    "# get the most recent survey data\n",
    "mask_ind = covidcast.signal(\"fb-survey\", \"smoothed_wearing_mask\",\n",
    "                            date(2020, 10, 1), two_days_ago,\n",
    "                            \"county\")\n",
    "mask_oth = covidcast.signal('fb-survey', 'smoothed_others_masked', \n",
    "                            date(2020, 11, 24),two_days_ago, \n",
    "                            \"county\")"
   ]
  },
  {
   "cell_type": "code",
   "execution_count": 7,
   "metadata": {},
   "outputs": [],
   "source": [
    "# remove data that isn't at the county level\n",
    "mask_fip = mask_ind.loc[~mask_ind.geo_value.str.endswith('000')]\n",
    "mask_oth = mask_oth.loc[~mask_oth.geo_value.str.endswith('000')]"
   ]
  },
  {
   "cell_type": "code",
   "execution_count": 11,
   "metadata": {},
   "outputs": [
    {
     "output_type": "stream",
     "name": "stdout",
     "text": [
      "(726,)\n(677,)\n"
     ]
    },
    {
     "output_type": "execute_result",
     "data": {
      "text/plain": [
       "(655,)"
      ]
     },
     "metadata": {},
     "execution_count": 11
    }
   ],
   "source": [
    "# check number of counties represented \n",
    "print(mask_ind.geo_value.value_counts().shape)\n",
    "print(mask_fip.geo_value.value_counts().shape)\n",
    "mask_oth.geo_value.value_counts().shape"
   ]
  },
  {
   "cell_type": "code",
   "execution_count": 12,
   "metadata": {},
   "outputs": [],
   "source": [
    "# pare down datasets to just columns of interest\n",
    "mask_ind_means = pd.DataFrame(mask_fip.groupby(['geo_value'])['value'].mean()).reset_index()\n",
    "mask_ind_means.columns = ['FIPS', 'ind_mask']\n",
    "mask_ind_means['FIPS'] = mask_ind_means['FIPS'].astype(int)\n",
    "# repeat for other survey\n",
    "mask_oth_means = pd.DataFrame(mask_oth.groupby(['geo_value'])['value'].mean()).reset_index()\n",
    "mask_oth_means.columns = ['FIPS', 'oth_mask']\n",
    "mask_oth_means['FIPS'] = mask_oth_means['FIPS'].astype(int)"
   ]
  },
  {
   "source": [
    "<img src='images/delphi_dec.png'>"
   ],
   "cell_type": "markdown",
   "metadata": {}
  },
  {
   "cell_type": "code",
   "execution_count": 13,
   "metadata": {},
   "outputs": [
    {
     "output_type": "execute_result",
     "data": {
      "text/plain": [
       "   FIPS   ind_mask\n",
       "0  1003  79.671626\n",
       "1  1051  88.291970\n",
       "2  1069  85.591414\n",
       "3  1073  91.454122\n",
       "4  1081  89.816314"
      ],
      "text/html": "<div>\n<style scoped>\n    .dataframe tbody tr th:only-of-type {\n        vertical-align: middle;\n    }\n\n    .dataframe tbody tr th {\n        vertical-align: top;\n    }\n\n    .dataframe thead th {\n        text-align: right;\n    }\n</style>\n<table border=\"1\" class=\"dataframe\">\n  <thead>\n    <tr style=\"text-align: right;\">\n      <th></th>\n      <th>FIPS</th>\n      <th>ind_mask</th>\n    </tr>\n  </thead>\n  <tbody>\n    <tr>\n      <th>0</th>\n      <td>1003</td>\n      <td>79.671626</td>\n    </tr>\n    <tr>\n      <th>1</th>\n      <td>1051</td>\n      <td>88.291970</td>\n    </tr>\n    <tr>\n      <th>2</th>\n      <td>1069</td>\n      <td>85.591414</td>\n    </tr>\n    <tr>\n      <th>3</th>\n      <td>1073</td>\n      <td>91.454122</td>\n    </tr>\n    <tr>\n      <th>4</th>\n      <td>1081</td>\n      <td>89.816314</td>\n    </tr>\n  </tbody>\n</table>\n</div>"
     },
     "metadata": {},
     "execution_count": 13
    }
   ],
   "source": [
    "mask_ind_means.head()"
   ]
  },
  {
   "cell_type": "code",
   "execution_count": 14,
   "metadata": {},
   "outputs": [],
   "source": [
    "mask_ind_means.FIPS = mask_ind_means.FIPS.astype(str)\n",
    "mask_ind_means.FIPS = mask_ind_means.FIPS.apply(lambda x: x.zfill(5))\n",
    "mask_oth_means['FIPS'] = mask_oth_means['FIPS'].astype(str)\n",
    "mask_oth_means.FIPS = mask_oth_means.FIPS.apply(lambda x: x.zfill(5))"
   ]
  },
  {
   "source": [
    "## Johns Hopkins COVID Data Geopandas\n",
    "\n",
    "This feature layer contains the most up-to-date COVID-19 cases for the US. Data is pulled from the Coronavirus COVID-19 Global Cases by the Center for Systems Science and Engineering (CSSE) at Johns Hopkins University, the Red Cross, the Census American Community Survey, and the Bureau of Labor and Statistics, and aggregated at the US county level. \n",
    "\n",
    "This web map created and maintained by the Centers for Civic Impact at the Johns Hopkins University, and is supported by the Esri Living Atlas team and JHU Data Services. It is used in the COVID-19 United States Cases by County dashboard. \n",
    "\n",
    " For more information on Johns Hopkins University’s response to COVID-19, visit the Johns Hopkins Coronavirus Resource Center where our experts help to advance understanding of the virus, inform the public, and brief policymakers in order to guide a response, improve care, and save lives.\n"
   ],
   "cell_type": "markdown",
   "metadata": {}
  },
  {
   "cell_type": "code",
   "execution_count": 15,
   "metadata": {},
   "outputs": [
    {
     "output_type": "stream",
     "name": "stdout",
     "text": [
      "(3331, 88)\n"
     ]
    },
    {
     "output_type": "execute_result",
     "data": {
      "text/plain": [
       "   OBJECTID Countyname  ST_Name ST_Abbr ST_ID   FIPS  FatalityRa  Confirmedb  \\\n",
       "0         1    Autauga  Alabama      AL    01  01001    1.076426     8354.17   \n",
       "1         2    Baldwin  Alabama      AL    01  01003    1.166758     6722.26   \n",
       "2         3    Barbour  Alabama      AL    01  01005    2.191609     6418.55   \n",
       "3         4       Bibb  Alabama      AL    01  01007    2.469136     8678.57   \n",
       "4         5     Blount  Alabama      AL    01  01009    1.367905     8468.19   \n",
       "\n",
       "   DeathsbyPo  PCTPOVALL_  Unemployme  Med_HH_Inc  State_Fata  \\\n",
       "0   89.926440        13.8         3.6    118.9591    1.299898   \n",
       "1   78.432452         9.8         3.6    115.4508    1.299898   \n",
       "2  140.669587        30.9         5.2     68.9280    1.299898   \n",
       "3  214.285714        21.8         4.0     92.3478    1.299898   \n",
       "4  115.836791        13.2         3.5    101.0645    1.299898   \n",
       "\n",
       "            DateChecke                            EM_type  \\\n",
       "0  01/07/2021 11:30:49  Govt Ordered Community Quarantine   \n",
       "1  01/07/2021 11:30:49  Govt Ordered Community Quarantine   \n",
       "2  01/07/2021 11:30:49  Govt Ordered Community Quarantine   \n",
       "3  01/07/2021 11:30:49  Govt Ordered Community Quarantine   \n",
       "4  01/07/2021 11:30:49  Govt Ordered Community Quarantine   \n",
       "\n",
       "                EM_date                                      EM_notes  \\\n",
       "0  4/3/2020 10:40:51 PM  AL Governor issued a Shelter In Place order.   \n",
       "1  4/3/2020 10:41:19 PM  AL Governor issued a Shelter In Place order.   \n",
       "2  4/3/2020 10:43:21 PM  AL Governor issued a Shelter In Place order.   \n",
       "3  4/3/2020 10:40:51 PM  AL Governor issued a Shelter In Place order.   \n",
       "4  4/3/2020 10:40:51 PM  AL Governor issued a Shelter In Place order.   \n",
       "\n",
       "                                                 url  \\\n",
       "0  https://bao.arcgis.com/covid-19/jhu/county/010...   \n",
       "1  https://bao.arcgis.com/covid-19/jhu/county/010...   \n",
       "2  https://bao.arcgis.com/covid-19/jhu/county/010...   \n",
       "3  https://bao.arcgis.com/covid-19/jhu/county/010...   \n",
       "4  https://bao.arcgis.com/covid-19/jhu/county/010...   \n",
       "\n",
       "                                           Thumbnail  Confirmed  Deaths  \\\n",
       "0  https://coronavirus.jhu.edu/static/media/dashb...       4645      50   \n",
       "1  https://coronavirus.jhu.edu/static/media/dashb...      14656     171   \n",
       "2  https://coronavirus.jhu.edu/static/media/dashb...       1597      35   \n",
       "3  https://coronavirus.jhu.edu/static/media/dashb...       1944      48   \n",
       "4  https://coronavirus.jhu.edu/static/media/dashb...       4898      67   \n",
       "\n",
       "   Age_85  Age_80_84  Age_75_79  Age_70_74  Age_65_69  Beds_Licen  Beds_Staff  \\\n",
       "0     815       1026       1498       2440       2271          85          55   \n",
       "1    3949       4792       7373      11410      13141         386         362   \n",
       "2     422        551        841       1305       1515          74          30   \n",
       "3     427        488        624        842       1280          35          25   \n",
       "4     866       1459       1776       2802       3330          25          25   \n",
       "\n",
       "   Beds_ICU  Ventilator  POP_ESTIMA  POVALL_201  Unemployed  Median_Hou  \\\n",
       "0         6           2       55601        7587         942       59338   \n",
       "1        51           8      218022       21069        3393       57588   \n",
       "2         5           2       24881        6788         433       34382   \n",
       "3         4           1       22400        4400         344       46064   \n",
       "4         6           2       57840        7527         878       50412   \n",
       "\n",
       "   Recovered  Active  State_Conf  State_Deat  State_Reco  State_Test  AgedPop  \\\n",
       "0          0       0      384184        4994           0     1997125     8050   \n",
       "1          0       0      384184        4994           0     1997125    40665   \n",
       "2          0       0      384184        4994           0     1997125     4634   \n",
       "3          0       0      384184        4994           0     1997125     3661   \n",
       "4          0       0      384184        4994           0     1997125    10233   \n",
       "\n",
       "   NewCases  NewDeaths  TotalPop  NonHispWhP  BlackPop  AmIndop  AsianPop  \\\n",
       "0        99          0     55200       41412     10475      159       568   \n",
       "1       216          2    208107      172768     19529     1398      1668   \n",
       "2        22          2     25782       11898     12199       63        85   \n",
       "3        21          2     22527       16801      4974        8        37   \n",
       "4        49          4     57645       50232       820      124       198   \n",
       "\n",
       "   PacIslPop  OtherPop  TwoMorPop  HispPop  Wh_Alone  Bk_Alone  AI_Alone  \\\n",
       "0          5        41       1012     1528     42437     10565       159   \n",
       "1          9       410       2972     9353    179526     19764      1522   \n",
       "2          1        86        344     1106     12216     12266        72   \n",
       "3          0         0        160      547     17268      5018         8   \n",
       "4         18       174        818     5261     55054       862       141   \n",
       "\n",
       "   As_Alone  NH_Alone  SO_Alone  Two_More  Not_Hisp  Age_Less15  Age_15_24  \\\n",
       "0       568        32       409      1030     53672       10842       7192   \n",
       "1      1680         9      2034      3572    198754       37621      23497   \n",
       "2        96         1       778       353     24676        4517       3092   \n",
       "3        37         0         9       187     21980        3742       3005   \n",
       "4       198        18       437       935     52384       11112       6906   \n",
       "\n",
       "   Age_25_34  Age_Over75  Agetotal  NonHisp  Age_35_64  Age_65_74  Day_1  \\\n",
       "0       7064        3339     55200     1528      22052       4711   99.0   \n",
       "1      23326       16114    208107     9353      82998      24551  216.0   \n",
       "2       3675        1814     25782     1106       9864       2820   22.0   \n",
       "3       3075        1539     22527      547       9044       2122   21.0   \n",
       "4       6786        4101     57645     5261      22608       6132   49.0   \n",
       "\n",
       "   Day_2  Day_3  Day_4  Day_5  Day_6  Day_7  Day_8  Day_9  Day_10  Day_11  \\\n",
       "0  210.0   31.0   37.0   29.0   49.0   26.0   59.0   40.0    36.0    30.0   \n",
       "1  253.0  123.0  109.0  132.0  222.0  209.0  220.0  210.0   137.0   117.0   \n",
       "2   42.0    3.0    2.0   11.0    3.0   22.0   30.0   45.0    11.0     8.0   \n",
       "3   38.0    3.0   19.0    9.0   20.0   17.0   25.0   30.0    16.0     7.0   \n",
       "4   78.0   25.0   17.0   36.0   52.0   57.0   49.0   52.0    18.0    19.0   \n",
       "\n",
       "   Day_12  Day_13  Day_14  NewCasebyP  Inpat_Occ     ICU_Occ   Shape__Area  \\\n",
       "0     9.0    48.0    53.0  178.054352  96.320346  100.000000  2.209382e+09   \n",
       "1    42.0   145.0   200.0   99.072571  74.029401  120.089286  5.770469e+09   \n",
       "2     2.0     6.0     7.0   88.420883  56.711409   88.571429  3.258643e+09   \n",
       "3    14.0    14.0    28.0   93.750000  19.047619         NaN  2.310715e+09   \n",
       "4     5.0    36.0    38.0   84.716459  76.190476   92.857143  2.456058e+09   \n",
       "\n",
       "   Shape__Length                                           geometry  \n",
       "0  246839.865479  POLYGON ((-86.41312 32.70739, -86.41219 32.526...  \n",
       "1  728445.072448  MULTIPOLYGON (((-87.78878 31.29877, -87.78849 ...  \n",
       "2  307285.154510  POLYGON ((-85.25609 32.13767, -85.25569 32.135...  \n",
       "3  227886.963840  POLYGON ((-87.02685 33.24646, -87.02572 33.209...  \n",
       "4  286306.840721  POLYGON ((-86.44507 34.24954, -86.40902 34.205...  "
      ],
      "text/html": "<div>\n<style scoped>\n    .dataframe tbody tr th:only-of-type {\n        vertical-align: middle;\n    }\n\n    .dataframe tbody tr th {\n        vertical-align: top;\n    }\n\n    .dataframe thead th {\n        text-align: right;\n    }\n</style>\n<table border=\"1\" class=\"dataframe\">\n  <thead>\n    <tr style=\"text-align: right;\">\n      <th></th>\n      <th>OBJECTID</th>\n      <th>Countyname</th>\n      <th>ST_Name</th>\n      <th>ST_Abbr</th>\n      <th>ST_ID</th>\n      <th>FIPS</th>\n      <th>FatalityRa</th>\n      <th>Confirmedb</th>\n      <th>DeathsbyPo</th>\n      <th>PCTPOVALL_</th>\n      <th>Unemployme</th>\n      <th>Med_HH_Inc</th>\n      <th>State_Fata</th>\n      <th>DateChecke</th>\n      <th>EM_type</th>\n      <th>EM_date</th>\n      <th>EM_notes</th>\n      <th>url</th>\n      <th>Thumbnail</th>\n      <th>Confirmed</th>\n      <th>Deaths</th>\n      <th>Age_85</th>\n      <th>Age_80_84</th>\n      <th>Age_75_79</th>\n      <th>Age_70_74</th>\n      <th>Age_65_69</th>\n      <th>Beds_Licen</th>\n      <th>Beds_Staff</th>\n      <th>Beds_ICU</th>\n      <th>Ventilator</th>\n      <th>POP_ESTIMA</th>\n      <th>POVALL_201</th>\n      <th>Unemployed</th>\n      <th>Median_Hou</th>\n      <th>Recovered</th>\n      <th>Active</th>\n      <th>State_Conf</th>\n      <th>State_Deat</th>\n      <th>State_Reco</th>\n      <th>State_Test</th>\n      <th>AgedPop</th>\n      <th>NewCases</th>\n      <th>NewDeaths</th>\n      <th>TotalPop</th>\n      <th>NonHispWhP</th>\n      <th>BlackPop</th>\n      <th>AmIndop</th>\n      <th>AsianPop</th>\n      <th>PacIslPop</th>\n      <th>OtherPop</th>\n      <th>TwoMorPop</th>\n      <th>HispPop</th>\n      <th>Wh_Alone</th>\n      <th>Bk_Alone</th>\n      <th>AI_Alone</th>\n      <th>As_Alone</th>\n      <th>NH_Alone</th>\n      <th>SO_Alone</th>\n      <th>Two_More</th>\n      <th>Not_Hisp</th>\n      <th>Age_Less15</th>\n      <th>Age_15_24</th>\n      <th>Age_25_34</th>\n      <th>Age_Over75</th>\n      <th>Agetotal</th>\n      <th>NonHisp</th>\n      <th>Age_35_64</th>\n      <th>Age_65_74</th>\n      <th>Day_1</th>\n      <th>Day_2</th>\n      <th>Day_3</th>\n      <th>Day_4</th>\n      <th>Day_5</th>\n      <th>Day_6</th>\n      <th>Day_7</th>\n      <th>Day_8</th>\n      <th>Day_9</th>\n      <th>Day_10</th>\n      <th>Day_11</th>\n      <th>Day_12</th>\n      <th>Day_13</th>\n      <th>Day_14</th>\n      <th>NewCasebyP</th>\n      <th>Inpat_Occ</th>\n      <th>ICU_Occ</th>\n      <th>Shape__Area</th>\n      <th>Shape__Length</th>\n      <th>geometry</th>\n    </tr>\n  </thead>\n  <tbody>\n    <tr>\n      <th>0</th>\n      <td>1</td>\n      <td>Autauga</td>\n      <td>Alabama</td>\n      <td>AL</td>\n      <td>01</td>\n      <td>01001</td>\n      <td>1.076426</td>\n      <td>8354.17</td>\n      <td>89.926440</td>\n      <td>13.8</td>\n      <td>3.6</td>\n      <td>118.9591</td>\n      <td>1.299898</td>\n      <td>01/07/2021 11:30:49</td>\n      <td>Govt Ordered Community Quarantine</td>\n      <td>4/3/2020 10:40:51 PM</td>\n      <td>AL Governor issued a Shelter In Place order.</td>\n      <td>https://bao.arcgis.com/covid-19/jhu/county/010...</td>\n      <td>https://coronavirus.jhu.edu/static/media/dashb...</td>\n      <td>4645</td>\n      <td>50</td>\n      <td>815</td>\n      <td>1026</td>\n      <td>1498</td>\n      <td>2440</td>\n      <td>2271</td>\n      <td>85</td>\n      <td>55</td>\n      <td>6</td>\n      <td>2</td>\n      <td>55601</td>\n      <td>7587</td>\n      <td>942</td>\n      <td>59338</td>\n      <td>0</td>\n      <td>0</td>\n      <td>384184</td>\n      <td>4994</td>\n      <td>0</td>\n      <td>1997125</td>\n      <td>8050</td>\n      <td>99</td>\n      <td>0</td>\n      <td>55200</td>\n      <td>41412</td>\n      <td>10475</td>\n      <td>159</td>\n      <td>568</td>\n      <td>5</td>\n      <td>41</td>\n      <td>1012</td>\n      <td>1528</td>\n      <td>42437</td>\n      <td>10565</td>\n      <td>159</td>\n      <td>568</td>\n      <td>32</td>\n      <td>409</td>\n      <td>1030</td>\n      <td>53672</td>\n      <td>10842</td>\n      <td>7192</td>\n      <td>7064</td>\n      <td>3339</td>\n      <td>55200</td>\n      <td>1528</td>\n      <td>22052</td>\n      <td>4711</td>\n      <td>99.0</td>\n      <td>210.0</td>\n      <td>31.0</td>\n      <td>37.0</td>\n      <td>29.0</td>\n      <td>49.0</td>\n      <td>26.0</td>\n      <td>59.0</td>\n      <td>40.0</td>\n      <td>36.0</td>\n      <td>30.0</td>\n      <td>9.0</td>\n      <td>48.0</td>\n      <td>53.0</td>\n      <td>178.054352</td>\n      <td>96.320346</td>\n      <td>100.000000</td>\n      <td>2.209382e+09</td>\n      <td>246839.865479</td>\n      <td>POLYGON ((-86.41312 32.70739, -86.41219 32.526...</td>\n    </tr>\n    <tr>\n      <th>1</th>\n      <td>2</td>\n      <td>Baldwin</td>\n      <td>Alabama</td>\n      <td>AL</td>\n      <td>01</td>\n      <td>01003</td>\n      <td>1.166758</td>\n      <td>6722.26</td>\n      <td>78.432452</td>\n      <td>9.8</td>\n      <td>3.6</td>\n      <td>115.4508</td>\n      <td>1.299898</td>\n      <td>01/07/2021 11:30:49</td>\n      <td>Govt Ordered Community Quarantine</td>\n      <td>4/3/2020 10:41:19 PM</td>\n      <td>AL Governor issued a Shelter In Place order.</td>\n      <td>https://bao.arcgis.com/covid-19/jhu/county/010...</td>\n      <td>https://coronavirus.jhu.edu/static/media/dashb...</td>\n      <td>14656</td>\n      <td>171</td>\n      <td>3949</td>\n      <td>4792</td>\n      <td>7373</td>\n      <td>11410</td>\n      <td>13141</td>\n      <td>386</td>\n      <td>362</td>\n      <td>51</td>\n      <td>8</td>\n      <td>218022</td>\n      <td>21069</td>\n      <td>3393</td>\n      <td>57588</td>\n      <td>0</td>\n      <td>0</td>\n      <td>384184</td>\n      <td>4994</td>\n      <td>0</td>\n      <td>1997125</td>\n      <td>40665</td>\n      <td>216</td>\n      <td>2</td>\n      <td>208107</td>\n      <td>172768</td>\n      <td>19529</td>\n      <td>1398</td>\n      <td>1668</td>\n      <td>9</td>\n      <td>410</td>\n      <td>2972</td>\n      <td>9353</td>\n      <td>179526</td>\n      <td>19764</td>\n      <td>1522</td>\n      <td>1680</td>\n      <td>9</td>\n      <td>2034</td>\n      <td>3572</td>\n      <td>198754</td>\n      <td>37621</td>\n      <td>23497</td>\n      <td>23326</td>\n      <td>16114</td>\n      <td>208107</td>\n      <td>9353</td>\n      <td>82998</td>\n      <td>24551</td>\n      <td>216.0</td>\n      <td>253.0</td>\n      <td>123.0</td>\n      <td>109.0</td>\n      <td>132.0</td>\n      <td>222.0</td>\n      <td>209.0</td>\n      <td>220.0</td>\n      <td>210.0</td>\n      <td>137.0</td>\n      <td>117.0</td>\n      <td>42.0</td>\n      <td>145.0</td>\n      <td>200.0</td>\n      <td>99.072571</td>\n      <td>74.029401</td>\n      <td>120.089286</td>\n      <td>5.770469e+09</td>\n      <td>728445.072448</td>\n      <td>MULTIPOLYGON (((-87.78878 31.29877, -87.78849 ...</td>\n    </tr>\n    <tr>\n      <th>2</th>\n      <td>3</td>\n      <td>Barbour</td>\n      <td>Alabama</td>\n      <td>AL</td>\n      <td>01</td>\n      <td>01005</td>\n      <td>2.191609</td>\n      <td>6418.55</td>\n      <td>140.669587</td>\n      <td>30.9</td>\n      <td>5.2</td>\n      <td>68.9280</td>\n      <td>1.299898</td>\n      <td>01/07/2021 11:30:49</td>\n      <td>Govt Ordered Community Quarantine</td>\n      <td>4/3/2020 10:43:21 PM</td>\n      <td>AL Governor issued a Shelter In Place order.</td>\n      <td>https://bao.arcgis.com/covid-19/jhu/county/010...</td>\n      <td>https://coronavirus.jhu.edu/static/media/dashb...</td>\n      <td>1597</td>\n      <td>35</td>\n      <td>422</td>\n      <td>551</td>\n      <td>841</td>\n      <td>1305</td>\n      <td>1515</td>\n      <td>74</td>\n      <td>30</td>\n      <td>5</td>\n      <td>2</td>\n      <td>24881</td>\n      <td>6788</td>\n      <td>433</td>\n      <td>34382</td>\n      <td>0</td>\n      <td>0</td>\n      <td>384184</td>\n      <td>4994</td>\n      <td>0</td>\n      <td>1997125</td>\n      <td>4634</td>\n      <td>22</td>\n      <td>2</td>\n      <td>25782</td>\n      <td>11898</td>\n      <td>12199</td>\n      <td>63</td>\n      <td>85</td>\n      <td>1</td>\n      <td>86</td>\n      <td>344</td>\n      <td>1106</td>\n      <td>12216</td>\n      <td>12266</td>\n      <td>72</td>\n      <td>96</td>\n      <td>1</td>\n      <td>778</td>\n      <td>353</td>\n      <td>24676</td>\n      <td>4517</td>\n      <td>3092</td>\n      <td>3675</td>\n      <td>1814</td>\n      <td>25782</td>\n      <td>1106</td>\n      <td>9864</td>\n      <td>2820</td>\n      <td>22.0</td>\n      <td>42.0</td>\n      <td>3.0</td>\n      <td>2.0</td>\n      <td>11.0</td>\n      <td>3.0</td>\n      <td>22.0</td>\n      <td>30.0</td>\n      <td>45.0</td>\n      <td>11.0</td>\n      <td>8.0</td>\n      <td>2.0</td>\n      <td>6.0</td>\n      <td>7.0</td>\n      <td>88.420883</td>\n      <td>56.711409</td>\n      <td>88.571429</td>\n      <td>3.258643e+09</td>\n      <td>307285.154510</td>\n      <td>POLYGON ((-85.25609 32.13767, -85.25569 32.135...</td>\n    </tr>\n    <tr>\n      <th>3</th>\n      <td>4</td>\n      <td>Bibb</td>\n      <td>Alabama</td>\n      <td>AL</td>\n      <td>01</td>\n      <td>01007</td>\n      <td>2.469136</td>\n      <td>8678.57</td>\n      <td>214.285714</td>\n      <td>21.8</td>\n      <td>4.0</td>\n      <td>92.3478</td>\n      <td>1.299898</td>\n      <td>01/07/2021 11:30:49</td>\n      <td>Govt Ordered Community Quarantine</td>\n      <td>4/3/2020 10:40:51 PM</td>\n      <td>AL Governor issued a Shelter In Place order.</td>\n      <td>https://bao.arcgis.com/covid-19/jhu/county/010...</td>\n      <td>https://coronavirus.jhu.edu/static/media/dashb...</td>\n      <td>1944</td>\n      <td>48</td>\n      <td>427</td>\n      <td>488</td>\n      <td>624</td>\n      <td>842</td>\n      <td>1280</td>\n      <td>35</td>\n      <td>25</td>\n      <td>4</td>\n      <td>1</td>\n      <td>22400</td>\n      <td>4400</td>\n      <td>344</td>\n      <td>46064</td>\n      <td>0</td>\n      <td>0</td>\n      <td>384184</td>\n      <td>4994</td>\n      <td>0</td>\n      <td>1997125</td>\n      <td>3661</td>\n      <td>21</td>\n      <td>2</td>\n      <td>22527</td>\n      <td>16801</td>\n      <td>4974</td>\n      <td>8</td>\n      <td>37</td>\n      <td>0</td>\n      <td>0</td>\n      <td>160</td>\n      <td>547</td>\n      <td>17268</td>\n      <td>5018</td>\n      <td>8</td>\n      <td>37</td>\n      <td>0</td>\n      <td>9</td>\n      <td>187</td>\n      <td>21980</td>\n      <td>3742</td>\n      <td>3005</td>\n      <td>3075</td>\n      <td>1539</td>\n      <td>22527</td>\n      <td>547</td>\n      <td>9044</td>\n      <td>2122</td>\n      <td>21.0</td>\n      <td>38.0</td>\n      <td>3.0</td>\n      <td>19.0</td>\n      <td>9.0</td>\n      <td>20.0</td>\n      <td>17.0</td>\n      <td>25.0</td>\n      <td>30.0</td>\n      <td>16.0</td>\n      <td>7.0</td>\n      <td>14.0</td>\n      <td>14.0</td>\n      <td>28.0</td>\n      <td>93.750000</td>\n      <td>19.047619</td>\n      <td>NaN</td>\n      <td>2.310715e+09</td>\n      <td>227886.963840</td>\n      <td>POLYGON ((-87.02685 33.24646, -87.02572 33.209...</td>\n    </tr>\n    <tr>\n      <th>4</th>\n      <td>5</td>\n      <td>Blount</td>\n      <td>Alabama</td>\n      <td>AL</td>\n      <td>01</td>\n      <td>01009</td>\n      <td>1.367905</td>\n      <td>8468.19</td>\n      <td>115.836791</td>\n      <td>13.2</td>\n      <td>3.5</td>\n      <td>101.0645</td>\n      <td>1.299898</td>\n      <td>01/07/2021 11:30:49</td>\n      <td>Govt Ordered Community Quarantine</td>\n      <td>4/3/2020 10:40:51 PM</td>\n      <td>AL Governor issued a Shelter In Place order.</td>\n      <td>https://bao.arcgis.com/covid-19/jhu/county/010...</td>\n      <td>https://coronavirus.jhu.edu/static/media/dashb...</td>\n      <td>4898</td>\n      <td>67</td>\n      <td>866</td>\n      <td>1459</td>\n      <td>1776</td>\n      <td>2802</td>\n      <td>3330</td>\n      <td>25</td>\n      <td>25</td>\n      <td>6</td>\n      <td>2</td>\n      <td>57840</td>\n      <td>7527</td>\n      <td>878</td>\n      <td>50412</td>\n      <td>0</td>\n      <td>0</td>\n      <td>384184</td>\n      <td>4994</td>\n      <td>0</td>\n      <td>1997125</td>\n      <td>10233</td>\n      <td>49</td>\n      <td>4</td>\n      <td>57645</td>\n      <td>50232</td>\n      <td>820</td>\n      <td>124</td>\n      <td>198</td>\n      <td>18</td>\n      <td>174</td>\n      <td>818</td>\n      <td>5261</td>\n      <td>55054</td>\n      <td>862</td>\n      <td>141</td>\n      <td>198</td>\n      <td>18</td>\n      <td>437</td>\n      <td>935</td>\n      <td>52384</td>\n      <td>11112</td>\n      <td>6906</td>\n      <td>6786</td>\n      <td>4101</td>\n      <td>57645</td>\n      <td>5261</td>\n      <td>22608</td>\n      <td>6132</td>\n      <td>49.0</td>\n      <td>78.0</td>\n      <td>25.0</td>\n      <td>17.0</td>\n      <td>36.0</td>\n      <td>52.0</td>\n      <td>57.0</td>\n      <td>49.0</td>\n      <td>52.0</td>\n      <td>18.0</td>\n      <td>19.0</td>\n      <td>5.0</td>\n      <td>36.0</td>\n      <td>38.0</td>\n      <td>84.716459</td>\n      <td>76.190476</td>\n      <td>92.857143</td>\n      <td>2.456058e+09</td>\n      <td>286306.840721</td>\n      <td>POLYGON ((-86.44507 34.24954, -86.40902 34.205...</td>\n    </tr>\n  </tbody>\n</table>\n</div>"
     },
     "metadata": {},
     "execution_count": 15
    }
   ],
   "source": [
    "geo = gpd.read_file('https://opendata.arcgis.com/datasets/4cb598ae041348fb92270f102a6783cb_0.geojson')\n",
    "print(geo.shape)\n",
    "geo.head()"
   ]
  },
  {
   "source": [
    "- FatalityRa = County Fatality Rate\n",
    "- Confirmedb = County Confirmed divided by County Population * 100,000\n",
    "- DeathsbyPo = County Deaths divided by County Population * 100,000\n",
    "- Unemployme = Unemployment Rate\n",
    "- EM_type, EM_date, EM_notes - could be turned into a column about Emergency Declaration\n",
    "- Confirmed = County Level Confirmed Cases\n",
    "- Deaths = County Level Deaths\n",
    "- Beds_Licen = Number of Licensed Beds \n",
    "- Beds_Staff = Number of Staffed Beds \n",
    "- Beds_ICU = Number of ICU Beds \n",
    "- Ventilator = Average Ventilation Used Per Hospital\n",
    "- POP_ESTIMA = Total Population\n",
    "- POVALL_201 = Poverty Rate\n",
    "- Median_Hou - Median Household Income\n",
    "- Recovered = Number of Recovered Cases\n",
    "- Active = Number of Active Cases\n",
    "- AgedPop = TOtal Population Aged 65 Plus\n",
    "- NewCases = New cases since yesterday\n",
    "- NewDeaths = Newdeaths since yesterday\n",
    "- Wh_Alone, Bk_Alone, AI_Alone, As_Alone, NH_Alone, SO_Alone, Two_More, Not_Hisp = Population numbers of each group\n",
    "- Age_? = Population numbers of age groups\n",
    "- NewCasebyP = I think this is new case by percentage\n",
    "- ICU_Occ, Inpat_Occ = Percent Occupied of ICUs and Inpatient Beds\n",
    "- Shape_Area, Shape_Length = for mapping\n",
    "\n"
   ],
   "cell_type": "markdown",
   "metadata": {}
  },
  {
   "cell_type": "code",
   "execution_count": 16,
   "metadata": {},
   "outputs": [],
   "source": [
    "# remove all the rows with Unassigned and Out of [State] designations for county name, as well as Puerto Rico\n",
    "geo = geo[~geo.Countyname.str.contains(\"Out of\")]\n",
    "geo = geo[~geo.Countyname.str.contains(\"Unassigned\")]\n",
    "geo = geo[~geo.ST_Name.str.contains(\"Puerto Rico\")]\n",
    "geo.drop(geo.tail(7).index, inplace=True)"
   ]
  },
  {
   "cell_type": "code",
   "execution_count": 17,
   "metadata": {},
   "outputs": [],
   "source": [
    "# remove Day_1 to Day_14 columns, unclear what the days represent\n",
    "geo.drop(columns=['Day_1', 'Day_2', 'Day_3', 'Day_4', 'Day_5', 'Day_6', 'Day_7', 'Day_8', 'Day_9', 'Day_10', 'Day_11', 'Day_12', 'Day_13', 'Day_14'], inplace=True)\n",
    "# State level data columns were dropped, as well as any ID and repeated population data\n",
    "geo.drop(columns=['OBJECTID', 'ST_ID', 'Med_HH_Inc', 'State_Fata', 'DateChecke', 'url', 'Thumbnail', 'State_Conf', 'State_Deat', 'State_Reco', 'State_Test'], inplace=True)\n",
    "# Kept Deaths per \n",
    "geo.drop(columns=['Confirmed', 'Deaths', 'EM_notes'], inplace=True)"
   ]
  },
  {
   "cell_type": "code",
   "execution_count": 18,
   "metadata": {},
   "outputs": [],
   "source": [
    "geo.EM_type = geo.EM_type.replace({'Govt Ordered Community Quarantine': 'CQ', 'Govt Directed Social Distancing': 'SD'})\n",
    "geo.EM_date = geo.EM_date.str.extract(r'((\\d+)\\/(\\d{2})\\/(\\d{4}))')"
   ]
  },
  {
   "cell_type": "code",
   "execution_count": 19,
   "metadata": {},
   "outputs": [
    {
     "output_type": "execute_result",
     "data": {
      "text/plain": [
       "  Countyname  ST_Name ST_Abbr   FIPS  FatalityRa  Confirmedb  DeathsbyPo  \\\n",
       "0    Autauga  Alabama      AL  01001    1.076426     8354.17   89.926440   \n",
       "1    Baldwin  Alabama      AL  01003    1.166758     6722.26   78.432452   \n",
       "2    Barbour  Alabama      AL  01005    2.191609     6418.55  140.669587   \n",
       "3       Bibb  Alabama      AL  01007    2.469136     8678.57  214.285714   \n",
       "4     Blount  Alabama      AL  01009    1.367905     8468.19  115.836791   \n",
       "\n",
       "   PCTPOVALL_  Unemployme EM_type EM_date  Age_85  Age_80_84  Age_75_79  \\\n",
       "0        13.8         3.6      CQ     NaN     815       1026       1498   \n",
       "1         9.8         3.6      CQ     NaN    3949       4792       7373   \n",
       "2        30.9         5.2      CQ     NaN     422        551        841   \n",
       "3        21.8         4.0      CQ     NaN     427        488        624   \n",
       "4        13.2         3.5      CQ     NaN     866       1459       1776   \n",
       "\n",
       "   Age_70_74  Age_65_69  Beds_Licen  Beds_Staff  Beds_ICU  Ventilator  \\\n",
       "0       2440       2271          85          55         6           2   \n",
       "1      11410      13141         386         362        51           8   \n",
       "2       1305       1515          74          30         5           2   \n",
       "3        842       1280          35          25         4           1   \n",
       "4       2802       3330          25          25         6           2   \n",
       "\n",
       "   POP_ESTIMA  POVALL_201  Unemployed  Median_Hou  Recovered  Active  AgedPop  \\\n",
       "0       55601        7587         942       59338          0       0     8050   \n",
       "1      218022       21069        3393       57588          0       0    40665   \n",
       "2       24881        6788         433       34382          0       0     4634   \n",
       "3       22400        4400         344       46064          0       0     3661   \n",
       "4       57840        7527         878       50412          0       0    10233   \n",
       "\n",
       "   NewCases  NewDeaths  TotalPop  NonHispWhP  BlackPop  AmIndop  AsianPop  \\\n",
       "0        99          0     55200       41412     10475      159       568   \n",
       "1       216          2    208107      172768     19529     1398      1668   \n",
       "2        22          2     25782       11898     12199       63        85   \n",
       "3        21          2     22527       16801      4974        8        37   \n",
       "4        49          4     57645       50232       820      124       198   \n",
       "\n",
       "   PacIslPop  OtherPop  TwoMorPop  HispPop  Wh_Alone  Bk_Alone  AI_Alone  \\\n",
       "0          5        41       1012     1528     42437     10565       159   \n",
       "1          9       410       2972     9353    179526     19764      1522   \n",
       "2          1        86        344     1106     12216     12266        72   \n",
       "3          0         0        160      547     17268      5018         8   \n",
       "4         18       174        818     5261     55054       862       141   \n",
       "\n",
       "   As_Alone  NH_Alone  SO_Alone  Two_More  Not_Hisp  Age_Less15  Age_15_24  \\\n",
       "0       568        32       409      1030     53672       10842       7192   \n",
       "1      1680         9      2034      3572    198754       37621      23497   \n",
       "2        96         1       778       353     24676        4517       3092   \n",
       "3        37         0         9       187     21980        3742       3005   \n",
       "4       198        18       437       935     52384       11112       6906   \n",
       "\n",
       "   Age_25_34  Age_Over75  Agetotal  NonHisp  Age_35_64  Age_65_74  NewCasebyP  \\\n",
       "0       7064        3339     55200     1528      22052       4711  178.054352   \n",
       "1      23326       16114    208107     9353      82998      24551   99.072571   \n",
       "2       3675        1814     25782     1106       9864       2820   88.420883   \n",
       "3       3075        1539     22527      547       9044       2122   93.750000   \n",
       "4       6786        4101     57645     5261      22608       6132   84.716459   \n",
       "\n",
       "   Inpat_Occ     ICU_Occ   Shape__Area  Shape__Length  \\\n",
       "0  96.320346  100.000000  2.209382e+09  246839.865479   \n",
       "1  74.029401  120.089286  5.770469e+09  728445.072448   \n",
       "2  56.711409   88.571429  3.258643e+09  307285.154510   \n",
       "3  19.047619         NaN  2.310715e+09  227886.963840   \n",
       "4  76.190476   92.857143  2.456058e+09  286306.840721   \n",
       "\n",
       "                                            geometry  \n",
       "0  POLYGON ((-86.41312 32.70739, -86.41219 32.526...  \n",
       "1  MULTIPOLYGON (((-87.78878 31.29877, -87.78849 ...  \n",
       "2  POLYGON ((-85.25609 32.13767, -85.25569 32.135...  \n",
       "3  POLYGON ((-87.02685 33.24646, -87.02572 33.209...  \n",
       "4  POLYGON ((-86.44507 34.24954, -86.40902 34.205...  "
      ],
      "text/html": "<div>\n<style scoped>\n    .dataframe tbody tr th:only-of-type {\n        vertical-align: middle;\n    }\n\n    .dataframe tbody tr th {\n        vertical-align: top;\n    }\n\n    .dataframe thead th {\n        text-align: right;\n    }\n</style>\n<table border=\"1\" class=\"dataframe\">\n  <thead>\n    <tr style=\"text-align: right;\">\n      <th></th>\n      <th>Countyname</th>\n      <th>ST_Name</th>\n      <th>ST_Abbr</th>\n      <th>FIPS</th>\n      <th>FatalityRa</th>\n      <th>Confirmedb</th>\n      <th>DeathsbyPo</th>\n      <th>PCTPOVALL_</th>\n      <th>Unemployme</th>\n      <th>EM_type</th>\n      <th>EM_date</th>\n      <th>Age_85</th>\n      <th>Age_80_84</th>\n      <th>Age_75_79</th>\n      <th>Age_70_74</th>\n      <th>Age_65_69</th>\n      <th>Beds_Licen</th>\n      <th>Beds_Staff</th>\n      <th>Beds_ICU</th>\n      <th>Ventilator</th>\n      <th>POP_ESTIMA</th>\n      <th>POVALL_201</th>\n      <th>Unemployed</th>\n      <th>Median_Hou</th>\n      <th>Recovered</th>\n      <th>Active</th>\n      <th>AgedPop</th>\n      <th>NewCases</th>\n      <th>NewDeaths</th>\n      <th>TotalPop</th>\n      <th>NonHispWhP</th>\n      <th>BlackPop</th>\n      <th>AmIndop</th>\n      <th>AsianPop</th>\n      <th>PacIslPop</th>\n      <th>OtherPop</th>\n      <th>TwoMorPop</th>\n      <th>HispPop</th>\n      <th>Wh_Alone</th>\n      <th>Bk_Alone</th>\n      <th>AI_Alone</th>\n      <th>As_Alone</th>\n      <th>NH_Alone</th>\n      <th>SO_Alone</th>\n      <th>Two_More</th>\n      <th>Not_Hisp</th>\n      <th>Age_Less15</th>\n      <th>Age_15_24</th>\n      <th>Age_25_34</th>\n      <th>Age_Over75</th>\n      <th>Agetotal</th>\n      <th>NonHisp</th>\n      <th>Age_35_64</th>\n      <th>Age_65_74</th>\n      <th>NewCasebyP</th>\n      <th>Inpat_Occ</th>\n      <th>ICU_Occ</th>\n      <th>Shape__Area</th>\n      <th>Shape__Length</th>\n      <th>geometry</th>\n    </tr>\n  </thead>\n  <tbody>\n    <tr>\n      <th>0</th>\n      <td>Autauga</td>\n      <td>Alabama</td>\n      <td>AL</td>\n      <td>01001</td>\n      <td>1.076426</td>\n      <td>8354.17</td>\n      <td>89.926440</td>\n      <td>13.8</td>\n      <td>3.6</td>\n      <td>CQ</td>\n      <td>NaN</td>\n      <td>815</td>\n      <td>1026</td>\n      <td>1498</td>\n      <td>2440</td>\n      <td>2271</td>\n      <td>85</td>\n      <td>55</td>\n      <td>6</td>\n      <td>2</td>\n      <td>55601</td>\n      <td>7587</td>\n      <td>942</td>\n      <td>59338</td>\n      <td>0</td>\n      <td>0</td>\n      <td>8050</td>\n      <td>99</td>\n      <td>0</td>\n      <td>55200</td>\n      <td>41412</td>\n      <td>10475</td>\n      <td>159</td>\n      <td>568</td>\n      <td>5</td>\n      <td>41</td>\n      <td>1012</td>\n      <td>1528</td>\n      <td>42437</td>\n      <td>10565</td>\n      <td>159</td>\n      <td>568</td>\n      <td>32</td>\n      <td>409</td>\n      <td>1030</td>\n      <td>53672</td>\n      <td>10842</td>\n      <td>7192</td>\n      <td>7064</td>\n      <td>3339</td>\n      <td>55200</td>\n      <td>1528</td>\n      <td>22052</td>\n      <td>4711</td>\n      <td>178.054352</td>\n      <td>96.320346</td>\n      <td>100.000000</td>\n      <td>2.209382e+09</td>\n      <td>246839.865479</td>\n      <td>POLYGON ((-86.41312 32.70739, -86.41219 32.526...</td>\n    </tr>\n    <tr>\n      <th>1</th>\n      <td>Baldwin</td>\n      <td>Alabama</td>\n      <td>AL</td>\n      <td>01003</td>\n      <td>1.166758</td>\n      <td>6722.26</td>\n      <td>78.432452</td>\n      <td>9.8</td>\n      <td>3.6</td>\n      <td>CQ</td>\n      <td>NaN</td>\n      <td>3949</td>\n      <td>4792</td>\n      <td>7373</td>\n      <td>11410</td>\n      <td>13141</td>\n      <td>386</td>\n      <td>362</td>\n      <td>51</td>\n      <td>8</td>\n      <td>218022</td>\n      <td>21069</td>\n      <td>3393</td>\n      <td>57588</td>\n      <td>0</td>\n      <td>0</td>\n      <td>40665</td>\n      <td>216</td>\n      <td>2</td>\n      <td>208107</td>\n      <td>172768</td>\n      <td>19529</td>\n      <td>1398</td>\n      <td>1668</td>\n      <td>9</td>\n      <td>410</td>\n      <td>2972</td>\n      <td>9353</td>\n      <td>179526</td>\n      <td>19764</td>\n      <td>1522</td>\n      <td>1680</td>\n      <td>9</td>\n      <td>2034</td>\n      <td>3572</td>\n      <td>198754</td>\n      <td>37621</td>\n      <td>23497</td>\n      <td>23326</td>\n      <td>16114</td>\n      <td>208107</td>\n      <td>9353</td>\n      <td>82998</td>\n      <td>24551</td>\n      <td>99.072571</td>\n      <td>74.029401</td>\n      <td>120.089286</td>\n      <td>5.770469e+09</td>\n      <td>728445.072448</td>\n      <td>MULTIPOLYGON (((-87.78878 31.29877, -87.78849 ...</td>\n    </tr>\n    <tr>\n      <th>2</th>\n      <td>Barbour</td>\n      <td>Alabama</td>\n      <td>AL</td>\n      <td>01005</td>\n      <td>2.191609</td>\n      <td>6418.55</td>\n      <td>140.669587</td>\n      <td>30.9</td>\n      <td>5.2</td>\n      <td>CQ</td>\n      <td>NaN</td>\n      <td>422</td>\n      <td>551</td>\n      <td>841</td>\n      <td>1305</td>\n      <td>1515</td>\n      <td>74</td>\n      <td>30</td>\n      <td>5</td>\n      <td>2</td>\n      <td>24881</td>\n      <td>6788</td>\n      <td>433</td>\n      <td>34382</td>\n      <td>0</td>\n      <td>0</td>\n      <td>4634</td>\n      <td>22</td>\n      <td>2</td>\n      <td>25782</td>\n      <td>11898</td>\n      <td>12199</td>\n      <td>63</td>\n      <td>85</td>\n      <td>1</td>\n      <td>86</td>\n      <td>344</td>\n      <td>1106</td>\n      <td>12216</td>\n      <td>12266</td>\n      <td>72</td>\n      <td>96</td>\n      <td>1</td>\n      <td>778</td>\n      <td>353</td>\n      <td>24676</td>\n      <td>4517</td>\n      <td>3092</td>\n      <td>3675</td>\n      <td>1814</td>\n      <td>25782</td>\n      <td>1106</td>\n      <td>9864</td>\n      <td>2820</td>\n      <td>88.420883</td>\n      <td>56.711409</td>\n      <td>88.571429</td>\n      <td>3.258643e+09</td>\n      <td>307285.154510</td>\n      <td>POLYGON ((-85.25609 32.13767, -85.25569 32.135...</td>\n    </tr>\n    <tr>\n      <th>3</th>\n      <td>Bibb</td>\n      <td>Alabama</td>\n      <td>AL</td>\n      <td>01007</td>\n      <td>2.469136</td>\n      <td>8678.57</td>\n      <td>214.285714</td>\n      <td>21.8</td>\n      <td>4.0</td>\n      <td>CQ</td>\n      <td>NaN</td>\n      <td>427</td>\n      <td>488</td>\n      <td>624</td>\n      <td>842</td>\n      <td>1280</td>\n      <td>35</td>\n      <td>25</td>\n      <td>4</td>\n      <td>1</td>\n      <td>22400</td>\n      <td>4400</td>\n      <td>344</td>\n      <td>46064</td>\n      <td>0</td>\n      <td>0</td>\n      <td>3661</td>\n      <td>21</td>\n      <td>2</td>\n      <td>22527</td>\n      <td>16801</td>\n      <td>4974</td>\n      <td>8</td>\n      <td>37</td>\n      <td>0</td>\n      <td>0</td>\n      <td>160</td>\n      <td>547</td>\n      <td>17268</td>\n      <td>5018</td>\n      <td>8</td>\n      <td>37</td>\n      <td>0</td>\n      <td>9</td>\n      <td>187</td>\n      <td>21980</td>\n      <td>3742</td>\n      <td>3005</td>\n      <td>3075</td>\n      <td>1539</td>\n      <td>22527</td>\n      <td>547</td>\n      <td>9044</td>\n      <td>2122</td>\n      <td>93.750000</td>\n      <td>19.047619</td>\n      <td>NaN</td>\n      <td>2.310715e+09</td>\n      <td>227886.963840</td>\n      <td>POLYGON ((-87.02685 33.24646, -87.02572 33.209...</td>\n    </tr>\n    <tr>\n      <th>4</th>\n      <td>Blount</td>\n      <td>Alabama</td>\n      <td>AL</td>\n      <td>01009</td>\n      <td>1.367905</td>\n      <td>8468.19</td>\n      <td>115.836791</td>\n      <td>13.2</td>\n      <td>3.5</td>\n      <td>CQ</td>\n      <td>NaN</td>\n      <td>866</td>\n      <td>1459</td>\n      <td>1776</td>\n      <td>2802</td>\n      <td>3330</td>\n      <td>25</td>\n      <td>25</td>\n      <td>6</td>\n      <td>2</td>\n      <td>57840</td>\n      <td>7527</td>\n      <td>878</td>\n      <td>50412</td>\n      <td>0</td>\n      <td>0</td>\n      <td>10233</td>\n      <td>49</td>\n      <td>4</td>\n      <td>57645</td>\n      <td>50232</td>\n      <td>820</td>\n      <td>124</td>\n      <td>198</td>\n      <td>18</td>\n      <td>174</td>\n      <td>818</td>\n      <td>5261</td>\n      <td>55054</td>\n      <td>862</td>\n      <td>141</td>\n      <td>198</td>\n      <td>18</td>\n      <td>437</td>\n      <td>935</td>\n      <td>52384</td>\n      <td>11112</td>\n      <td>6906</td>\n      <td>6786</td>\n      <td>4101</td>\n      <td>57645</td>\n      <td>5261</td>\n      <td>22608</td>\n      <td>6132</td>\n      <td>84.716459</td>\n      <td>76.190476</td>\n      <td>92.857143</td>\n      <td>2.456058e+09</td>\n      <td>286306.840721</td>\n      <td>POLYGON ((-86.44507 34.24954, -86.40902 34.205...</td>\n    </tr>\n  </tbody>\n</table>\n</div>"
     },
     "metadata": {},
     "execution_count": 19
    }
   ],
   "source": [
    "geo.head()"
   ]
  },
  {
   "cell_type": "code",
   "execution_count": 20,
   "metadata": {},
   "outputs": [
    {
     "output_type": "execute_result",
     "data": {
      "text/plain": [
       "Index(['Countyname', 'ST_Name', 'ST_Abbr', 'FIPS', 'FatalityRa', 'Confirmedb',\n",
       "       'DeathsbyPo', 'PCTPOVALL_', 'Unemployme', 'EM_type', 'EM_date',\n",
       "       'Age_85', 'Age_80_84', 'Age_75_79', 'Age_70_74', 'Age_65_69',\n",
       "       'Beds_Licen', 'Beds_Staff', 'Beds_ICU', 'Ventilator', 'POP_ESTIMA',\n",
       "       'POVALL_201', 'Unemployed', 'Median_Hou', 'Recovered', 'Active',\n",
       "       'AgedPop', 'NewCases', 'NewDeaths', 'TotalPop', 'NonHispWhP',\n",
       "       'BlackPop', 'AmIndop', 'AsianPop', 'PacIslPop', 'OtherPop', 'TwoMorPop',\n",
       "       'HispPop', 'Wh_Alone', 'Bk_Alone', 'AI_Alone', 'As_Alone', 'NH_Alone',\n",
       "       'SO_Alone', 'Two_More', 'Not_Hisp', 'Age_Less15', 'Age_15_24',\n",
       "       'Age_25_34', 'Age_Over75', 'Agetotal', 'NonHisp', 'Age_35_64',\n",
       "       'Age_65_74', 'NewCasebyP', 'Inpat_Occ', 'ICU_Occ', 'Shape__Area',\n",
       "       'Shape__Length', 'geometry'],\n",
       "      dtype='object')"
      ]
     },
     "metadata": {},
     "execution_count": 20
    }
   ],
   "source": [
    "geo.columns"
   ]
  },
  {
   "cell_type": "code",
   "execution_count": 21,
   "metadata": {},
   "outputs": [],
   "source": [
    "geo['Wh_Perc'] = geo.NonHispWhP / geo.TotalPop\n",
    "geo['His_Perc'] = geo.HispPop / geo.TotalPop\n",
    "geo['Black_Perc'] = geo.BlackPop / geo.TotalPop\n",
    "geo['API_Perc'] = (geo.AsianPop + geo.PacIslPop) / geo.TotalPop\n",
    "geo['Native_Perc'] = geo.AmIndop / geo.TotalPop"
   ]
  },
  {
   "cell_type": "code",
   "execution_count": 22,
   "metadata": {},
   "outputs": [],
   "source": [
    "geo.drop(columns=['Wh_Alone', 'Bk_Alone', 'AI_Alone', 'As_Alone', 'NH_Alone', 'SO_Alone', 'Two_More', 'Not_Hisp', 'NonHispWhP', 'BlackPop', 'AmIndop', 'PacIslPop', 'OtherPop', 'TwoMorPop', 'HispPop', 'NonHisp', 'AsianPop'], inplace=True)"
   ]
  },
  {
   "cell_type": "code",
   "execution_count": 23,
   "metadata": {},
   "outputs": [],
   "source": [
    "geo['Young_Pop'] = (geo.Age_Less15 + geo.Age_15_24) / geo.Agetotal\n",
    "geo['Adult_Pop'] = (geo.Age_25_34 + geo.Age_35_64) / geo.Agetotal\n",
    "geo['Senior_Pop'] = (geo.Age_65_74 + geo.Age_Over75) / geo.Agetotal\n",
    "# remove all age category data, as there is not statistical difference between the various age groups above 65\n",
    "geo.drop(columns=['Age_85', 'Age_80_84', 'Age_75_79', 'Age_70_74', 'Age_65_69', 'Agetotal', 'Age_Less15', 'Age_15_24', 'Age_25_34', 'Age_35_64', 'Age_65_74', 'Age_Over75'], inplace=True)\n",
    "# Columns are mostly empty values and difficult to categorize\n",
    "geo.drop(columns=['Recovered', 'Active'], inplace=True)"
   ]
  },
  {
   "cell_type": "code",
   "execution_count": 24,
   "metadata": {},
   "outputs": [],
   "source": [
    "geo['Staf_Bed_Perc'] = geo['Beds_Staff'] / geo['Beds_Licen']\n",
    "geo['Aged_Perc'] = geo.AgedPop / geo.POP_ESTIMA\n",
    "geo['Pov_Perc'] = geo.POVALL_201 / geo.POP_ESTIMA\n",
    "geo['beds_per_capita'] = geo.Beds_ICU / geo.POP_ESTIMA\n",
    "geo['pop_density'] = geo['TotalPop'] / geo['Shape__Area']"
   ]
  },
  {
   "cell_type": "code",
   "execution_count": 25,
   "metadata": {},
   "outputs": [],
   "source": [
    "geo.drop(columns=['NewCases', 'NewDeaths', 'AgedPop', 'POVALL_201', 'Unemployed'], inplace=True)"
   ]
  },
  {
   "cell_type": "code",
   "execution_count": 51,
   "metadata": {},
   "outputs": [],
   "source": [
    "geo.drop(columns=['Beds_Licen', 'Beds_Staff', 'Beds_ICU', 'Ventilator'], inplace=True)"
   ]
  },
  {
   "cell_type": "code",
   "execution_count": 52,
   "metadata": {},
   "outputs": [
    {
     "output_type": "execute_result",
     "data": {
      "text/plain": [
       "Index(['Countyname', 'ST_Name', 'ST_Abbr', 'FIPS', 'FatalityRa', 'Confirmedb',\n",
       "       'DeathsbyPo', 'PCTPOVALL_', 'Unemployme', 'EM_type', 'EM_date',\n",
       "       'POP_ESTIMA', 'Median_Hou', 'TotalPop', 'NewCasebyP', 'Inpat_Occ',\n",
       "       'ICU_Occ', 'Shape__Area', 'Shape__Length', 'geometry', 'Wh_Perc',\n",
       "       'His_Perc', 'Black_Perc', 'API_Perc', 'Native_Perc', 'Young_Pop',\n",
       "       'Adult_Pop', 'Senior_Pop', 'Staf_Bed_Perc', 'Aged_Perc', 'Pov_Perc',\n",
       "       'beds_per_capita', 'pop_density'],\n",
       "      dtype='object')"
      ]
     },
     "metadata": {},
     "execution_count": 52
    }
   ],
   "source": [
    "geo.columns"
   ]
  },
  {
   "cell_type": "code",
   "execution_count": 53,
   "metadata": {},
   "outputs": [
    {
     "output_type": "execute_result",
     "data": {
      "text/plain": [
       "        FatalityRa    Confirmedb   DeathsbyPo   PCTPOVALL_   Unemployme  \\\n",
       "count  3142.000000   3142.000000  3142.000000  3142.000000  3142.000000   \n",
       "mean      1.750076   6948.591687   122.715199    15.157829     4.132018   \n",
       "std       1.112969   2837.637191    89.957044     6.130698     1.503802   \n",
       "min       0.000000      0.000000     0.000000     0.000000     0.000000   \n",
       "25%       1.010014   5149.432500    60.155273    10.800000     3.100000   \n",
       "50%       1.537125   6825.790000   105.698029    14.100000     3.900000   \n",
       "75%       2.288272   8529.000000   161.625494    18.300000     4.800000   \n",
       "max      13.043478  28439.740000   842.266462    54.000000    19.900000   \n",
       "\n",
       "         POP_ESTIMA     Median_Hou      TotalPop   NewCasebyP    Inpat_Occ  \\\n",
       "count  3.142000e+03    3142.000000  3.142000e+03  3142.000000  2423.000000   \n",
       "mean   1.041271e+05   52777.610439  1.027699e+05    81.933501    53.976173   \n",
       "std    3.334863e+05   13909.834889  3.299077e+05    82.248343    34.142614   \n",
       "min    0.000000e+00       0.000000  7.500000e+01 -1416.234888     0.000000   \n",
       "25%    1.092650e+04   43679.500000  1.094800e+04    38.213398    34.330776   \n",
       "50%    2.575850e+04   50566.500000  2.573600e+04    68.450955    54.614412   \n",
       "75%    6.782050e+04   58845.500000  6.720900e+04   107.267763    72.141680   \n",
       "max    1.010552e+07  140382.000000  1.009805e+07  1564.455569  1218.285714   \n",
       "\n",
       "           ICU_Occ   Shape__Area  Shape__Length      Wh_Perc     His_Perc  \\\n",
       "count  1552.000000  3.142000e+03   3.142000e+03  3142.000000  3142.000000   \n",
       "mean     65.560210  6.808623e+09   3.714886e+05     0.764951     0.092623   \n",
       "std      29.709178  5.556968e+10   7.397408e+05     0.201837     0.137899   \n",
       "min       0.000000  8.763938e+06   1.563678e+04     0.007278     0.000000   \n",
       "25%      50.339860  1.860524e+09   2.058000e+05     0.647585     0.021121   \n",
       "50%      72.340426  2.680092e+09   2.493543e+05     0.839246     0.041010   \n",
       "75%      88.000071  3.944540e+09   3.367670e+05     0.926928     0.095586   \n",
       "max     200.000000  2.228678e+12   1.796423e+07     1.000000     0.990688   \n",
       "\n",
       "        Black_Perc     API_Perc  Native_Perc    Young_Pop    Adult_Pop  \\\n",
       "count  3142.000000  3142.000000  3142.000000  3142.000000  3142.000000   \n",
       "mean      0.089207     0.014375     0.018288     0.311678     0.504682   \n",
       "std       0.144647     0.030766     0.075532     0.047807     0.032847   \n",
       "min       0.000000     0.000000     0.000000     0.080000     0.231646   \n",
       "25%       0.006330     0.003158     0.001257     0.284786     0.486504   \n",
       "50%       0.021594     0.006433     0.002771     0.308982     0.505499   \n",
       "75%       0.098571     0.013624     0.006750     0.333725     0.523774   \n",
       "max       0.874123     0.533333     0.909612     0.611674     0.760000   \n",
       "\n",
       "        Senior_Pop  Staf_Bed_Perc    Aged_Perc     Pov_Perc  beds_per_capita  \\\n",
       "count  3142.000000    2477.000000  3141.000000  3141.000000      3141.000000   \n",
       "mean      0.183640       0.874776     0.141358     0.145583         0.000283   \n",
       "std       0.045859       0.459133     0.082917     0.056476         0.000350   \n",
       "min       0.037986       0.000000     0.000000     0.026183         0.000000   \n",
       "25%       0.154482       0.754026     0.110546     0.105443         0.000083   \n",
       "50%       0.180380       0.938776     0.164017     0.136557         0.000205   \n",
       "75%       0.208046       1.000000     0.195383     0.175465         0.000356   \n",
       "max       0.555963      20.880000     0.522477     0.537284         0.004112   \n",
       "\n",
       "        pop_density  \n",
       "count  3.142000e+03  \n",
       "mean   6.210886e-05  \n",
       "std    4.004684e-04  \n",
       "min    2.429692e-09  \n",
       "25%    3.850014e-06  \n",
       "50%    1.044782e-05  \n",
       "75%    2.739642e-05  \n",
       "max    1.586326e-02  "
      ],
      "text/html": "<div>\n<style scoped>\n    .dataframe tbody tr th:only-of-type {\n        vertical-align: middle;\n    }\n\n    .dataframe tbody tr th {\n        vertical-align: top;\n    }\n\n    .dataframe thead th {\n        text-align: right;\n    }\n</style>\n<table border=\"1\" class=\"dataframe\">\n  <thead>\n    <tr style=\"text-align: right;\">\n      <th></th>\n      <th>FatalityRa</th>\n      <th>Confirmedb</th>\n      <th>DeathsbyPo</th>\n      <th>PCTPOVALL_</th>\n      <th>Unemployme</th>\n      <th>POP_ESTIMA</th>\n      <th>Median_Hou</th>\n      <th>TotalPop</th>\n      <th>NewCasebyP</th>\n      <th>Inpat_Occ</th>\n      <th>ICU_Occ</th>\n      <th>Shape__Area</th>\n      <th>Shape__Length</th>\n      <th>Wh_Perc</th>\n      <th>His_Perc</th>\n      <th>Black_Perc</th>\n      <th>API_Perc</th>\n      <th>Native_Perc</th>\n      <th>Young_Pop</th>\n      <th>Adult_Pop</th>\n      <th>Senior_Pop</th>\n      <th>Staf_Bed_Perc</th>\n      <th>Aged_Perc</th>\n      <th>Pov_Perc</th>\n      <th>beds_per_capita</th>\n      <th>pop_density</th>\n    </tr>\n  </thead>\n  <tbody>\n    <tr>\n      <th>count</th>\n      <td>3142.000000</td>\n      <td>3142.000000</td>\n      <td>3142.000000</td>\n      <td>3142.000000</td>\n      <td>3142.000000</td>\n      <td>3.142000e+03</td>\n      <td>3142.000000</td>\n      <td>3.142000e+03</td>\n      <td>3142.000000</td>\n      <td>2423.000000</td>\n      <td>1552.000000</td>\n      <td>3.142000e+03</td>\n      <td>3.142000e+03</td>\n      <td>3142.000000</td>\n      <td>3142.000000</td>\n      <td>3142.000000</td>\n      <td>3142.000000</td>\n      <td>3142.000000</td>\n      <td>3142.000000</td>\n      <td>3142.000000</td>\n      <td>3142.000000</td>\n      <td>2477.000000</td>\n      <td>3141.000000</td>\n      <td>3141.000000</td>\n      <td>3141.000000</td>\n      <td>3.142000e+03</td>\n    </tr>\n    <tr>\n      <th>mean</th>\n      <td>1.750076</td>\n      <td>6948.591687</td>\n      <td>122.715199</td>\n      <td>15.157829</td>\n      <td>4.132018</td>\n      <td>1.041271e+05</td>\n      <td>52777.610439</td>\n      <td>1.027699e+05</td>\n      <td>81.933501</td>\n      <td>53.976173</td>\n      <td>65.560210</td>\n      <td>6.808623e+09</td>\n      <td>3.714886e+05</td>\n      <td>0.764951</td>\n      <td>0.092623</td>\n      <td>0.089207</td>\n      <td>0.014375</td>\n      <td>0.018288</td>\n      <td>0.311678</td>\n      <td>0.504682</td>\n      <td>0.183640</td>\n      <td>0.874776</td>\n      <td>0.141358</td>\n      <td>0.145583</td>\n      <td>0.000283</td>\n      <td>6.210886e-05</td>\n    </tr>\n    <tr>\n      <th>std</th>\n      <td>1.112969</td>\n      <td>2837.637191</td>\n      <td>89.957044</td>\n      <td>6.130698</td>\n      <td>1.503802</td>\n      <td>3.334863e+05</td>\n      <td>13909.834889</td>\n      <td>3.299077e+05</td>\n      <td>82.248343</td>\n      <td>34.142614</td>\n      <td>29.709178</td>\n      <td>5.556968e+10</td>\n      <td>7.397408e+05</td>\n      <td>0.201837</td>\n      <td>0.137899</td>\n      <td>0.144647</td>\n      <td>0.030766</td>\n      <td>0.075532</td>\n      <td>0.047807</td>\n      <td>0.032847</td>\n      <td>0.045859</td>\n      <td>0.459133</td>\n      <td>0.082917</td>\n      <td>0.056476</td>\n      <td>0.000350</td>\n      <td>4.004684e-04</td>\n    </tr>\n    <tr>\n      <th>min</th>\n      <td>0.000000</td>\n      <td>0.000000</td>\n      <td>0.000000</td>\n      <td>0.000000</td>\n      <td>0.000000</td>\n      <td>0.000000e+00</td>\n      <td>0.000000</td>\n      <td>7.500000e+01</td>\n      <td>-1416.234888</td>\n      <td>0.000000</td>\n      <td>0.000000</td>\n      <td>8.763938e+06</td>\n      <td>1.563678e+04</td>\n      <td>0.007278</td>\n      <td>0.000000</td>\n      <td>0.000000</td>\n      <td>0.000000</td>\n      <td>0.000000</td>\n      <td>0.080000</td>\n      <td>0.231646</td>\n      <td>0.037986</td>\n      <td>0.000000</td>\n      <td>0.000000</td>\n      <td>0.026183</td>\n      <td>0.000000</td>\n      <td>2.429692e-09</td>\n    </tr>\n    <tr>\n      <th>25%</th>\n      <td>1.010014</td>\n      <td>5149.432500</td>\n      <td>60.155273</td>\n      <td>10.800000</td>\n      <td>3.100000</td>\n      <td>1.092650e+04</td>\n      <td>43679.500000</td>\n      <td>1.094800e+04</td>\n      <td>38.213398</td>\n      <td>34.330776</td>\n      <td>50.339860</td>\n      <td>1.860524e+09</td>\n      <td>2.058000e+05</td>\n      <td>0.647585</td>\n      <td>0.021121</td>\n      <td>0.006330</td>\n      <td>0.003158</td>\n      <td>0.001257</td>\n      <td>0.284786</td>\n      <td>0.486504</td>\n      <td>0.154482</td>\n      <td>0.754026</td>\n      <td>0.110546</td>\n      <td>0.105443</td>\n      <td>0.000083</td>\n      <td>3.850014e-06</td>\n    </tr>\n    <tr>\n      <th>50%</th>\n      <td>1.537125</td>\n      <td>6825.790000</td>\n      <td>105.698029</td>\n      <td>14.100000</td>\n      <td>3.900000</td>\n      <td>2.575850e+04</td>\n      <td>50566.500000</td>\n      <td>2.573600e+04</td>\n      <td>68.450955</td>\n      <td>54.614412</td>\n      <td>72.340426</td>\n      <td>2.680092e+09</td>\n      <td>2.493543e+05</td>\n      <td>0.839246</td>\n      <td>0.041010</td>\n      <td>0.021594</td>\n      <td>0.006433</td>\n      <td>0.002771</td>\n      <td>0.308982</td>\n      <td>0.505499</td>\n      <td>0.180380</td>\n      <td>0.938776</td>\n      <td>0.164017</td>\n      <td>0.136557</td>\n      <td>0.000205</td>\n      <td>1.044782e-05</td>\n    </tr>\n    <tr>\n      <th>75%</th>\n      <td>2.288272</td>\n      <td>8529.000000</td>\n      <td>161.625494</td>\n      <td>18.300000</td>\n      <td>4.800000</td>\n      <td>6.782050e+04</td>\n      <td>58845.500000</td>\n      <td>6.720900e+04</td>\n      <td>107.267763</td>\n      <td>72.141680</td>\n      <td>88.000071</td>\n      <td>3.944540e+09</td>\n      <td>3.367670e+05</td>\n      <td>0.926928</td>\n      <td>0.095586</td>\n      <td>0.098571</td>\n      <td>0.013624</td>\n      <td>0.006750</td>\n      <td>0.333725</td>\n      <td>0.523774</td>\n      <td>0.208046</td>\n      <td>1.000000</td>\n      <td>0.195383</td>\n      <td>0.175465</td>\n      <td>0.000356</td>\n      <td>2.739642e-05</td>\n    </tr>\n    <tr>\n      <th>max</th>\n      <td>13.043478</td>\n      <td>28439.740000</td>\n      <td>842.266462</td>\n      <td>54.000000</td>\n      <td>19.900000</td>\n      <td>1.010552e+07</td>\n      <td>140382.000000</td>\n      <td>1.009805e+07</td>\n      <td>1564.455569</td>\n      <td>1218.285714</td>\n      <td>200.000000</td>\n      <td>2.228678e+12</td>\n      <td>1.796423e+07</td>\n      <td>1.000000</td>\n      <td>0.990688</td>\n      <td>0.874123</td>\n      <td>0.533333</td>\n      <td>0.909612</td>\n      <td>0.611674</td>\n      <td>0.760000</td>\n      <td>0.555963</td>\n      <td>20.880000</td>\n      <td>0.522477</td>\n      <td>0.537284</td>\n      <td>0.004112</td>\n      <td>1.586326e-02</td>\n    </tr>\n  </tbody>\n</table>\n</div>"
     },
     "metadata": {},
     "execution_count": 53
    }
   ],
   "source": [
    "geo.describe()"
   ]
  },
  {
   "source": [
    "<img src='images/county_conf_by_pop.png'>"
   ],
   "cell_type": "markdown",
   "metadata": {}
  },
  {
   "source": [
    "<img src='images/county_confirmed.png'>"
   ],
   "cell_type": "markdown",
   "metadata": {}
  },
  {
   "cell_type": "code",
   "execution_count": 27,
   "metadata": {},
   "outputs": [],
   "source": [
    "\n"
   ]
  },
  {
   "source": [
    "## 2020 Election Data"
   ],
   "cell_type": "markdown",
   "metadata": {}
  },
  {
   "cell_type": "code",
   "execution_count": 30,
   "metadata": {},
   "outputs": [],
   "source": [
    "# \n",
    "df2020 = pd.read_csv('data/2020_Results.csv')\n",
    "df2020.county_fips = df2020.county_fips.astype(str)\n",
    "df2020.county_fips = df2020.county_fips.apply(lambda x: x.zfill(5))\n",
    "# upload shapefile for USA counties\n",
    "shapefile = 'data/USA_Counties.shp'\n",
    "gdf = gpd.read_file(shapefile)\n",
    "geo2 = gdf[~gdf.STATE_NAME.isin(['Puerto Rico', 'Alaska', 'Hawaii'])]\n",
    "geo2.FIPS = geo2.FIPS.astype(str)\n",
    "merged = geo2.merge(df2020, left_on='FIPS', right_on='county_fips', how='left')"
   ]
  },
  {
   "cell_type": "code",
   "execution_count": 31,
   "metadata": {},
   "outputs": [
    {
     "output_type": "execute_result",
     "data": {
      "text/plain": [
       "    FIPS   per_dem\n",
       "0  01001  0.270184\n",
       "1  01003  0.224090\n",
       "2  01005  0.457882\n",
       "3  01007  0.206983\n",
       "4  01009  0.095694"
      ],
      "text/html": "<div>\n<style scoped>\n    .dataframe tbody tr th:only-of-type {\n        vertical-align: middle;\n    }\n\n    .dataframe tbody tr th {\n        vertical-align: top;\n    }\n\n    .dataframe thead th {\n        text-align: right;\n    }\n</style>\n<table border=\"1\" class=\"dataframe\">\n  <thead>\n    <tr style=\"text-align: right;\">\n      <th></th>\n      <th>FIPS</th>\n      <th>per_dem</th>\n    </tr>\n  </thead>\n  <tbody>\n    <tr>\n      <th>0</th>\n      <td>01001</td>\n      <td>0.270184</td>\n    </tr>\n    <tr>\n      <th>1</th>\n      <td>01003</td>\n      <td>0.224090</td>\n    </tr>\n    <tr>\n      <th>2</th>\n      <td>01005</td>\n      <td>0.457882</td>\n    </tr>\n    <tr>\n      <th>3</th>\n      <td>01007</td>\n      <td>0.206983</td>\n    </tr>\n    <tr>\n      <th>4</th>\n      <td>01009</td>\n      <td>0.095694</td>\n    </tr>\n  </tbody>\n</table>\n</div>"
     },
     "metadata": {},
     "execution_count": 31
    }
   ],
   "source": [
    "df2020_2 = df2020[['county_fips', 'per_dem']]\n",
    "df2020_2 = df2020_2.rename(columns={'county_fips': 'FIPS'})\n",
    "df2020_2.head()"
   ]
  },
  {
   "cell_type": "code",
   "execution_count": 32,
   "metadata": {},
   "outputs": [],
   "source": [
    "# fig, ax = plt.subplots(1, figsize=(20,20))\n",
    "# merged.plot(column='per_gop', cmap='RdBu_r', linewidth=0.8, ax=ax, edgecolor='black')\n",
    "# ax.axis('off')\n",
    "# ax.set_title('Percentage By County for 2020 Election', fontsize=18)\n",
    "# plt.savefig('images/election2020.png')"
   ]
  },
  {
   "source": [
    "<img src='images/election2020.png'>"
   ],
   "cell_type": "markdown",
   "metadata": {}
  },
  {
   "source": [
    "# Visualizing Combined Data"
   ],
   "cell_type": "markdown",
   "metadata": {}
  },
  {
   "cell_type": "code",
   "execution_count": 54,
   "metadata": {},
   "outputs": [],
   "source": [
    "merged = geo.merge(df2020_2, on='FIPS')"
   ]
  },
  {
   "cell_type": "code",
   "execution_count": 55,
   "metadata": {},
   "outputs": [
    {
     "output_type": "execute_result",
     "data": {
      "text/plain": [
       "  Countyname  ST_Name ST_Abbr   FIPS  FatalityRa  Confirmedb  DeathsbyPo  \\\n",
       "0    Autauga  Alabama      AL  01001    1.076426     8354.17   89.926440   \n",
       "1    Baldwin  Alabama      AL  01003    1.166758     6722.26   78.432452   \n",
       "2    Barbour  Alabama      AL  01005    2.191609     6418.55  140.669587   \n",
       "3       Bibb  Alabama      AL  01007    2.469136     8678.57  214.285714   \n",
       "4     Blount  Alabama      AL  01009    1.367905     8468.19  115.836791   \n",
       "\n",
       "   PCTPOVALL_  Unemployme EM_type EM_date  POP_ESTIMA  Median_Hou  TotalPop  \\\n",
       "0        13.8         3.6      CQ     NaN       55601       59338     55200   \n",
       "1         9.8         3.6      CQ     NaN      218022       57588    208107   \n",
       "2        30.9         5.2      CQ     NaN       24881       34382     25782   \n",
       "3        21.8         4.0      CQ     NaN       22400       46064     22527   \n",
       "4        13.2         3.5      CQ     NaN       57840       50412     57645   \n",
       "\n",
       "   NewCasebyP  Inpat_Occ     ICU_Occ   Shape__Area  Shape__Length  \\\n",
       "0  178.054352  96.320346  100.000000  2.209382e+09  246839.865479   \n",
       "1   99.072571  74.029401  120.089286  5.770469e+09  728445.072448   \n",
       "2   88.420883  56.711409   88.571429  3.258643e+09  307285.154510   \n",
       "3   93.750000  19.047619         NaN  2.310715e+09  227886.963840   \n",
       "4   84.716459  76.190476   92.857143  2.456058e+09  286306.840721   \n",
       "\n",
       "                                            geometry   Wh_Perc  His_Perc  \\\n",
       "0  POLYGON ((-86.41312 32.70739, -86.41219 32.526...  0.750217  0.027681   \n",
       "1  MULTIPOLYGON (((-87.78878 31.29877, -87.78849 ...  0.830188  0.044943   \n",
       "2  POLYGON ((-85.25609 32.13767, -85.25569 32.135...  0.461485  0.042898   \n",
       "3  POLYGON ((-87.02685 33.24646, -87.02572 33.209...  0.745816  0.024282   \n",
       "4  POLYGON ((-86.44507 34.24954, -86.40902 34.205...  0.871403  0.091266   \n",
       "\n",
       "   Black_Perc  API_Perc  Native_Perc  Young_Pop  Adult_Pop  Senior_Pop  \\\n",
       "0    0.189764  0.010380     0.002880   0.326703   0.527464    0.145833   \n",
       "1    0.093841  0.008058     0.006718   0.293685   0.510910    0.195404   \n",
       "2    0.473160  0.003336     0.002444   0.295128   0.525134    0.179738   \n",
       "3    0.220802  0.001642     0.000355   0.299507   0.537977    0.162516   \n",
       "4    0.014225  0.003747     0.002151   0.312568   0.509914    0.177518   \n",
       "\n",
       "   Staf_Bed_Perc  Aged_Perc  Pov_Perc  beds_per_capita  pop_density   per_dem  \n",
       "0       0.647059   0.144782  0.136454         0.000108     0.000025  0.270184  \n",
       "1       0.937824   0.186518  0.096637         0.000234     0.000036  0.224090  \n",
       "2       0.405405   0.186247  0.272819         0.000201     0.000008  0.457882  \n",
       "3       0.714286   0.163438  0.196429         0.000179     0.000010  0.206983  \n",
       "4       1.000000   0.176919  0.130135         0.000104     0.000023  0.095694  "
      ],
      "text/html": "<div>\n<style scoped>\n    .dataframe tbody tr th:only-of-type {\n        vertical-align: middle;\n    }\n\n    .dataframe tbody tr th {\n        vertical-align: top;\n    }\n\n    .dataframe thead th {\n        text-align: right;\n    }\n</style>\n<table border=\"1\" class=\"dataframe\">\n  <thead>\n    <tr style=\"text-align: right;\">\n      <th></th>\n      <th>Countyname</th>\n      <th>ST_Name</th>\n      <th>ST_Abbr</th>\n      <th>FIPS</th>\n      <th>FatalityRa</th>\n      <th>Confirmedb</th>\n      <th>DeathsbyPo</th>\n      <th>PCTPOVALL_</th>\n      <th>Unemployme</th>\n      <th>EM_type</th>\n      <th>EM_date</th>\n      <th>POP_ESTIMA</th>\n      <th>Median_Hou</th>\n      <th>TotalPop</th>\n      <th>NewCasebyP</th>\n      <th>Inpat_Occ</th>\n      <th>ICU_Occ</th>\n      <th>Shape__Area</th>\n      <th>Shape__Length</th>\n      <th>geometry</th>\n      <th>Wh_Perc</th>\n      <th>His_Perc</th>\n      <th>Black_Perc</th>\n      <th>API_Perc</th>\n      <th>Native_Perc</th>\n      <th>Young_Pop</th>\n      <th>Adult_Pop</th>\n      <th>Senior_Pop</th>\n      <th>Staf_Bed_Perc</th>\n      <th>Aged_Perc</th>\n      <th>Pov_Perc</th>\n      <th>beds_per_capita</th>\n      <th>pop_density</th>\n      <th>per_dem</th>\n    </tr>\n  </thead>\n  <tbody>\n    <tr>\n      <th>0</th>\n      <td>Autauga</td>\n      <td>Alabama</td>\n      <td>AL</td>\n      <td>01001</td>\n      <td>1.076426</td>\n      <td>8354.17</td>\n      <td>89.926440</td>\n      <td>13.8</td>\n      <td>3.6</td>\n      <td>CQ</td>\n      <td>NaN</td>\n      <td>55601</td>\n      <td>59338</td>\n      <td>55200</td>\n      <td>178.054352</td>\n      <td>96.320346</td>\n      <td>100.000000</td>\n      <td>2.209382e+09</td>\n      <td>246839.865479</td>\n      <td>POLYGON ((-86.41312 32.70739, -86.41219 32.526...</td>\n      <td>0.750217</td>\n      <td>0.027681</td>\n      <td>0.189764</td>\n      <td>0.010380</td>\n      <td>0.002880</td>\n      <td>0.326703</td>\n      <td>0.527464</td>\n      <td>0.145833</td>\n      <td>0.647059</td>\n      <td>0.144782</td>\n      <td>0.136454</td>\n      <td>0.000108</td>\n      <td>0.000025</td>\n      <td>0.270184</td>\n    </tr>\n    <tr>\n      <th>1</th>\n      <td>Baldwin</td>\n      <td>Alabama</td>\n      <td>AL</td>\n      <td>01003</td>\n      <td>1.166758</td>\n      <td>6722.26</td>\n      <td>78.432452</td>\n      <td>9.8</td>\n      <td>3.6</td>\n      <td>CQ</td>\n      <td>NaN</td>\n      <td>218022</td>\n      <td>57588</td>\n      <td>208107</td>\n      <td>99.072571</td>\n      <td>74.029401</td>\n      <td>120.089286</td>\n      <td>5.770469e+09</td>\n      <td>728445.072448</td>\n      <td>MULTIPOLYGON (((-87.78878 31.29877, -87.78849 ...</td>\n      <td>0.830188</td>\n      <td>0.044943</td>\n      <td>0.093841</td>\n      <td>0.008058</td>\n      <td>0.006718</td>\n      <td>0.293685</td>\n      <td>0.510910</td>\n      <td>0.195404</td>\n      <td>0.937824</td>\n      <td>0.186518</td>\n      <td>0.096637</td>\n      <td>0.000234</td>\n      <td>0.000036</td>\n      <td>0.224090</td>\n    </tr>\n    <tr>\n      <th>2</th>\n      <td>Barbour</td>\n      <td>Alabama</td>\n      <td>AL</td>\n      <td>01005</td>\n      <td>2.191609</td>\n      <td>6418.55</td>\n      <td>140.669587</td>\n      <td>30.9</td>\n      <td>5.2</td>\n      <td>CQ</td>\n      <td>NaN</td>\n      <td>24881</td>\n      <td>34382</td>\n      <td>25782</td>\n      <td>88.420883</td>\n      <td>56.711409</td>\n      <td>88.571429</td>\n      <td>3.258643e+09</td>\n      <td>307285.154510</td>\n      <td>POLYGON ((-85.25609 32.13767, -85.25569 32.135...</td>\n      <td>0.461485</td>\n      <td>0.042898</td>\n      <td>0.473160</td>\n      <td>0.003336</td>\n      <td>0.002444</td>\n      <td>0.295128</td>\n      <td>0.525134</td>\n      <td>0.179738</td>\n      <td>0.405405</td>\n      <td>0.186247</td>\n      <td>0.272819</td>\n      <td>0.000201</td>\n      <td>0.000008</td>\n      <td>0.457882</td>\n    </tr>\n    <tr>\n      <th>3</th>\n      <td>Bibb</td>\n      <td>Alabama</td>\n      <td>AL</td>\n      <td>01007</td>\n      <td>2.469136</td>\n      <td>8678.57</td>\n      <td>214.285714</td>\n      <td>21.8</td>\n      <td>4.0</td>\n      <td>CQ</td>\n      <td>NaN</td>\n      <td>22400</td>\n      <td>46064</td>\n      <td>22527</td>\n      <td>93.750000</td>\n      <td>19.047619</td>\n      <td>NaN</td>\n      <td>2.310715e+09</td>\n      <td>227886.963840</td>\n      <td>POLYGON ((-87.02685 33.24646, -87.02572 33.209...</td>\n      <td>0.745816</td>\n      <td>0.024282</td>\n      <td>0.220802</td>\n      <td>0.001642</td>\n      <td>0.000355</td>\n      <td>0.299507</td>\n      <td>0.537977</td>\n      <td>0.162516</td>\n      <td>0.714286</td>\n      <td>0.163438</td>\n      <td>0.196429</td>\n      <td>0.000179</td>\n      <td>0.000010</td>\n      <td>0.206983</td>\n    </tr>\n    <tr>\n      <th>4</th>\n      <td>Blount</td>\n      <td>Alabama</td>\n      <td>AL</td>\n      <td>01009</td>\n      <td>1.367905</td>\n      <td>8468.19</td>\n      <td>115.836791</td>\n      <td>13.2</td>\n      <td>3.5</td>\n      <td>CQ</td>\n      <td>NaN</td>\n      <td>57840</td>\n      <td>50412</td>\n      <td>57645</td>\n      <td>84.716459</td>\n      <td>76.190476</td>\n      <td>92.857143</td>\n      <td>2.456058e+09</td>\n      <td>286306.840721</td>\n      <td>POLYGON ((-86.44507 34.24954, -86.40902 34.205...</td>\n      <td>0.871403</td>\n      <td>0.091266</td>\n      <td>0.014225</td>\n      <td>0.003747</td>\n      <td>0.002151</td>\n      <td>0.312568</td>\n      <td>0.509914</td>\n      <td>0.177518</td>\n      <td>1.000000</td>\n      <td>0.176919</td>\n      <td>0.130135</td>\n      <td>0.000104</td>\n      <td>0.000023</td>\n      <td>0.095694</td>\n    </tr>\n  </tbody>\n</table>\n</div>"
     },
     "metadata": {},
     "execution_count": 55
    }
   ],
   "source": [
    "merged.head()"
   ]
  },
  {
   "cell_type": "code",
   "execution_count": 56,
   "metadata": {},
   "outputs": [
    {
     "output_type": "execute_result",
     "data": {
      "text/plain": [
       "  Countyname  ST_Name ST_Abbr   FIPS  FatalityRa  Confirmedb  DeathsbyPo  \\\n",
       "0    Autauga  Alabama      AL  01001    1.076426     8354.17   89.926440   \n",
       "1    Baldwin  Alabama      AL  01003    1.166758     6722.26   78.432452   \n",
       "2    Barbour  Alabama      AL  01005    2.191609     6418.55  140.669587   \n",
       "3       Bibb  Alabama      AL  01007    2.469136     8678.57  214.285714   \n",
       "4     Blount  Alabama      AL  01009    1.367905     8468.19  115.836791   \n",
       "\n",
       "   PCTPOVALL_  Unemployme EM_type EM_date  POP_ESTIMA  Median_Hou  TotalPop  \\\n",
       "0        13.8         3.6      CQ     NaN       55601       59338     55200   \n",
       "1         9.8         3.6      CQ     NaN      218022       57588    208107   \n",
       "2        30.9         5.2      CQ     NaN       24881       34382     25782   \n",
       "3        21.8         4.0      CQ     NaN       22400       46064     22527   \n",
       "4        13.2         3.5      CQ     NaN       57840       50412     57645   \n",
       "\n",
       "   NewCasebyP  Inpat_Occ     ICU_Occ   Shape__Area  Shape__Length  \\\n",
       "0  178.054352  96.320346  100.000000  2.209382e+09  246839.865479   \n",
       "1   99.072571  74.029401  120.089286  5.770469e+09  728445.072448   \n",
       "2   88.420883  56.711409   88.571429  3.258643e+09  307285.154510   \n",
       "3   93.750000  19.047619         NaN  2.310715e+09  227886.963840   \n",
       "4   84.716459  76.190476   92.857143  2.456058e+09  286306.840721   \n",
       "\n",
       "                                            geometry   Wh_Perc  His_Perc  \\\n",
       "0  POLYGON ((-86.41312 32.70739, -86.41219 32.526...  0.750217  0.027681   \n",
       "1  MULTIPOLYGON (((-87.78878 31.29877, -87.78849 ...  0.830188  0.044943   \n",
       "2  POLYGON ((-85.25609 32.13767, -85.25569 32.135...  0.461485  0.042898   \n",
       "3  POLYGON ((-87.02685 33.24646, -87.02572 33.209...  0.745816  0.024282   \n",
       "4  POLYGON ((-86.44507 34.24954, -86.40902 34.205...  0.871403  0.091266   \n",
       "\n",
       "   Black_Perc  API_Perc  Native_Perc  Young_Pop  Adult_Pop  Senior_Pop  \\\n",
       "0    0.189764  0.010380     0.002880   0.326703   0.527464    0.145833   \n",
       "1    0.093841  0.008058     0.006718   0.293685   0.510910    0.195404   \n",
       "2    0.473160  0.003336     0.002444   0.295128   0.525134    0.179738   \n",
       "3    0.220802  0.001642     0.000355   0.299507   0.537977    0.162516   \n",
       "4    0.014225  0.003747     0.002151   0.312568   0.509914    0.177518   \n",
       "\n",
       "   Staf_Bed_Perc  Aged_Perc  Pov_Perc  beds_per_capita  pop_density   per_dem  \\\n",
       "0       0.647059   0.144782  0.136454         0.000108     0.000025  0.270184   \n",
       "1       0.937824   0.186518  0.096637         0.000234     0.000036  0.224090   \n",
       "2       0.405405   0.186247  0.272819         0.000201     0.000008  0.457882   \n",
       "3       0.714286   0.163438  0.196429         0.000179     0.000010  0.206983   \n",
       "4       1.000000   0.176919  0.130135         0.000104     0.000023  0.095694   \n",
       "\n",
       "   NEVER  RARELY  SOMETIMES  FREQUENTLY  ALWAYS  \n",
       "0  0.053   0.074      0.134       0.295   0.444  \n",
       "1  0.083   0.059      0.098       0.323   0.436  \n",
       "2  0.067   0.121      0.120       0.201   0.491  \n",
       "3  0.020   0.034      0.096       0.278   0.572  \n",
       "4  0.053   0.114      0.180       0.194   0.459  "
      ],
      "text/html": "<div>\n<style scoped>\n    .dataframe tbody tr th:only-of-type {\n        vertical-align: middle;\n    }\n\n    .dataframe tbody tr th {\n        vertical-align: top;\n    }\n\n    .dataframe thead th {\n        text-align: right;\n    }\n</style>\n<table border=\"1\" class=\"dataframe\">\n  <thead>\n    <tr style=\"text-align: right;\">\n      <th></th>\n      <th>Countyname</th>\n      <th>ST_Name</th>\n      <th>ST_Abbr</th>\n      <th>FIPS</th>\n      <th>FatalityRa</th>\n      <th>Confirmedb</th>\n      <th>DeathsbyPo</th>\n      <th>PCTPOVALL_</th>\n      <th>Unemployme</th>\n      <th>EM_type</th>\n      <th>EM_date</th>\n      <th>POP_ESTIMA</th>\n      <th>Median_Hou</th>\n      <th>TotalPop</th>\n      <th>NewCasebyP</th>\n      <th>Inpat_Occ</th>\n      <th>ICU_Occ</th>\n      <th>Shape__Area</th>\n      <th>Shape__Length</th>\n      <th>geometry</th>\n      <th>Wh_Perc</th>\n      <th>His_Perc</th>\n      <th>Black_Perc</th>\n      <th>API_Perc</th>\n      <th>Native_Perc</th>\n      <th>Young_Pop</th>\n      <th>Adult_Pop</th>\n      <th>Senior_Pop</th>\n      <th>Staf_Bed_Perc</th>\n      <th>Aged_Perc</th>\n      <th>Pov_Perc</th>\n      <th>beds_per_capita</th>\n      <th>pop_density</th>\n      <th>per_dem</th>\n      <th>NEVER</th>\n      <th>RARELY</th>\n      <th>SOMETIMES</th>\n      <th>FREQUENTLY</th>\n      <th>ALWAYS</th>\n    </tr>\n  </thead>\n  <tbody>\n    <tr>\n      <th>0</th>\n      <td>Autauga</td>\n      <td>Alabama</td>\n      <td>AL</td>\n      <td>01001</td>\n      <td>1.076426</td>\n      <td>8354.17</td>\n      <td>89.926440</td>\n      <td>13.8</td>\n      <td>3.6</td>\n      <td>CQ</td>\n      <td>NaN</td>\n      <td>55601</td>\n      <td>59338</td>\n      <td>55200</td>\n      <td>178.054352</td>\n      <td>96.320346</td>\n      <td>100.000000</td>\n      <td>2.209382e+09</td>\n      <td>246839.865479</td>\n      <td>POLYGON ((-86.41312 32.70739, -86.41219 32.526...</td>\n      <td>0.750217</td>\n      <td>0.027681</td>\n      <td>0.189764</td>\n      <td>0.010380</td>\n      <td>0.002880</td>\n      <td>0.326703</td>\n      <td>0.527464</td>\n      <td>0.145833</td>\n      <td>0.647059</td>\n      <td>0.144782</td>\n      <td>0.136454</td>\n      <td>0.000108</td>\n      <td>0.000025</td>\n      <td>0.270184</td>\n      <td>0.053</td>\n      <td>0.074</td>\n      <td>0.134</td>\n      <td>0.295</td>\n      <td>0.444</td>\n    </tr>\n    <tr>\n      <th>1</th>\n      <td>Baldwin</td>\n      <td>Alabama</td>\n      <td>AL</td>\n      <td>01003</td>\n      <td>1.166758</td>\n      <td>6722.26</td>\n      <td>78.432452</td>\n      <td>9.8</td>\n      <td>3.6</td>\n      <td>CQ</td>\n      <td>NaN</td>\n      <td>218022</td>\n      <td>57588</td>\n      <td>208107</td>\n      <td>99.072571</td>\n      <td>74.029401</td>\n      <td>120.089286</td>\n      <td>5.770469e+09</td>\n      <td>728445.072448</td>\n      <td>MULTIPOLYGON (((-87.78878 31.29877, -87.78849 ...</td>\n      <td>0.830188</td>\n      <td>0.044943</td>\n      <td>0.093841</td>\n      <td>0.008058</td>\n      <td>0.006718</td>\n      <td>0.293685</td>\n      <td>0.510910</td>\n      <td>0.195404</td>\n      <td>0.937824</td>\n      <td>0.186518</td>\n      <td>0.096637</td>\n      <td>0.000234</td>\n      <td>0.000036</td>\n      <td>0.224090</td>\n      <td>0.083</td>\n      <td>0.059</td>\n      <td>0.098</td>\n      <td>0.323</td>\n      <td>0.436</td>\n    </tr>\n    <tr>\n      <th>2</th>\n      <td>Barbour</td>\n      <td>Alabama</td>\n      <td>AL</td>\n      <td>01005</td>\n      <td>2.191609</td>\n      <td>6418.55</td>\n      <td>140.669587</td>\n      <td>30.9</td>\n      <td>5.2</td>\n      <td>CQ</td>\n      <td>NaN</td>\n      <td>24881</td>\n      <td>34382</td>\n      <td>25782</td>\n      <td>88.420883</td>\n      <td>56.711409</td>\n      <td>88.571429</td>\n      <td>3.258643e+09</td>\n      <td>307285.154510</td>\n      <td>POLYGON ((-85.25609 32.13767, -85.25569 32.135...</td>\n      <td>0.461485</td>\n      <td>0.042898</td>\n      <td>0.473160</td>\n      <td>0.003336</td>\n      <td>0.002444</td>\n      <td>0.295128</td>\n      <td>0.525134</td>\n      <td>0.179738</td>\n      <td>0.405405</td>\n      <td>0.186247</td>\n      <td>0.272819</td>\n      <td>0.000201</td>\n      <td>0.000008</td>\n      <td>0.457882</td>\n      <td>0.067</td>\n      <td>0.121</td>\n      <td>0.120</td>\n      <td>0.201</td>\n      <td>0.491</td>\n    </tr>\n    <tr>\n      <th>3</th>\n      <td>Bibb</td>\n      <td>Alabama</td>\n      <td>AL</td>\n      <td>01007</td>\n      <td>2.469136</td>\n      <td>8678.57</td>\n      <td>214.285714</td>\n      <td>21.8</td>\n      <td>4.0</td>\n      <td>CQ</td>\n      <td>NaN</td>\n      <td>22400</td>\n      <td>46064</td>\n      <td>22527</td>\n      <td>93.750000</td>\n      <td>19.047619</td>\n      <td>NaN</td>\n      <td>2.310715e+09</td>\n      <td>227886.963840</td>\n      <td>POLYGON ((-87.02685 33.24646, -87.02572 33.209...</td>\n      <td>0.745816</td>\n      <td>0.024282</td>\n      <td>0.220802</td>\n      <td>0.001642</td>\n      <td>0.000355</td>\n      <td>0.299507</td>\n      <td>0.537977</td>\n      <td>0.162516</td>\n      <td>0.714286</td>\n      <td>0.163438</td>\n      <td>0.196429</td>\n      <td>0.000179</td>\n      <td>0.000010</td>\n      <td>0.206983</td>\n      <td>0.020</td>\n      <td>0.034</td>\n      <td>0.096</td>\n      <td>0.278</td>\n      <td>0.572</td>\n    </tr>\n    <tr>\n      <th>4</th>\n      <td>Blount</td>\n      <td>Alabama</td>\n      <td>AL</td>\n      <td>01009</td>\n      <td>1.367905</td>\n      <td>8468.19</td>\n      <td>115.836791</td>\n      <td>13.2</td>\n      <td>3.5</td>\n      <td>CQ</td>\n      <td>NaN</td>\n      <td>57840</td>\n      <td>50412</td>\n      <td>57645</td>\n      <td>84.716459</td>\n      <td>76.190476</td>\n      <td>92.857143</td>\n      <td>2.456058e+09</td>\n      <td>286306.840721</td>\n      <td>POLYGON ((-86.44507 34.24954, -86.40902 34.205...</td>\n      <td>0.871403</td>\n      <td>0.091266</td>\n      <td>0.014225</td>\n      <td>0.003747</td>\n      <td>0.002151</td>\n      <td>0.312568</td>\n      <td>0.509914</td>\n      <td>0.177518</td>\n      <td>1.000000</td>\n      <td>0.176919</td>\n      <td>0.130135</td>\n      <td>0.000104</td>\n      <td>0.000023</td>\n      <td>0.095694</td>\n      <td>0.053</td>\n      <td>0.114</td>\n      <td>0.180</td>\n      <td>0.194</td>\n      <td>0.459</td>\n    </tr>\n  </tbody>\n</table>\n</div>"
     },
     "metadata": {},
     "execution_count": 56
    }
   ],
   "source": [
    "merged_2 = merged.merge(nymask, on='FIPS')\n",
    "merged_2.head()"
   ]
  },
  {
   "cell_type": "code",
   "execution_count": 57,
   "metadata": {},
   "outputs": [
    {
     "output_type": "execute_result",
     "data": {
      "text/plain": [
       "Index(['Countyname', 'ST_Name', 'ST_Abbr', 'FIPS', 'FatalityRa', 'Confirmedb',\n",
       "       'DeathsbyPo', 'PCTPOVALL_', 'Unemployme', 'EM_type', 'EM_date',\n",
       "       'POP_ESTIMA', 'Median_Hou', 'TotalPop', 'NewCasebyP', 'Inpat_Occ',\n",
       "       'ICU_Occ', 'Shape__Area', 'Shape__Length', 'geometry', 'Wh_Perc',\n",
       "       'His_Perc', 'Black_Perc', 'API_Perc', 'Native_Perc', 'Young_Pop',\n",
       "       'Adult_Pop', 'Senior_Pop', 'Staf_Bed_Perc', 'Aged_Perc', 'Pov_Perc',\n",
       "       'beds_per_capita', 'pop_density', 'per_dem', 'NEVER', 'RARELY',\n",
       "       'SOMETIMES', 'FREQUENTLY', 'ALWAYS'],\n",
       "      dtype='object')"
      ]
     },
     "metadata": {},
     "execution_count": 57
    }
   ],
   "source": [
    "merged_2.columns"
   ]
  },
  {
   "cell_type": "code",
   "execution_count": 58,
   "metadata": {},
   "outputs": [
    {
     "output_type": "execute_result",
     "data": {
      "text/plain": [
       "  Countyname  ST_Name ST_Abbr   FIPS  FatalityRa  Confirmedb  DeathsbyPo  \\\n",
       "0    Autauga  Alabama      AL  01001    1.076426     8354.17   89.926440   \n",
       "1    Baldwin  Alabama      AL  01003    1.166758     6722.26   78.432452   \n",
       "2    Barbour  Alabama      AL  01005    2.191609     6418.55  140.669587   \n",
       "3       Bibb  Alabama      AL  01007    2.469136     8678.57  214.285714   \n",
       "4     Blount  Alabama      AL  01009    1.367905     8468.19  115.836791   \n",
       "\n",
       "   PCTPOVALL_  Unemployme EM_type EM_date  POP_ESTIMA  Median_Hou  TotalPop  \\\n",
       "0        13.8         3.6      CQ     NaN       55601       59338     55200   \n",
       "1         9.8         3.6      CQ     NaN      218022       57588    208107   \n",
       "2        30.9         5.2      CQ     NaN       24881       34382     25782   \n",
       "3        21.8         4.0      CQ     NaN       22400       46064     22527   \n",
       "4        13.2         3.5      CQ     NaN       57840       50412     57645   \n",
       "\n",
       "   NewCasebyP  Inpat_Occ     ICU_Occ   Shape__Area  Shape__Length  \\\n",
       "0  178.054352  96.320346  100.000000  2.209382e+09  246839.865479   \n",
       "1   99.072571  74.029401  120.089286  5.770469e+09  728445.072448   \n",
       "2   88.420883  56.711409   88.571429  3.258643e+09  307285.154510   \n",
       "3   93.750000  19.047619         NaN  2.310715e+09  227886.963840   \n",
       "4   84.716459  76.190476   92.857143  2.456058e+09  286306.840721   \n",
       "\n",
       "                                            geometry   Wh_Perc  His_Perc  \\\n",
       "0  POLYGON ((-86.41312 32.70739, -86.41219 32.526...  0.750217  0.027681   \n",
       "1  MULTIPOLYGON (((-87.78878 31.29877, -87.78849 ...  0.830188  0.044943   \n",
       "2  POLYGON ((-85.25609 32.13767, -85.25569 32.135...  0.461485  0.042898   \n",
       "3  POLYGON ((-87.02685 33.24646, -87.02572 33.209...  0.745816  0.024282   \n",
       "4  POLYGON ((-86.44507 34.24954, -86.40902 34.205...  0.871403  0.091266   \n",
       "\n",
       "   Black_Perc  API_Perc  Native_Perc  Young_Pop  Adult_Pop  Senior_Pop  \\\n",
       "0    0.189764  0.010380     0.002880   0.326703   0.527464    0.145833   \n",
       "1    0.093841  0.008058     0.006718   0.293685   0.510910    0.195404   \n",
       "2    0.473160  0.003336     0.002444   0.295128   0.525134    0.179738   \n",
       "3    0.220802  0.001642     0.000355   0.299507   0.537977    0.162516   \n",
       "4    0.014225  0.003747     0.002151   0.312568   0.509914    0.177518   \n",
       "\n",
       "   Staf_Bed_Perc  Aged_Perc  Pov_Perc  beds_per_capita  pop_density   per_dem  \\\n",
       "0       0.647059   0.144782  0.136454         0.000108     0.000025  0.270184   \n",
       "1       0.937824   0.186518  0.096637         0.000234     0.000036  0.224090   \n",
       "2       0.405405   0.186247  0.272819         0.000201     0.000008  0.457882   \n",
       "3       0.714286   0.163438  0.196429         0.000179     0.000010  0.206983   \n",
       "4       1.000000   0.176919  0.130135         0.000104     0.000023  0.095694   \n",
       "\n",
       "   NEVER  RARELY  SOMETIMES  FREQUENTLY  ALWAYS  \n",
       "0  0.053   0.074      0.134       0.295   0.444  \n",
       "1  0.083   0.059      0.098       0.323   0.436  \n",
       "2  0.067   0.121      0.120       0.201   0.491  \n",
       "3  0.020   0.034      0.096       0.278   0.572  \n",
       "4  0.053   0.114      0.180       0.194   0.459  "
      ],
      "text/html": "<div>\n<style scoped>\n    .dataframe tbody tr th:only-of-type {\n        vertical-align: middle;\n    }\n\n    .dataframe tbody tr th {\n        vertical-align: top;\n    }\n\n    .dataframe thead th {\n        text-align: right;\n    }\n</style>\n<table border=\"1\" class=\"dataframe\">\n  <thead>\n    <tr style=\"text-align: right;\">\n      <th></th>\n      <th>Countyname</th>\n      <th>ST_Name</th>\n      <th>ST_Abbr</th>\n      <th>FIPS</th>\n      <th>FatalityRa</th>\n      <th>Confirmedb</th>\n      <th>DeathsbyPo</th>\n      <th>PCTPOVALL_</th>\n      <th>Unemployme</th>\n      <th>EM_type</th>\n      <th>EM_date</th>\n      <th>POP_ESTIMA</th>\n      <th>Median_Hou</th>\n      <th>TotalPop</th>\n      <th>NewCasebyP</th>\n      <th>Inpat_Occ</th>\n      <th>ICU_Occ</th>\n      <th>Shape__Area</th>\n      <th>Shape__Length</th>\n      <th>geometry</th>\n      <th>Wh_Perc</th>\n      <th>His_Perc</th>\n      <th>Black_Perc</th>\n      <th>API_Perc</th>\n      <th>Native_Perc</th>\n      <th>Young_Pop</th>\n      <th>Adult_Pop</th>\n      <th>Senior_Pop</th>\n      <th>Staf_Bed_Perc</th>\n      <th>Aged_Perc</th>\n      <th>Pov_Perc</th>\n      <th>beds_per_capita</th>\n      <th>pop_density</th>\n      <th>per_dem</th>\n      <th>NEVER</th>\n      <th>RARELY</th>\n      <th>SOMETIMES</th>\n      <th>FREQUENTLY</th>\n      <th>ALWAYS</th>\n    </tr>\n  </thead>\n  <tbody>\n    <tr>\n      <th>0</th>\n      <td>Autauga</td>\n      <td>Alabama</td>\n      <td>AL</td>\n      <td>01001</td>\n      <td>1.076426</td>\n      <td>8354.17</td>\n      <td>89.926440</td>\n      <td>13.8</td>\n      <td>3.6</td>\n      <td>CQ</td>\n      <td>NaN</td>\n      <td>55601</td>\n      <td>59338</td>\n      <td>55200</td>\n      <td>178.054352</td>\n      <td>96.320346</td>\n      <td>100.000000</td>\n      <td>2.209382e+09</td>\n      <td>246839.865479</td>\n      <td>POLYGON ((-86.41312 32.70739, -86.41219 32.526...</td>\n      <td>0.750217</td>\n      <td>0.027681</td>\n      <td>0.189764</td>\n      <td>0.010380</td>\n      <td>0.002880</td>\n      <td>0.326703</td>\n      <td>0.527464</td>\n      <td>0.145833</td>\n      <td>0.647059</td>\n      <td>0.144782</td>\n      <td>0.136454</td>\n      <td>0.000108</td>\n      <td>0.000025</td>\n      <td>0.270184</td>\n      <td>0.053</td>\n      <td>0.074</td>\n      <td>0.134</td>\n      <td>0.295</td>\n      <td>0.444</td>\n    </tr>\n    <tr>\n      <th>1</th>\n      <td>Baldwin</td>\n      <td>Alabama</td>\n      <td>AL</td>\n      <td>01003</td>\n      <td>1.166758</td>\n      <td>6722.26</td>\n      <td>78.432452</td>\n      <td>9.8</td>\n      <td>3.6</td>\n      <td>CQ</td>\n      <td>NaN</td>\n      <td>218022</td>\n      <td>57588</td>\n      <td>208107</td>\n      <td>99.072571</td>\n      <td>74.029401</td>\n      <td>120.089286</td>\n      <td>5.770469e+09</td>\n      <td>728445.072448</td>\n      <td>MULTIPOLYGON (((-87.78878 31.29877, -87.78849 ...</td>\n      <td>0.830188</td>\n      <td>0.044943</td>\n      <td>0.093841</td>\n      <td>0.008058</td>\n      <td>0.006718</td>\n      <td>0.293685</td>\n      <td>0.510910</td>\n      <td>0.195404</td>\n      <td>0.937824</td>\n      <td>0.186518</td>\n      <td>0.096637</td>\n      <td>0.000234</td>\n      <td>0.000036</td>\n      <td>0.224090</td>\n      <td>0.083</td>\n      <td>0.059</td>\n      <td>0.098</td>\n      <td>0.323</td>\n      <td>0.436</td>\n    </tr>\n    <tr>\n      <th>2</th>\n      <td>Barbour</td>\n      <td>Alabama</td>\n      <td>AL</td>\n      <td>01005</td>\n      <td>2.191609</td>\n      <td>6418.55</td>\n      <td>140.669587</td>\n      <td>30.9</td>\n      <td>5.2</td>\n      <td>CQ</td>\n      <td>NaN</td>\n      <td>24881</td>\n      <td>34382</td>\n      <td>25782</td>\n      <td>88.420883</td>\n      <td>56.711409</td>\n      <td>88.571429</td>\n      <td>3.258643e+09</td>\n      <td>307285.154510</td>\n      <td>POLYGON ((-85.25609 32.13767, -85.25569 32.135...</td>\n      <td>0.461485</td>\n      <td>0.042898</td>\n      <td>0.473160</td>\n      <td>0.003336</td>\n      <td>0.002444</td>\n      <td>0.295128</td>\n      <td>0.525134</td>\n      <td>0.179738</td>\n      <td>0.405405</td>\n      <td>0.186247</td>\n      <td>0.272819</td>\n      <td>0.000201</td>\n      <td>0.000008</td>\n      <td>0.457882</td>\n      <td>0.067</td>\n      <td>0.121</td>\n      <td>0.120</td>\n      <td>0.201</td>\n      <td>0.491</td>\n    </tr>\n    <tr>\n      <th>3</th>\n      <td>Bibb</td>\n      <td>Alabama</td>\n      <td>AL</td>\n      <td>01007</td>\n      <td>2.469136</td>\n      <td>8678.57</td>\n      <td>214.285714</td>\n      <td>21.8</td>\n      <td>4.0</td>\n      <td>CQ</td>\n      <td>NaN</td>\n      <td>22400</td>\n      <td>46064</td>\n      <td>22527</td>\n      <td>93.750000</td>\n      <td>19.047619</td>\n      <td>NaN</td>\n      <td>2.310715e+09</td>\n      <td>227886.963840</td>\n      <td>POLYGON ((-87.02685 33.24646, -87.02572 33.209...</td>\n      <td>0.745816</td>\n      <td>0.024282</td>\n      <td>0.220802</td>\n      <td>0.001642</td>\n      <td>0.000355</td>\n      <td>0.299507</td>\n      <td>0.537977</td>\n      <td>0.162516</td>\n      <td>0.714286</td>\n      <td>0.163438</td>\n      <td>0.196429</td>\n      <td>0.000179</td>\n      <td>0.000010</td>\n      <td>0.206983</td>\n      <td>0.020</td>\n      <td>0.034</td>\n      <td>0.096</td>\n      <td>0.278</td>\n      <td>0.572</td>\n    </tr>\n    <tr>\n      <th>4</th>\n      <td>Blount</td>\n      <td>Alabama</td>\n      <td>AL</td>\n      <td>01009</td>\n      <td>1.367905</td>\n      <td>8468.19</td>\n      <td>115.836791</td>\n      <td>13.2</td>\n      <td>3.5</td>\n      <td>CQ</td>\n      <td>NaN</td>\n      <td>57840</td>\n      <td>50412</td>\n      <td>57645</td>\n      <td>84.716459</td>\n      <td>76.190476</td>\n      <td>92.857143</td>\n      <td>2.456058e+09</td>\n      <td>286306.840721</td>\n      <td>POLYGON ((-86.44507 34.24954, -86.40902 34.205...</td>\n      <td>0.871403</td>\n      <td>0.091266</td>\n      <td>0.014225</td>\n      <td>0.003747</td>\n      <td>0.002151</td>\n      <td>0.312568</td>\n      <td>0.509914</td>\n      <td>0.177518</td>\n      <td>1.000000</td>\n      <td>0.176919</td>\n      <td>0.130135</td>\n      <td>0.000104</td>\n      <td>0.000023</td>\n      <td>0.095694</td>\n      <td>0.053</td>\n      <td>0.114</td>\n      <td>0.180</td>\n      <td>0.194</td>\n      <td>0.459</td>\n    </tr>\n  </tbody>\n</table>\n</div>"
     },
     "metadata": {},
     "execution_count": 58
    }
   ],
   "source": [
    "df = pd.DataFrame(merged_2)\n",
    "df.head()"
   ]
  },
  {
   "cell_type": "code",
   "execution_count": 59,
   "metadata": {},
   "outputs": [
    {
     "output_type": "execute_result",
     "data": {
      "text/plain": [
       "Index(['Countyname', 'ST_Name', 'ST_Abbr', 'FIPS', 'FatalityRa', 'Confirmedb',\n",
       "       'DeathsbyPo', 'PCTPOVALL_', 'Unemployme', 'EM_type', 'EM_date',\n",
       "       'POP_ESTIMA', 'Median_Hou', 'TotalPop', 'NewCasebyP', 'Inpat_Occ',\n",
       "       'ICU_Occ', 'Shape__Area', 'Shape__Length', 'geometry', 'Wh_Perc',\n",
       "       'His_Perc', 'Black_Perc', 'API_Perc', 'Native_Perc', 'Young_Pop',\n",
       "       'Adult_Pop', 'Senior_Pop', 'Staf_Bed_Perc', 'Aged_Perc', 'Pov_Perc',\n",
       "       'beds_per_capita', 'pop_density', 'per_dem', 'NEVER', 'RARELY',\n",
       "       'SOMETIMES', 'FREQUENTLY', 'ALWAYS'],\n",
       "      dtype='object')"
      ]
     },
     "metadata": {},
     "execution_count": 59
    }
   ],
   "source": [
    "df.columns"
   ]
  },
  {
   "cell_type": "code",
   "execution_count": 64,
   "metadata": {},
   "outputs": [
    {
     "output_type": "execute_result",
     "data": {
      "text/plain": [
       "Index(['FIPS', 'FatalityRa', 'Confirmedb', 'DeathsbyPo', 'PCTPOVALL_',\n",
       "       'Unemployme', 'POP_ESTIMA', 'Median_Hou', 'TotalPop', 'NewCasebyP',\n",
       "       'Inpat_Occ', 'ICU_Occ', 'Shape__Area', 'Shape__Length', 'Wh_Perc',\n",
       "       'His_Perc', 'Black_Perc', 'API_Perc', 'Native_Perc', 'Young_Pop',\n",
       "       'Adult_Pop', 'Senior_Pop', 'Staf_Bed_Perc', 'Aged_Perc', 'Pov_Perc',\n",
       "       'beds_per_capita', 'pop_density', 'NEVER', 'RARELY', 'SOMETIMES',\n",
       "       'FREQUENTLY', 'ALWAYS'],\n",
       "      dtype='object')"
      ]
     },
     "metadata": {},
     "execution_count": 64
    }
   ],
   "source": [
    "# Create scatterplots with regression line with regplot() of continuous variables\n",
    "features = df[['FIPS', 'FatalityRa', 'Confirmedb',\n",
    "       'DeathsbyPo', 'PCTPOVALL_', 'Unemployme', 'POP_ESTIMA',\n",
    "       'Median_Hou', 'TotalPop', 'NewCasebyP', 'Inpat_Occ', 'ICU_Occ',\n",
    "       'Shape__Area', 'Shape__Length', 'Wh_Perc', 'His_Perc',\n",
    "       'Black_Perc', 'API_Perc', 'Native_Perc', 'Young_Pop', 'Adult_Pop',\n",
    "       'Senior_Pop', 'Staf_Bed_Perc', 'Aged_Perc', 'Pov_Perc',\n",
    "       'beds_per_capita', 'pop_density', 'NEVER', 'RARELY',\n",
    "       'SOMETIMES', 'FREQUENTLY', 'ALWAYS']]\n",
    "target = df['per_dem']\n",
    "feat_col = features.columns\n",
    "feat_col"
   ]
  },
  {
   "cell_type": "code",
   "execution_count": 62,
   "metadata": {},
   "outputs": [],
   "source": [
    "df.FIPS = df.FIPS.astype(int)"
   ]
  },
  {
   "cell_type": "code",
   "execution_count": 65,
   "metadata": {},
   "outputs": [
    {
     "output_type": "execute_result",
     "data": {
      "text/plain": [
       "FIPS                 int64\n",
       "FatalityRa         float64\n",
       "Confirmedb         float64\n",
       "DeathsbyPo         float64\n",
       "PCTPOVALL_         float64\n",
       "Unemployme         float64\n",
       "POP_ESTIMA           int64\n",
       "Median_Hou           int64\n",
       "TotalPop             int64\n",
       "NewCasebyP         float64\n",
       "Inpat_Occ          float64\n",
       "ICU_Occ            float64\n",
       "Shape__Area        float64\n",
       "Shape__Length      float64\n",
       "Wh_Perc            float64\n",
       "His_Perc           float64\n",
       "Black_Perc         float64\n",
       "API_Perc           float64\n",
       "Native_Perc        float64\n",
       "Young_Pop          float64\n",
       "Adult_Pop          float64\n",
       "Senior_Pop         float64\n",
       "Staf_Bed_Perc      float64\n",
       "Aged_Perc          float64\n",
       "Pov_Perc           float64\n",
       "beds_per_capita    float64\n",
       "pop_density        float64\n",
       "NEVER              float64\n",
       "RARELY             float64\n",
       "SOMETIMES          float64\n",
       "FREQUENTLY         float64\n",
       "ALWAYS             float64\n",
       "dtype: object"
      ]
     },
     "metadata": {},
     "execution_count": 65
    }
   ],
   "source": [
    "features.dtypes"
   ]
  },
  {
   "cell_type": "code",
   "execution_count": 68,
   "metadata": {},
   "outputs": [],
   "source": [
    "# con = pd.melt(df, id_vars='per_dem', value_vars=feat_col)\n",
    "# g = sns.FacetGrid(con, col='variable', col_wrap=3, sharex=False, sharey=False, height=4)\n",
    "# g = g.map(sns.regplot, 'value', 'per_dem', color='darkorange')\n",
    "# g.set_xticklabels(rotation=45)\n",
    "# plt.savefig('images/regplot.png')"
   ]
  },
  {
   "source": [
    "<img src='images/regplot.png'>"
   ],
   "cell_type": "markdown",
   "metadata": {}
  },
  {
   "cell_type": "code",
   "execution_count": null,
   "metadata": {},
   "outputs": [],
   "source": []
  }
 ],
 "metadata": {
  "kernelspec": {
   "display_name": "Python 3",
   "language": "python",
   "name": "python3"
  },
  "language_info": {
   "codemirror_mode": {
    "name": "ipython",
    "version": 3
   },
   "file_extension": ".py",
   "mimetype": "text/x-python",
   "name": "python",
   "nbconvert_exporter": "python",
   "pygments_lexer": "ipython3",
   "version": "3.9.1-final"
  }
 },
 "nbformat": 4,
 "nbformat_minor": 2
}