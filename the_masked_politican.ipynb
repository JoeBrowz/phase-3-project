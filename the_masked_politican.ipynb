{
 "cells": [
  {
   "cell_type": "markdown",
   "metadata": {},
   "source": [
    "# Import packages"
   ]
  },
  {
   "cell_type": "code",
   "execution_count": 791,
   "metadata": {},
   "outputs": [],
   "source": [
    "import requests\n",
    "import json\n",
    "import pandas as pd\n",
    "import numpy as np\n",
    "from io import StringIO\n",
    "import seaborn as sns\n",
    "import matplotlib.pyplot as plt\n",
    "from bs4 import BeautifulSoup as bs\n",
    "import pickle\n",
    "import geopandas as gpd\n",
    "\n",
    "\n",
    "from datetime import date, timedelta\n",
    "import covidcast\n",
    "\n",
    "from sklearn.pipeline import Pipeline \n",
    "from sklearn.impute import KNNImputer, SimpleImputer \n",
    "from sklearn.preprocessing import StandardScaler\n",
    "from sklearn.model_selection import train_test_split, GridSearchCV\n",
    "from sklearn.ensemble import RandomForestClassifier\n",
    "\n",
    "pd.set_option('display.max_columns', 100)"
   ]
  },
  {
   "cell_type": "markdown",
   "metadata": {},
   "source": [
    "# Import Data"
   ]
  },
  {
   "cell_type": "code",
   "execution_count": 792,
   "metadata": {
    "scrolled": true
   },
   "outputs": [],
   "source": [
    "url = 'https://raw.githubusercontent.com/nytimes/covid-19-data/master/mask-use/mask-use-by-county.csv'\n",
    "s = requests.get(url).text\n",
    "nymask = pd.read_csv(StringIO(s))"
   ]
  },
  {
   "cell_type": "code",
   "execution_count": 793,
   "metadata": {},
   "outputs": [],
   "source": [
    "nymask.COUNTYFP = nymask.COUNTYFP.astype(str)\n",
    "nymask.COUNTYFP = np.where(nymask['COUNTYFP'].str.len() == 4, '0' + nymask.COUNTYFP, nymask.COUNTYFP)\n",
    "nymask.COUNTYFP = nymask.COUNTYFP.astype(int)\n",
    "nymask.columns = ['FIPS', 'NEVER', 'RARELY', 'SOMETIMES', 'FREQUENTLY', 'ALWAYS']"
   ]
  },
  {
   "cell_type": "code",
   "execution_count": 794,
   "metadata": {},
   "outputs": [],
   "source": [
    "# create variable to hold date object for two days ago\n",
    "two_days_ago = date.today() - timedelta(days=2)"
   ]
  },
  {
   "cell_type": "code",
   "execution_count": 795,
   "metadata": {},
   "outputs": [],
   "source": [
    "# get the most recent survey data\n",
    "mask_ind = covidcast.signal(\"fb-survey\", \"smoothed_wearing_mask\",\n",
    "                            date(2020, 10, 1), two_days_ago,\n",
    "                            \"county\")\n",
    "mask_oth = covidcast.signal('fb-survey', 'smoothed_others_masked', \n",
    "                            date(2020, 11, 24),two_days_ago, \n",
    "                            \"county\")"
   ]
  },
  {
   "cell_type": "code",
   "execution_count": 796,
   "metadata": {},
   "outputs": [],
   "source": [
    "# remove data that isn't at the county level\n",
    "mask_fip = mask_ind.loc[~mask_ind.geo_value.str.endswith('000')]\n",
    "mask_oth = mask_oth.loc[~mask_oth.geo_value.str.endswith('000')]"
   ]
  },
  {
   "cell_type": "code",
   "execution_count": 797,
   "metadata": {},
   "outputs": [
    {
     "name": "stdout",
     "output_type": "stream",
     "text": [
      "(723,)\n",
      "(674,)\n"
     ]
    },
    {
     "data": {
      "text/plain": [
       "(653,)"
      ]
     },
     "execution_count": 797,
     "metadata": {},
     "output_type": "execute_result"
    }
   ],
   "source": [
    "# check number of counties represented \n",
    "print(mask_ind.geo_value.value_counts().shape)\n",
    "print(mask_fip.geo_value.value_counts().shape)\n",
    "mask_oth.geo_value.value_counts().shape"
   ]
  },
  {
   "cell_type": "code",
   "execution_count": 798,
   "metadata": {},
   "outputs": [],
   "source": [
    "# pare down datasets to just columns of interest\n",
    "mask_ind_means = pd.DataFrame(mask_fip.groupby(['geo_value'])['value'].mean()).reset_index()\n",
    "mask_ind_means.columns = ['FIPS', 'ind_mask']\n",
    "mask_ind_means['FIPS'] = mask_ind_means['FIPS'].astype(int)\n",
    "# repeat for other survey\n",
    "mask_oth_means = pd.DataFrame(mask_oth.groupby(['geo_value'])['value'].mean()).reset_index()\n",
    "mask_oth_means.columns = ['FIPS', 'oth_mask']\n",
    "mask_oth_means['FIPS'] = mask_oth_means['FIPS'].astype(int)"
   ]
  },
  {
   "cell_type": "code",
   "execution_count": 799,
   "metadata": {},
   "outputs": [],
   "source": [
    "mask_means = mask_ind_means.merge(mask_oth_means, on = 'FIPS', how = 'outer')\n",
    "mask_w_nyt = mask_means.merge(nymask, on = 'FIPS', how = 'outer')"
   ]
  },
  {
   "cell_type": "code",
   "execution_count": 800,
   "metadata": {},
   "outputs": [],
   "source": [
    "election = pd.read_csv('data/county_statistics.csv', index_col=\"Unnamed: 0\")"
   ]
  },
  {
   "cell_type": "code",
   "execution_count": 801,
   "metadata": {},
   "outputs": [],
   "source": [
    "election = election[election.county != 'Unassigned']\n",
    "election['county'] = election['county'] + ', ' + election['state']\n",
    "# election.drop(['state'], axis=1, inplace=True)"
   ]
  },
  {
   "cell_type": "code",
   "execution_count": 802,
   "metadata": {},
   "outputs": [],
   "source": [
    "to_keep = ['county', 'total_votes20' , 'percentage20_Joe_Biden']\n",
    "election = election.dropna(subset=['votes20_Joe_Biden'])"
   ]
  },
  {
   "cell_type": "code",
   "execution_count": 803,
   "metadata": {},
   "outputs": [],
   "source": [
    "merge_elec = election[to_keep]"
   ]
  },
  {
   "cell_type": "code",
   "execution_count": 804,
   "metadata": {},
   "outputs": [
    {
     "name": "stdout",
     "output_type": "stream",
     "text": [
      "(4633, 3)\n"
     ]
    }
   ],
   "source": [
    "print(merge_elec.shape)\n",
    "# election.columns"
   ]
  },
  {
   "cell_type": "code",
   "execution_count": 805,
   "metadata": {},
   "outputs": [],
   "source": [
    "rural_urban = pd.read_excel('data/ru_code.xls')\n",
    "fip_rur = rural_urban[['FIPS', 'RUCC_2013']]"
   ]
  },
  {
   "cell_type": "code",
   "execution_count": 806,
   "metadata": {},
   "outputs": [],
   "source": [
    "geo = gpd.read_file('https://opendata.arcgis.com/datasets/4cb598ae041348fb92270f102a6783cb_0.geojson')"
   ]
  },
  {
   "cell_type": "code",
   "execution_count": 807,
   "metadata": {},
   "outputs": [],
   "source": [
    "geo = geo[~geo.Countyname.str.contains(\"Out of\")]\n",
    "geo = geo[~geo.Countyname.str.contains(\"Unassigned\")]\n",
    "geo = geo[~geo.ST_Name.str.contains(\"Puerto Rico\")]\n",
    "geo.drop(geo.tail(7).index, inplace=True)\n",
    "geo['FIPS'] = geo.FIPS.astype('int64')"
   ]
  },
  {
   "cell_type": "code",
   "execution_count": 808,
   "metadata": {},
   "outputs": [],
   "source": [
    "# prelim feature engineering\n",
    "geo['Staf_Bed_Perc'] = geo['Beds_Staff'] / geo['Beds_Licen']\n",
    "geo['Aged_Perc'] = geo.AgedPop / geo.POP_ESTIMA\n",
    "geo['Pov_Perc'] = geo.POVALL_201 / geo.POP_ESTIMA\n",
    "geo['beds_per_capita'] = geo.Beds_ICU / geo.POP_ESTIMA\n",
    "geo['pop_density'] = geo['TotalPop'] / geo['Shape__Area']\n",
    "geo['county'] = geo['Countyname'] + ', ' + geo['ST_Abbr']\n",
    "# drop unneeded columns\n",
    "geo.drop(columns=['Day_1', 'Day_2', 'Day_3', 'Day_4', 'Day_5', \n",
    "                  'Day_6', 'Day_7', 'Day_8', 'Day_9', 'Day_10', \n",
    "                  'Day_11', 'Day_12', 'Day_13', 'Day_14', \n",
    "                  'OBJECTID', 'ST_ID', 'PCTPOVALL_', 'Med_HH_Inc', \n",
    "                  'State_Fata', 'DateChecke', 'url', 'Thumbnail', \n",
    "                  'State_Conf', 'State_Deat', 'State_Reco', 'State_Test', \n",
    "                  'POP_ESTIMA', 'NonHispWhP', 'BlackPop', 'AmIndop', 'PacIslPop', \n",
    "                  'OtherPop', 'TwoMorPop', 'HispPop', 'NonHisp', 'Age_85', \n",
    "                  'Age_80_84', 'Age_75_79', 'Age_70_74', 'Age_65_69', \n",
    "                  'Agetotal', 'AsianPop', 'Countyname', 'ST_Name',\n",
    "                  'Age_Less15', 'Age_15_24', 'Age_25_34', 'Age_35_64', \n",
    "                  'Age_65_74', 'Confirmed', 'Deaths', 'Unemployed', 'Beds_Licen', \n",
    "                  'Beds_Staff', 'Ventilator', 'Unemployed', 'Beds_ICU', 'AgedPop',\n",
    "                  'Wh_Alone', 'Bk_Alone', 'AI_Alone', 'As_Alone', 'NH_Alone', 'SO_Alone', \n",
    "                  'Two_More', 'Not_Hisp', 'Age_Over75'], \n",
    "            inplace=True)"
   ]
  },
  {
   "cell_type": "code",
   "execution_count": 809,
   "metadata": {},
   "outputs": [],
   "source": [
    "geo.drop(columns=['Recovered', 'Active'], inplace=True)\n",
    "geo.drop(columns=['EM_notes'], inplace=True)\n",
    "geo.EM_date = geo.EM_date.str.extract(r'((\\d+)\\/(\\d{2})\\/(\\d{4}))')\n",
    "geo.EM_type = geo.EM_type.replace({'Govt Ordered Community Quarantine': 'CQ', 'Govt Directed Social Distancing': 'SD'})"
   ]
  },
  {
   "cell_type": "code",
   "execution_count": 810,
   "metadata": {},
   "outputs": [
    {
     "data": {
      "text/plain": [
       "(3234, 2)"
      ]
     },
     "execution_count": 810,
     "metadata": {},
     "output_type": "execute_result"
    }
   ],
   "source": [
    "fip_rur.shape"
   ]
  },
  {
   "cell_type": "code",
   "execution_count": 811,
   "metadata": {},
   "outputs": [],
   "source": [
    "geo = geo.merge(fip_rur, how = 'left', on = 'FIPS')"
   ]
  },
  {
   "cell_type": "code",
   "execution_count": 812,
   "metadata": {},
   "outputs": [],
   "source": [
    "merge1 = geo.merge(mask_w_nyt, how = 'left', on = 'FIPS')\n",
    "# non_impute = merge1.merge(merge_elec, on = 'county',how='left', sort=True)"
   ]
  },
  {
   "cell_type": "code",
   "execution_count": 813,
   "metadata": {
    "scrolled": true
   },
   "outputs": [
    {
     "name": "stdout",
     "output_type": "stream",
     "text": [
      "<class 'geopandas.geodataframe.GeoDataFrame'>\n",
      "Int64Index: 3142 entries, 0 to 3141\n",
      "Data columns (total 33 columns):\n",
      " #   Column           Non-Null Count  Dtype   \n",
      "---  ------           --------------  -----   \n",
      " 0   ST_Abbr          3142 non-null   object  \n",
      " 1   FIPS             3142 non-null   int64   \n",
      " 2   FatalityRa       3142 non-null   float64 \n",
      " 3   Confirmedb       3142 non-null   float64 \n",
      " 4   DeathsbyPo       3142 non-null   float64 \n",
      " 5   Unemployme       3142 non-null   float64 \n",
      " 6   EM_type          3142 non-null   object  \n",
      " 7   EM_date          2515 non-null   object  \n",
      " 8   POVALL_201       3142 non-null   int64   \n",
      " 9   Median_Hou       3142 non-null   int64   \n",
      " 10  NewCases         3142 non-null   int64   \n",
      " 11  NewDeaths        3142 non-null   int64   \n",
      " 12  TotalPop         3142 non-null   int64   \n",
      " 13  NewCasebyP       3142 non-null   float64 \n",
      " 14  Inpat_Occ        2423 non-null   float64 \n",
      " 15  ICU_Occ          1552 non-null   float64 \n",
      " 16  Shape__Area      3142 non-null   float64 \n",
      " 17  Shape__Length    3142 non-null   float64 \n",
      " 18  geometry         3142 non-null   geometry\n",
      " 19  Staf_Bed_Perc    2477 non-null   float64 \n",
      " 20  Aged_Perc        3141 non-null   float64 \n",
      " 21  Pov_Perc         3141 non-null   float64 \n",
      " 22  beds_per_capita  3141 non-null   float64 \n",
      " 23  pop_density      3142 non-null   float64 \n",
      " 24  county           3142 non-null   object  \n",
      " 25  RUCC_2013        3140 non-null   float64 \n",
      " 26  ind_mask         674 non-null    float64 \n",
      " 27  oth_mask         653 non-null    float64 \n",
      " 28  NEVER            3142 non-null   float64 \n",
      " 29  RARELY           3142 non-null   float64 \n",
      " 30  SOMETIMES        3142 non-null   float64 \n",
      " 31  FREQUENTLY       3142 non-null   float64 \n",
      " 32  ALWAYS           3142 non-null   float64 \n",
      "dtypes: float64(22), geometry(1), int64(6), object(4)\n",
      "memory usage: 834.6+ KB\n"
     ]
    }
   ],
   "source": [
    "merge1.info()"
   ]
  },
  {
   "cell_type": "code",
   "execution_count": 815,
   "metadata": {},
   "outputs": [],
   "source": [
    "impute_df = merge1[['TotalPop', 'Median_Hou', 'RUCC_2013', 'ind_mask', 'oth_mask']]\n",
    "# impute_df['RUCC_2013'].astype(str)"
   ]
  },
  {
   "cell_type": "code",
   "execution_count": 816,
   "metadata": {},
   "outputs": [],
   "source": [
    "# scaler = StandardScaler()\n",
    "# impute_df = pd.DataFrame(scaler.fit_transform(impute_df), columns = impute_df.columns)"
   ]
  },
  {
   "cell_type": "code",
   "execution_count": 817,
   "metadata": {},
   "outputs": [],
   "source": [
    "# knn_imputer = KNNImputer(n_neighbors=5, weights = 'distance')\n",
    "# simple_imputer = SimpleImputer()"
   ]
  },
  {
   "cell_type": "code",
   "execution_count": 818,
   "metadata": {},
   "outputs": [],
   "source": [
    "# imputed = knn_imputer.fit_transform(impute_df)\n",
    "# imputed = simple_imputer.fit_transform(impute_df)"
   ]
  },
  {
   "cell_type": "code",
   "execution_count": 819,
   "metadata": {},
   "outputs": [],
   "source": [
    "# mask_imputed = pd.DataFrame(imputed, columns = impute_df.columns)['ind_mask']"
   ]
  },
  {
   "cell_type": "code",
   "execution_count": 820,
   "metadata": {},
   "outputs": [],
   "source": [
    "# merge1['ind_mask'] = mask_imputed"
   ]
  },
  {
   "cell_type": "code",
   "execution_count": 821,
   "metadata": {},
   "outputs": [
    {
     "data": {
      "text/plain": [
       "94"
      ]
     },
     "execution_count": 821,
     "metadata": {},
     "output_type": "execute_result"
    }
   ],
   "source": [
    "elec_geo_df = merge1.merge(merge_elec, on = 'county',how='left', sort=True)\n",
    "# elec_geo_df = elec_geo_df.merge(mask_ind_means, how = 'left', on = 'FIPS')\n",
    "elec_geo_df.percentage20_Joe_Biden.isna().sum()"
   ]
  },
  {
   "cell_type": "code",
   "execution_count": 822,
   "metadata": {
    "scrolled": true
   },
   "outputs": [
    {
     "name": "stdout",
     "output_type": "stream",
     "text": [
      "<class 'geopandas.geodataframe.GeoDataFrame'>\n",
      "Int64Index: 3142 entries, 0 to 3141\n",
      "Data columns (total 35 columns):\n",
      " #   Column                  Non-Null Count  Dtype   \n",
      "---  ------                  --------------  -----   \n",
      " 0   ST_Abbr                 3142 non-null   object  \n",
      " 1   FIPS                    3142 non-null   int64   \n",
      " 2   FatalityRa              3142 non-null   float64 \n",
      " 3   Confirmedb              3142 non-null   float64 \n",
      " 4   DeathsbyPo              3142 non-null   float64 \n",
      " 5   Unemployme              3142 non-null   float64 \n",
      " 6   EM_type                 3142 non-null   object  \n",
      " 7   EM_date                 2515 non-null   object  \n",
      " 8   POVALL_201              3142 non-null   int64   \n",
      " 9   Median_Hou              3142 non-null   int64   \n",
      " 10  NewCases                3142 non-null   int64   \n",
      " 11  NewDeaths               3142 non-null   int64   \n",
      " 12  TotalPop                3142 non-null   int64   \n",
      " 13  NewCasebyP              3142 non-null   float64 \n",
      " 14  Inpat_Occ               2423 non-null   float64 \n",
      " 15  ICU_Occ                 1552 non-null   float64 \n",
      " 16  Shape__Area             3142 non-null   float64 \n",
      " 17  Shape__Length           3142 non-null   float64 \n",
      " 18  geometry                3142 non-null   geometry\n",
      " 19  Staf_Bed_Perc           2477 non-null   float64 \n",
      " 20  Aged_Perc               3141 non-null   float64 \n",
      " 21  Pov_Perc                3141 non-null   float64 \n",
      " 22  beds_per_capita         3141 non-null   float64 \n",
      " 23  pop_density             3142 non-null   float64 \n",
      " 24  county                  3142 non-null   object  \n",
      " 25  RUCC_2013               3140 non-null   float64 \n",
      " 26  ind_mask                674 non-null    float64 \n",
      " 27  oth_mask                653 non-null    float64 \n",
      " 28  NEVER                   3142 non-null   float64 \n",
      " 29  RARELY                  3142 non-null   float64 \n",
      " 30  SOMETIMES               3142 non-null   float64 \n",
      " 31  FREQUENTLY              3142 non-null   float64 \n",
      " 32  ALWAYS                  3142 non-null   float64 \n",
      " 33  total_votes20           3049 non-null   float64 \n",
      " 34  percentage20_Joe_Biden  3048 non-null   float64 \n",
      "dtypes: float64(24), geometry(1), int64(6), object(4)\n",
      "memory usage: 883.7+ KB\n"
     ]
    }
   ],
   "source": [
    "elec_geo_df.info()"
   ]
  },
  {
   "cell_type": "code",
   "execution_count": 823,
   "metadata": {},
   "outputs": [],
   "source": [
    "# scaler2 = StandardScaler()\n",
    "# non_impute = pd.DataFrame(scaler2.fit_transform(non_impute[['percentage20_Joe_Biden', 'ind_mask']]), columns = ['percentage20_Joe_Biden', 'ind_mask'])\n"
   ]
  },
  {
   "cell_type": "code",
   "execution_count": 825,
   "metadata": {},
   "outputs": [
    {
     "data": {
      "text/plain": [
       "<matplotlib.axes._subplots.AxesSubplot at 0x7f845394f7f0>"
      ]
     },
     "execution_count": 825,
     "metadata": {},
     "output_type": "execute_result"
    },
    {
     "data": {
      "image/png": "[encoded data removed]",
      "text/plain": [
       "<Figure size 1440x720 with 1 Axes>"
      ]
     },
     "metadata": {
      "needs_background": "light"
     },
     "output_type": "display_data"
    }
   ],
   "source": [
    "plt.figure(figsize = (20,10))\n",
    "sns.scatterplot(x=elec_geo_df['ind_mask'], y = elec_geo_df['percentage20_Joe_Biden'])\n",
    "# sns.scatterplot(x=non_impute['ind_mask'], y = non_impute['percentage20_Joe_Biden'])"
   ]
  },
  {
   "cell_type": "code",
   "execution_count": 763,
   "metadata": {},
   "outputs": [
    {
     "data": {
      "text/plain": [
       "<matplotlib.axes._subplots.AxesSubplot at 0x7f84538240b8>"
      ]
     },
     "execution_count": 763,
     "metadata": {},
     "output_type": "execute_result"
    },
    {
     "data": {
      "image/png": "[encoded data removed]",
      "text/plain": [
       "<Figure size 1152x720 with 1 Axes>"
      ]
     },
     "metadata": {
      "needs_background": "light"
     },
     "output_type": "display_data"
    }
   ],
   "source": [
    "plt.figure(figsize = (16,10))\n",
    "sns.heatmap(non_impute.isna(), cbar=False)"
   ]
  },
  {
   "cell_type": "code",
   "execution_count": 764,
   "metadata": {},
   "outputs": [],
   "source": [
    "# elec_geo_df.to_file('data/elec.geojson', driver='GeoJSON')"
   ]
  },
  {
   "cell_type": "code",
   "execution_count": 842,
   "metadata": {},
   "outputs": [],
   "source": [
    "condition = [(elec_geo_df['percentage20_Joe_Biden']) <= .25, \n",
    "             (elec_geo_df['percentage20_Joe_Biden'] > .25) & (elec_geo_df['percentage20_Joe_Biden'] <= .50),\n",
    "             (elec_geo_df['percentage20_Joe_Biden'] > .50) & (elec_geo_df['percentage20_Joe_Biden'] <= .75),\n",
    "             (elec_geo_df['percentage20_Joe_Biden']) > .75]\n",
    "choices = [0,1,2,3]\n",
    "\n",
    "elec_geo_df['percentage20_Joe_Biden'] = np.select(condition, choices, elec_geo_df['percentage20_Joe_Biden'])"
   ]
  },
  {
   "cell_type": "code",
   "execution_count": 852,
   "metadata": {},
   "outputs": [
    {
     "data": {
      "text/plain": [
       "(3142, 35)"
      ]
     },
     "execution_count": 852,
     "metadata": {},
     "output_type": "execute_result"
    }
   ],
   "source": [
    "elec_geo_df.shape"
   ]
  },
  {
   "cell_type": "code",
   "execution_count": 856,
   "metadata": {},
   "outputs": [],
   "source": [
    "elec_geo_df.dropna(subset=['TotalPop', 'Median_Hou', 'RUCC_2013', 'ind_mask', 'oth_mask'], inplace=True)"
   ]
  },
  {
   "cell_type": "markdown",
   "metadata": {},
   "source": [
    "# Modeling Process"
   ]
  },
  {
   "cell_type": "code",
   "execution_count": 863,
   "metadata": {},
   "outputs": [],
   "source": [
    "X = elec_geo_df[['TotalPop', 'Median_Hou', 'RUCC_2013', 'ind_mask', 'oth_mask']]\n",
    "y = elec_geo_df['percentage20_Joe_Biden']"
   ]
  },
  {
   "cell_type": "code",
   "execution_count": 864,
   "metadata": {},
   "outputs": [],
   "source": [
    "X_train, X_test, y_train, y_test = train_test_split(X, y)"
   ]
  },
  {
   "cell_type": "code",
   "execution_count": 865,
   "metadata": {},
   "outputs": [],
   "source": [
    "pipeline = Pipeline([('ss', StandardScaler()), ('RF', RandomForestClassifier())])"
   ]
  },
  {
   "cell_type": "code",
   "execution_count": 866,
   "metadata": {},
   "outputs": [],
   "source": [
    "grid = [{'RF__max_depth': [4,5,6],\n",
    "        'RF__min_samples_split': [2,5,10],\n",
    "        'RF__criterion': ['entropy', 'gini'],\n",
    "        'RF__min_samples_leaf': [1,3,5]}]"
   ]
  },
  {
   "cell_type": "code",
   "execution_count": 867,
   "metadata": {},
   "outputs": [],
   "source": [
    "gridsearch = GridSearchCV(estimator = pipeline, param_grid=grid, scoring='accuracy', cv = 5)"
   ]
  },
  {
   "cell_type": "code",
   "execution_count": 868,
   "metadata": {},
   "outputs": [
    {
     "data": {
      "text/plain": [
       "0.7355371900826446"
      ]
     },
     "execution_count": 868,
     "metadata": {},
     "output_type": "execute_result"
    }
   ],
   "source": [
    "gridsearch.fit(X_train, y_train)\n",
    "\n",
    "gridsearch.score(X_test, y_test)"
   ]
  }
 ],
 "metadata": {
  "kernelspec": {
   "display_name": "learn-env",
   "language": "python",
   "name": "learn-env"
  },
  "language_info": {
   "codemirror_mode": {
    "name": "ipython",
    "version": 3
   },
   "file_extension": ".py",
   "mimetype": "text/x-python",
   "name": "python",
   "nbconvert_exporter": "python",
   "pygments_lexer": "ipython3",
   "version": "3.6.9"
  },
  "toc": {
   "base_numbering": 1,
   "nav_menu": {},
   "number_sections": true,
   "sideBar": true,
   "skip_h1_title": false,
   "title_cell": "Table of Contents",
   "title_sidebar": "Contents",
   "toc_cell": false,
   "toc_position": {},
   "toc_section_display": true,
   "toc_window_display": false
  }
 },
 "nbformat": 4,
 "nbformat_minor": 4
}
