{
 "cells": [
  {
   "cell_type": "markdown",
   "metadata": {},
   "source": [
    "# Import packages"
   ]
  },
  {
   "cell_type": "code",
   "execution_count": 44,
   "metadata": {},
   "outputs": [],
   "source": [
    "import requests\n",
    "import json\n",
    "import pandas as pd\n",
    "import numpy as np\n",
    "from io import StringIO\n",
    "import seaborn as sns\n",
    "from bs4 import BeautifulSoup as bs\n",
    "\n",
    "from datetime import date\n",
    "import covidcast\n",
    "\n",
    "import geopandas as gpd\n",
    "import sklearn\n",
    "from sklearn.impute import KNNImputer\n",
    "pd.set_option('display.max_columns', 100)"
   ]
  },
  {
   "cell_type": "code",
   "execution_count": 45,
   "metadata": {
    "scrolled": true
   },
   "outputs": [],
   "source": [
    "url = 'https://raw.githubusercontent.com/nytimes/covid-19-data/master/mask-use/mask-use-by-county.csv'\n",
    "s = requests.get(url).text\n",
    "nymask = pd.read_csv(StringIO(s))"
   ]
  },
  {
   "cell_type": "code",
   "execution_count": 46,
   "metadata": {},
   "outputs": [],
   "source": [
    "nymask.COUNTYFP = nymask.COUNTYFP.astype(str)\n",
    "nymask.COUNTYFP = np.where(nymask['COUNTYFP'].str.len() == 4, '0' + nymask.COUNTYFP, nymask.COUNTYFP) "
   ]
  },
  {
   "cell_type": "code",
   "execution_count": 47,
   "metadata": {},
   "outputs": [
    {
     "name": "stdout",
     "output_type": "stream",
     "text": [
      "(897801, 6)\n",
      "Index(['date', 'county', 'state', 'fips', 'cases', 'deaths'], dtype='object')\n"
     ]
    }
   ],
   "source": [
    "url = 'https://raw.githubusercontent.com/nytimes/covid-19-data/master/us-counties.csv'\n",
    "s = requests.get(url).text\n",
    "df6 = pd.read_csv(StringIO(s))\n",
    "print(df6.shape)\n",
    "print(df6.columns)\n",
    "# df6.head()"
   ]
  },
  {
   "cell_type": "code",
   "execution_count": 48,
   "metadata": {},
   "outputs": [],
   "source": [
    "mask_ind = covidcast.signal(\"fb-survey\", \"smoothed_wearing_mask\",\n",
    "                        date(2020, 10, 1), date(2020, 11, 4),\n",
    "                        \"county\")"
   ]
  },
  {
   "cell_type": "code",
   "execution_count": 49,
   "metadata": {},
   "outputs": [],
   "source": [
    "mask_fip = mask_ind.loc[~mask_ind.geo_value.str.endswith('000')]"
   ]
  },
  {
   "cell_type": "code",
   "execution_count": 50,
   "metadata": {},
   "outputs": [
    {
     "name": "stdout",
     "output_type": "stream",
     "text": [
      "(640,)\n"
     ]
    },
    {
     "data": {
      "text/plain": [
       "(592,)"
      ]
     },
     "execution_count": 50,
     "metadata": {},
     "output_type": "execute_result"
    }
   ],
   "source": [
    "print(mask_ind.geo_value.value_counts().shape)\n",
    "mask_fip.geo_value.value_counts().shape"
   ]
  },
  {
   "cell_type": "code",
   "execution_count": 51,
   "metadata": {},
   "outputs": [
    {
     "data": {
      "text/html": [
       "<div>\n",
       "<style scoped>\n",
       "    .dataframe tbody tr th:only-of-type {\n",
       "        vertical-align: middle;\n",
       "    }\n",
       "\n",
       "    .dataframe tbody tr th {\n",
       "        vertical-align: top;\n",
       "    }\n",
       "\n",
       "    .dataframe thead th {\n",
       "        text-align: right;\n",
       "    }\n",
       "</style>\n",
       "<table border=\"1\" class=\"dataframe\">\n",
       "  <thead>\n",
       "    <tr style=\"text-align: right;\">\n",
       "      <th></th>\n",
       "      <th>FIPS</th>\n",
       "      <th>ind_mask</th>\n",
       "    </tr>\n",
       "  </thead>\n",
       "  <tbody>\n",
       "    <tr>\n",
       "      <th>0</th>\n",
       "      <td>01003</td>\n",
       "      <td>75.669396</td>\n",
       "    </tr>\n",
       "    <tr>\n",
       "      <th>1</th>\n",
       "      <td>01069</td>\n",
       "      <td>84.805330</td>\n",
       "    </tr>\n",
       "    <tr>\n",
       "      <th>2</th>\n",
       "      <td>01073</td>\n",
       "      <td>88.936083</td>\n",
       "    </tr>\n",
       "    <tr>\n",
       "      <th>3</th>\n",
       "      <td>01089</td>\n",
       "      <td>89.685856</td>\n",
       "    </tr>\n",
       "    <tr>\n",
       "      <th>4</th>\n",
       "      <td>01097</td>\n",
       "      <td>82.273652</td>\n",
       "    </tr>\n",
       "    <tr>\n",
       "      <th>...</th>\n",
       "      <td>...</td>\n",
       "      <td>...</td>\n",
       "    </tr>\n",
       "    <tr>\n",
       "      <th>587</th>\n",
       "      <td>55133</td>\n",
       "      <td>85.785520</td>\n",
       "    </tr>\n",
       "    <tr>\n",
       "      <th>588</th>\n",
       "      <td>55139</td>\n",
       "      <td>88.268850</td>\n",
       "    </tr>\n",
       "    <tr>\n",
       "      <th>589</th>\n",
       "      <td>55141</td>\n",
       "      <td>82.577264</td>\n",
       "    </tr>\n",
       "    <tr>\n",
       "      <th>590</th>\n",
       "      <td>56021</td>\n",
       "      <td>72.517789</td>\n",
       "    </tr>\n",
       "    <tr>\n",
       "      <th>591</th>\n",
       "      <td>56025</td>\n",
       "      <td>60.442127</td>\n",
       "    </tr>\n",
       "  </tbody>\n",
       "</table>\n",
       "<p>592 rows × 2 columns</p>\n",
       "</div>"
      ],
      "text/plain": [
       "      FIPS   ind_mask\n",
       "0    01003  75.669396\n",
       "1    01069  84.805330\n",
       "2    01073  88.936083\n",
       "3    01089  89.685856\n",
       "4    01097  82.273652\n",
       "..     ...        ...\n",
       "587  55133  85.785520\n",
       "588  55139  88.268850\n",
       "589  55141  82.577264\n",
       "590  56021  72.517789\n",
       "591  56025  60.442127\n",
       "\n",
       "[592 rows x 2 columns]"
      ]
     },
     "execution_count": 51,
     "metadata": {},
     "output_type": "execute_result"
    }
   ],
   "source": [
    "mask_ind_means = pd.DataFrame(mask_fip.groupby(['geo_value'])['value'].mean()).reset_index()\n",
    "mask_ind_means.columns = ['FIPS', 'ind_mask']\n",
    "mask_ind_means"
   ]
  },
  {
   "cell_type": "code",
   "execution_count": 52,
   "metadata": {},
   "outputs": [],
   "source": [
    "election = pd.read_csv('data/county_statistics.csv', index_col=\"Unnamed: 0\")"
   ]
  },
  {
   "cell_type": "code",
   "execution_count": 53,
   "metadata": {},
   "outputs": [],
   "source": [
    "election = election[election.county != 'Unassigned']\n",
    "election['county'] = election['county'] + ', ' + election['state']\n",
    "# election.drop(['state'], axis=1, inplace=True)"
   ]
  },
  {
   "cell_type": "code",
   "execution_count": 54,
   "metadata": {},
   "outputs": [],
   "source": [
    "to_keep = ['county', 'total_votes20' , 'percentage20_Joe_Biden']\n",
    "election = election.dropna(subset=['votes20_Joe_Biden'])"
   ]
  },
  {
   "cell_type": "code",
   "execution_count": 55,
   "metadata": {},
   "outputs": [],
   "source": [
    "merge_elec = election[to_keep]"
   ]
  },
  {
   "cell_type": "code",
   "execution_count": 56,
   "metadata": {},
   "outputs": [
    {
     "name": "stdout",
     "output_type": "stream",
     "text": [
      "(4633, 3)\n"
     ]
    }
   ],
   "source": [
    "print(merge_elec.shape)\n",
    "# election.columns"
   ]
  },
  {
   "cell_type": "code",
   "execution_count": 57,
   "metadata": {},
   "outputs": [],
   "source": [
    "geo = gpd.read_file('https://opendata.arcgis.com/datasets/4cb598ae041348fb92270f102a6783cb_0.geojson')"
   ]
  },
  {
   "cell_type": "code",
   "execution_count": 58,
   "metadata": {},
   "outputs": [],
   "source": [
    "geo = geo[~geo.Countyname.str.contains(\"Out of\")]\n",
    "geo = geo[~geo.Countyname.str.contains(\"Unassigned\")]\n",
    "geo = geo[~geo.ST_Name.str.contains(\"Puerto Rico\")]\n",
    "geo.drop(geo.tail(7).index, inplace=True)\n",
    "geo['county'] = geo['Countyname'] + ', ' + geo['ST_Abbr']\n",
    "geo.drop(columns=['Day_1', 'Day_2', 'Day_3', 'Day_4', 'Day_5', \n",
    "                  'Day_6', 'Day_7', 'Day_8', 'Day_9', 'Day_10', \n",
    "                  'Day_11', 'Day_12', 'Day_13', 'Day_14', \n",
    "                  'OBJECTID', 'ST_ID', 'PCTPOVALL_', 'Med_HH_Inc', \n",
    "                  'State_Fata', 'DateChecke', 'url', 'Thumbnail', \n",
    "                  'State_Conf', 'State_Deat', 'State_Reco', 'State_Test', \n",
    "                  'TotalPop', 'NonHispWhP', 'BlackPop', 'AmIndop', 'PacIslPop', \n",
    "                  'OtherPop', 'TwoMorPop', 'HispPop', 'NonHisp', 'Age_85', \n",
    "                  'Age_80_84', 'Age_75_79', 'Age_70_74', 'Age_65_69', \n",
    "                  'Agetotal', 'AsianPop', 'Countyname', 'ST_Name',\n",
    "                  'Age_Less15', 'Age_15_24', 'Age_25_34', 'Age_35_64', \n",
    "                  'Age_65_74', 'Confirmed', 'Deaths', 'Unemployed', 'Beds_Licen', \n",
    "                  'Beds_Staff', 'Ventilator', 'Unemployed', 'Beds_ICU', 'AgedPop',\n",
    "                  'Wh_Alone', 'Bk_Alone', 'AI_Alone', 'As_Alone', 'NH_Alone', 'SO_Alone', \n",
    "                  'Two_More', 'Not_Hisp', 'Age_Over75'], \n",
    "            inplace=True)"
   ]
  },
  {
   "cell_type": "code",
   "execution_count": null,
   "metadata": {},
   "outputs": [],
   "source": [
    "geo['Staf_Bed_Perc'] = geo.Beds_Staff / geo.Beds_Licen\n",
    "geo['Aged_Perc'] = geo.AgedPop / geo.POP_ESTIMA\n",
    "geo['Pov_Perc'] = geo.POVALL_201 / geo.POP_ESTIMA\n",
    "geo['Aged_Per_ICU'] = geo.AgedPop / geo.Beds_ICU"
   ]
  },
  {
   "cell_type": "code",
   "execution_count": null,
   "metadata": {},
   "outputs": [],
   "source": [
    "geo.drop(columns=['Recovered', 'Active'], inplace=True)\n",
    "geo.drop(columns=['EM_notes'], inplace=True)\n",
    "geo.EM_date = geo.EM_date.str.extract(r'((\\d+)\\/(\\d{2})\\/(\\d{4}))')\n",
    "geo.EM_type = geo.EM_type.replace({'Govt Ordered Community Quarantine': 'CQ', 'Govt Directed Social Distancing': 'SD'})"
   ]
  },
  {
   "cell_type": "code",
   "execution_count": 59,
   "metadata": {},
   "outputs": [
    {
     "data": {
      "text/plain": [
       "(3142, 45)"
      ]
     },
     "execution_count": 59,
     "metadata": {},
     "output_type": "execute_result"
    }
   ],
   "source": [
    "geo_df.shape"
   ]
  },
  {
   "cell_type": "code",
   "execution_count": 60,
   "metadata": {},
   "outputs": [],
   "source": [
    "merge1 = geo_df.merge(mask_ind_means, how = 'left', on = 'FIPS')\n",
    "non_impute = merge1.merge(merge_elec, on = 'county',how='left', sort=True)"
   ]
  },
  {
   "cell_type": "code",
   "execution_count": 61,
   "metadata": {},
   "outputs": [],
   "source": [
    "merge1['FIPS'] = merge1.FIPS.astype('int64')\n",
    "\n",
    "impute_df = merge1.drop(['Inpat_Occ', 'ICU_Occ', 'ST_Abbr', 'EM_type', 'EM_date', 'EM_notes', 'geometry'], axis=1)"
   ]
  },
  {
   "cell_type": "code",
   "execution_count": 62,
   "metadata": {},
   "outputs": [],
   "source": [
    "knn_imputer = KNNImputer(n_neighbors=6)"
   ]
  },
  {
   "cell_type": "code",
   "execution_count": 63,
   "metadata": {},
   "outputs": [],
   "source": [
    "imputed = knn_imputer.fit_transform(impute_df.drop(['county'], axis=1))"
   ]
  },
  {
   "cell_type": "code",
   "execution_count": 64,
   "metadata": {},
   "outputs": [],
   "source": [
    "mask_imputed = pd.DataFrame(imputed, columns = impute_df.drop(['county'], axis=1).columns)['ind_mask']"
   ]
  },
  {
   "cell_type": "code",
   "execution_count": 65,
   "metadata": {},
   "outputs": [],
   "source": [
    "merge1['ind_mask'] = mask_imputed"
   ]
  },
  {
   "cell_type": "code",
   "execution_count": 66,
   "metadata": {},
   "outputs": [
    {
     "data": {
      "text/plain": [
       "94"
      ]
     },
     "execution_count": 66,
     "metadata": {},
     "output_type": "execute_result"
    }
   ],
   "source": [
    "elec_geo_df = merge1.merge(merge_elec, on = 'county',how='left', sort=True)\n",
    "# elec_geo_df = elec_geo_df.merge(mask_ind_means, how = 'left', on = 'FIPS')\n",
    "elec_geo_df.percentage20_Joe_Biden.isna().sum()"
   ]
  },
  {
   "cell_type": "code",
   "execution_count": 29,
   "metadata": {},
   "outputs": [
    {
     "name": "stdout",
     "output_type": "stream",
     "text": [
      "<class 'geopandas.geodataframe.GeoDataFrame'>\n",
      "Int64Index: 3142 entries, 0 to 3141\n",
      "Data columns (total 48 columns):\n",
      " #   Column                  Non-Null Count  Dtype   \n",
      "---  ------                  --------------  -----   \n",
      " 0   ST_Abbr                 3142 non-null   object  \n",
      " 1   FIPS                    3142 non-null   int64   \n",
      " 2   FatalityRa              3142 non-null   float64 \n",
      " 3   Confirmedb              3142 non-null   float64 \n",
      " 4   DeathsbyPo              3142 non-null   float64 \n",
      " 5   Unemployme              3142 non-null   float64 \n",
      " 6   EM_type                 3142 non-null   object  \n",
      " 7   EM_date                 3142 non-null   object  \n",
      " 8   EM_notes                3142 non-null   object  \n",
      " 9   Confirmed               3142 non-null   int64   \n",
      " 10  Deaths                  3142 non-null   int64   \n",
      " 11  Beds_Licen              3142 non-null   int64   \n",
      " 12  Beds_Staff              3142 non-null   int64   \n",
      " 13  Beds_ICU                3142 non-null   int64   \n",
      " 14  Ventilator              3142 non-null   int64   \n",
      " 15  POP_ESTIMA              3142 non-null   int64   \n",
      " 16  POVALL_201              3142 non-null   int64   \n",
      " 17  Unemployed              3142 non-null   int64   \n",
      " 18  Median_Hou              3142 non-null   int64   \n",
      " 19  Recovered               3142 non-null   int64   \n",
      " 20  Active                  3142 non-null   int64   \n",
      " 21  AgedPop                 3142 non-null   int64   \n",
      " 22  NewCases                3142 non-null   int64   \n",
      " 23  NewDeaths               3142 non-null   int64   \n",
      " 24  Wh_Alone                3142 non-null   int64   \n",
      " 25  Bk_Alone                3142 non-null   int64   \n",
      " 26  AI_Alone                3142 non-null   int64   \n",
      " 27  As_Alone                3142 non-null   int64   \n",
      " 28  NH_Alone                3142 non-null   int64   \n",
      " 29  SO_Alone                3142 non-null   int64   \n",
      " 30  Two_More                3142 non-null   int64   \n",
      " 31  Not_Hisp                3142 non-null   int64   \n",
      " 32  Age_Less15              3142 non-null   int64   \n",
      " 33  Age_15_24               3142 non-null   int64   \n",
      " 34  Age_25_34               3142 non-null   int64   \n",
      " 35  Age_Over75              3142 non-null   int64   \n",
      " 36  Age_35_64               3142 non-null   int64   \n",
      " 37  Age_65_74               3142 non-null   int64   \n",
      " 38  NewCasebyP              3142 non-null   float64 \n",
      " 39  Inpat_Occ               2423 non-null   float64 \n",
      " 40  ICU_Occ                 1552 non-null   float64 \n",
      " 41  Shape__Area             3142 non-null   float64 \n",
      " 42  Shape__Length           3142 non-null   float64 \n",
      " 43  geometry                3142 non-null   geometry\n",
      " 44  county                  3142 non-null   object  \n",
      " 45  ind_mask                3142 non-null   float64 \n",
      " 46  total_votes20           3049 non-null   float64 \n",
      " 47  percentage20_Joe_Biden  3048 non-null   float64 \n",
      "dtypes: float64(12), geometry(1), int64(30), object(5)\n",
      "memory usage: 1.2+ MB\n"
     ]
    }
   ],
   "source": [
    "elec_geo_df.info()"
   ]
  },
  {
   "cell_type": "code",
   "execution_count": 68,
   "metadata": {},
   "outputs": [
    {
     "data": {
      "text/plain": [
       "<matplotlib.axes._subplots.AxesSubplot at 0x7f848e9f69b0>"
      ]
     },
     "execution_count": 68,
     "metadata": {},
     "output_type": "execute_result"
    },
    {
     "data": {
      "image/png": "[encoded data removed]",
      "text/plain": [
       "<Figure size 432x288 with 1 Axes>"
      ]
     },
     "metadata": {
      "needs_background": "light"
     },
     "output_type": "display_data"
    }
   ],
   "source": [
    "# sns.scatterplot(x=elec_geo_df['ind_mask'], y = elec_geo_df['percentage20_Joe_Biden'])\n",
    "sns.scatterplot(x=non_impute['ind_mask'], y = non_impute['percentage20_Joe_Biden'])"
   ]
  },
  {
   "cell_type": "code",
   "execution_count": null,
   "metadata": {},
   "outputs": [],
   "source": []
  },
  {
   "cell_type": "code",
   "execution_count": null,
   "metadata": {},
   "outputs": [],
   "source": [
    "elec_geo_df.to_file('data/elec.geojson', driver='GeoJSON')\n"
   ]
  }
 ],
 "metadata": {
  "kernelspec": {
   "display_name": "learn-env",
   "language": "python",
   "name": "learn-env"
  },
  "language_info": {
   "codemirror_mode": {
    "name": "ipython",
    "version": 3
   },
   "file_extension": ".py",
   "mimetype": "text/x-python",
   "name": "python",
   "nbconvert_exporter": "python",
   "pygments_lexer": "ipython3",
   "version": "3.6.9"
  },
  "toc": {
   "base_numbering": 1,
   "nav_menu": {},
   "number_sections": true,
   "sideBar": true,
   "skip_h1_title": false,
   "title_cell": "Table of Contents",
   "title_sidebar": "Contents",
   "toc_cell": false,
   "toc_position": {},
   "toc_section_display": true,
   "toc_window_display": false
  }
 },
 "nbformat": 4,
 "nbformat_minor": 4
}
