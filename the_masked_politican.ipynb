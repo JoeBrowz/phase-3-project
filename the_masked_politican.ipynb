{
 "cells": [
  {
   "cell_type": "markdown",
   "metadata": {},
   "source": [
    "# Import packages"
   ]
  },
  {
   "cell_type": "code",
   "execution_count": 467,
   "metadata": {},
   "outputs": [],
   "source": [
    "import requests\n",
    "import json\n",
    "import pandas as pd\n",
    "import numpy as np\n",
    "from io import StringIO\n",
    "import seaborn as sns\n",
    "import matplotlib.pyplot as plt\n",
    "from bs4 import BeautifulSoup as bs\n",
    "import pickle\n",
    "import geopandas as gpd\n",
    "\n",
    "\n",
    "from datetime import date, timedelta\n",
    "import covidcast\n",
    "\n",
    "from sklearn.linear_model import LogisticRegression\n",
    "from sklearn.pipeline import Pipeline \n",
    "from sklearn.impute import KNNImputer, SimpleImputer \n",
    "from sklearn.preprocessing import StandardScaler, label_binarize\n",
    "from sklearn.model_selection import train_test_split, GridSearchCV\n",
    "from sklearn.ensemble import RandomForestClassifier\n",
    "from sklearn.metrics import roc_curve, auc, accuracy_score, f1_score, confusion_matrix, roc_auc_score, plot_confusion_matrix\n",
    "from xgboost import XGBClassifier\n",
    "from imblearn.over_sampling import SMOTE\n",
    "\n",
    "\n",
    "pd.set_option('display.max_columns', 100)"
   ]
  },
  {
   "cell_type": "markdown",
   "metadata": {},
   "source": [
    "# Import Data"
   ]
  },
  {
   "cell_type": "code",
   "execution_count": 386,
   "metadata": {
    "scrolled": true
   },
   "outputs": [],
   "source": [
    "url = 'https://raw.githubusercontent.com/nytimes/covid-19-data/master/mask-use/mask-use-by-county.csv'\n",
    "s = requests.get(url).text\n",
    "nymask = pd.read_csv(StringIO(s))"
   ]
  },
  {
   "cell_type": "code",
   "execution_count": 387,
   "metadata": {},
   "outputs": [],
   "source": [
    "nymask.COUNTYFP = nymask.COUNTYFP.astype(str)\n",
    "nymask.COUNTYFP = np.where(nymask['COUNTYFP'].str.len() == 4, '0' + nymask.COUNTYFP, nymask.COUNTYFP)\n",
    "nymask.COUNTYFP = nymask.COUNTYFP.astype(int)\n",
    "nymask.columns = ['FIPS', 'NEVER', 'RARELY', 'SOMETIMES', 'FREQUENTLY', 'ALWAYS']"
   ]
  },
  {
   "cell_type": "code",
   "execution_count": 388,
   "metadata": {},
   "outputs": [],
   "source": [
    "# create variable to hold date object for two days ago\n",
    "two_days_ago = date.today() - timedelta(days=2)"
   ]
  },
  {
   "cell_type": "code",
   "execution_count": 389,
   "metadata": {},
   "outputs": [],
   "source": [
    "# get the most recent survey data\n",
    "mask_ind = covidcast.signal(\"fb-survey\", \"smoothed_wearing_mask\",\n",
    "                            date(2020, 10, 1), two_days_ago,\n",
    "                            \"county\")\n",
    "mask_oth = covidcast.signal('fb-survey', 'smoothed_others_masked', \n",
    "                            date(2020, 11, 24),two_days_ago, \n",
    "                            \"county\")"
   ]
  },
  {
   "cell_type": "code",
   "execution_count": 390,
   "metadata": {},
   "outputs": [],
   "source": [
    "# remove data that isn't at the county level\n",
    "mask_fip = mask_ind.loc[~mask_ind.geo_value.str.endswith('000')]\n",
    "mask_oth = mask_oth.loc[~mask_oth.geo_value.str.endswith('000')]"
   ]
  },
  {
   "cell_type": "code",
   "execution_count": 391,
   "metadata": {},
   "outputs": [
    {
     "name": "stdout",
     "output_type": "stream",
     "text": [
      "(726,)\n",
      "(677,)\n"
     ]
    },
    {
     "data": {
      "text/plain": [
       "(655,)"
      ]
     },
     "execution_count": 391,
     "metadata": {},
     "output_type": "execute_result"
    }
   ],
   "source": [
    "# check number of counties represented \n",
    "print(mask_ind.geo_value.value_counts().shape)\n",
    "print(mask_fip.geo_value.value_counts().shape)\n",
    "mask_oth.geo_value.value_counts().shape"
   ]
  },
  {
   "cell_type": "code",
   "execution_count": 392,
   "metadata": {},
   "outputs": [],
   "source": [
    "# pare down datasets to just columns of interest\n",
    "mask_ind_means = pd.DataFrame(mask_fip.groupby(['geo_value'])['value'].mean()).reset_index()\n",
    "mask_ind_means.columns = ['FIPS', 'ind_mask']\n",
    "mask_ind_means['FIPS'] = mask_ind_means['FIPS'].astype(int)\n",
    "# repeat for other survey\n",
    "mask_oth_means = pd.DataFrame(mask_oth.groupby(['geo_value'])['value'].mean()).reset_index()\n",
    "mask_oth_means.columns = ['FIPS', 'oth_mask']\n",
    "mask_oth_means['FIPS'] = mask_oth_means['FIPS'].astype(int)"
   ]
  },
  {
   "cell_type": "code",
   "execution_count": 393,
   "metadata": {},
   "outputs": [],
   "source": [
    "mask_means = mask_ind_means.merge(mask_oth_means, on = 'FIPS', how = 'outer')\n",
    "mask_w_nyt = mask_means.merge(nymask, on = 'FIPS', how = 'outer')"
   ]
  },
  {
   "cell_type": "code",
   "execution_count": 394,
   "metadata": {},
   "outputs": [],
   "source": [
    "election = pd.read_csv('data/county_statistics.csv', index_col=\"Unnamed: 0\")"
   ]
  },
  {
   "cell_type": "code",
   "execution_count": 395,
   "metadata": {},
   "outputs": [],
   "source": [
    "election = election[election.county != 'Unassigned']\n",
    "election['county'] = election['county'] + ', ' + election['state']\n",
    "# election.drop(['state'], axis=1, inplace=True)"
   ]
  },
  {
   "cell_type": "code",
   "execution_count": 396,
   "metadata": {},
   "outputs": [],
   "source": [
    "to_keep = ['county', 'total_votes16', 'total_votes20' , 'percentage20_Joe_Biden']\n",
    "election = election.dropna(subset=['votes20_Joe_Biden'])"
   ]
  },
  {
   "cell_type": "code",
   "execution_count": 397,
   "metadata": {},
   "outputs": [],
   "source": [
    "merge_elec = election[to_keep]"
   ]
  },
  {
   "cell_type": "code",
   "execution_count": 398,
   "metadata": {},
   "outputs": [
    {
     "name": "stdout",
     "output_type": "stream",
     "text": [
      "(4633, 4)\n"
     ]
    }
   ],
   "source": [
    "print(merge_elec.shape)\n",
    "# election.columns"
   ]
  },
  {
   "cell_type": "code",
   "execution_count": 399,
   "metadata": {},
   "outputs": [],
   "source": [
    "rural_urban = pd.read_excel('data/ru_code.xls')\n",
    "fip_rur = rural_urban[['FIPS', 'RUCC_2013']]"
   ]
  },
  {
   "cell_type": "code",
   "execution_count": 400,
   "metadata": {},
   "outputs": [],
   "source": [
    "geo = gpd.read_file('https://opendata.arcgis.com/datasets/4cb598ae041348fb92270f102a6783cb_0.geojson')"
   ]
  },
  {
   "cell_type": "code",
   "execution_count": 401,
   "metadata": {},
   "outputs": [],
   "source": [
    "geo = geo[~geo.Countyname.str.contains(\"Out of\")]\n",
    "geo = geo[~geo.Countyname.str.contains(\"Unassigned\")]\n",
    "geo = geo[~geo.ST_Name.str.contains(\"Puerto Rico\")]\n",
    "geo.drop(geo.tail(7).index, inplace=True)\n",
    "geo['FIPS'] = geo.FIPS.astype('int64')"
   ]
  },
  {
   "cell_type": "code",
   "execution_count": 402,
   "metadata": {},
   "outputs": [],
   "source": [
    "# prelim feature engineering\n",
    "geo['Staf_Bed_Perc'] = geo['Beds_Staff'] / geo['Beds_Licen']\n",
    "geo['Aged_Perc'] = geo.AgedPop / geo.POP_ESTIMA\n",
    "geo['Pov_Perc'] = geo.POVALL_201 / geo.POP_ESTIMA\n",
    "geo['beds_per_capita'] = geo.Beds_ICU / geo.POP_ESTIMA\n",
    "geo['pop_density'] = geo['TotalPop'] / geo['Shape__Area']\n",
    "geo['county'] = geo['Countyname'] + ', ' + geo['ST_Abbr']\n",
    "# drop unneeded columns\n",
    "geo.drop(columns=['Day_1', 'Day_2', 'Day_3', 'Day_4', 'Day_5', \n",
    "                  'Day_6', 'Day_7', 'Day_8', 'Day_9', 'Day_10', \n",
    "                  'Day_11', 'Day_12', 'Day_13', 'Day_14', \n",
    "                  'OBJECTID', 'ST_ID', 'PCTPOVALL_', 'Med_HH_Inc', \n",
    "                  'State_Fata', 'DateChecke', 'url', 'Thumbnail', \n",
    "                  'State_Conf', 'State_Deat', 'State_Reco', 'State_Test', \n",
    "                  'POP_ESTIMA', 'BlackPop', 'AmIndop', 'PacIslPop', \n",
    "                  'OtherPop', 'TwoMorPop', 'HispPop', 'NonHisp', \n",
    "                  'Agetotal', 'AsianPop', 'Countyname', 'ST_Name',\n",
    "                  'Confirmed', 'Deaths', 'Unemployed', 'Beds_Licen', \n",
    "                  'Beds_Staff', 'Ventilator', 'Unemployed', 'Beds_ICU', 'AgedPop',\n",
    "                  'Wh_Alone', 'Bk_Alone', 'AI_Alone', 'As_Alone', 'NH_Alone', 'SO_Alone', \n",
    "                  'Two_More', 'Not_Hisp', 'Age_Over75'], \n",
    "            inplace=True)"
   ]
  },
  {
   "cell_type": "code",
   "execution_count": 403,
   "metadata": {},
   "outputs": [],
   "source": [
    "geo.drop(columns=['Recovered', 'Active'], inplace=True)\n",
    "geo.drop(columns=['EM_notes'], inplace=True)\n",
    "geo.EM_date = geo.EM_date.str.extract(r'((\\d+)\\/(\\d{2})\\/(\\d{4}))')\n",
    "geo.EM_type = geo.EM_type.replace({'Govt Ordered Community Quarantine': 'CQ', 'Govt Directed Social Distancing': 'SD'})"
   ]
  },
  {
   "cell_type": "code",
   "execution_count": 404,
   "metadata": {},
   "outputs": [
    {
     "data": {
      "text/plain": [
       "(3234, 2)"
      ]
     },
     "execution_count": 404,
     "metadata": {},
     "output_type": "execute_result"
    }
   ],
   "source": [
    "fip_rur.shape"
   ]
  },
  {
   "cell_type": "code",
   "execution_count": 405,
   "metadata": {},
   "outputs": [],
   "source": [
    "geo = geo.merge(fip_rur, how = 'left', on = 'FIPS')"
   ]
  },
  {
   "cell_type": "code",
   "execution_count": 406,
   "metadata": {},
   "outputs": [],
   "source": [
    "merge1 = geo.merge(mask_w_nyt, how = 'left', on = 'FIPS')"
   ]
  },
  {
   "cell_type": "code",
   "execution_count": 407,
   "metadata": {
    "scrolled": true
   },
   "outputs": [
    {
     "name": "stdout",
     "output_type": "stream",
     "text": [
      "<class 'geopandas.geodataframe.GeoDataFrame'>\n",
      "Int64Index: 3142 entries, 0 to 3141\n",
      "Data columns (total 44 columns):\n",
      " #   Column           Non-Null Count  Dtype   \n",
      "---  ------           --------------  -----   \n",
      " 0   ST_Abbr          3142 non-null   object  \n",
      " 1   FIPS             3142 non-null   int64   \n",
      " 2   FatalityRa       3142 non-null   float64 \n",
      " 3   Confirmedb       3142 non-null   float64 \n",
      " 4   DeathsbyPo       3142 non-null   float64 \n",
      " 5   Unemployme       3142 non-null   float64 \n",
      " 6   EM_type          3142 non-null   object  \n",
      " 7   EM_date          2515 non-null   object  \n",
      " 8   Age_85           3142 non-null   int64   \n",
      " 9   Age_80_84        3142 non-null   int64   \n",
      " 10  Age_75_79        3142 non-null   int64   \n",
      " 11  Age_70_74        3142 non-null   int64   \n",
      " 12  Age_65_69        3142 non-null   int64   \n",
      " 13  POVALL_201       3142 non-null   int64   \n",
      " 14  Median_Hou       3142 non-null   int64   \n",
      " 15  NewCases         3142 non-null   int64   \n",
      " 16  NewDeaths        3142 non-null   int64   \n",
      " 17  TotalPop         3142 non-null   int64   \n",
      " 18  NonHispWhP       3142 non-null   int64   \n",
      " 19  Age_Less15       3142 non-null   int64   \n",
      " 20  Age_15_24        3142 non-null   int64   \n",
      " 21  Age_25_34        3142 non-null   int64   \n",
      " 22  Age_35_64        3142 non-null   int64   \n",
      " 23  Age_65_74        3142 non-null   int64   \n",
      " 24  NewCasebyP       3142 non-null   float64 \n",
      " 25  Inpat_Occ        2423 non-null   float64 \n",
      " 26  ICU_Occ          1552 non-null   float64 \n",
      " 27  Shape__Area      3142 non-null   float64 \n",
      " 28  Shape__Length    3142 non-null   float64 \n",
      " 29  geometry         3142 non-null   geometry\n",
      " 30  Staf_Bed_Perc    2477 non-null   float64 \n",
      " 31  Aged_Perc        3141 non-null   float64 \n",
      " 32  Pov_Perc         3141 non-null   float64 \n",
      " 33  beds_per_capita  3141 non-null   float64 \n",
      " 34  pop_density      3142 non-null   float64 \n",
      " 35  county           3142 non-null   object  \n",
      " 36  RUCC_2013        3140 non-null   float64 \n",
      " 37  ind_mask         677 non-null    float64 \n",
      " 38  oth_mask         655 non-null    float64 \n",
      " 39  NEVER            3142 non-null   float64 \n",
      " 40  RARELY           3142 non-null   float64 \n",
      " 41  SOMETIMES        3142 non-null   float64 \n",
      " 42  FREQUENTLY       3142 non-null   float64 \n",
      " 43  ALWAYS           3142 non-null   float64 \n",
      "dtypes: float64(22), geometry(1), int64(17), object(4)\n",
      "memory usage: 1.1+ MB\n"
     ]
    }
   ],
   "source": [
    "merge1.info()"
   ]
  },
  {
   "cell_type": "markdown",
   "metadata": {},
   "source": [
    "## Impute\n",
    "The following code block was an attempt to impute missing mask data for us to build a model for all counties. This proved ineffective and has been commented out."
   ]
  },
  {
   "cell_type": "code",
   "execution_count": 408,
   "metadata": {},
   "outputs": [],
   "source": [
    "# impute_df = merge1[['TotalPop', 'Median_Hou', 'RUCC_2013', 'ind_mask', 'oth_mask']]\n",
    "# impute_df['RUCC_2013'].astype(str)\n",
    "\n",
    "# scaler = StandardScaler()\n",
    "# impute_df = pd.DataFrame(scaler.fit_transform(impute_df), columns = impute_df.columns)\n",
    "\n",
    "# knn_imputer = KNNImputer(n_neighbors=4, weights = 'distance')\n",
    "\n",
    "# imputed = knn_imputer.fit_transform(impute_df)\n",
    "\n",
    "# mask_imputed = pd.DataFrame(imputed, columns = impute_df.columns)['ind_mask']\n",
    "\n",
    "# merge1['ind_mask'] = mask_imputed"
   ]
  },
  {
   "cell_type": "markdown",
   "metadata": {},
   "source": [
    "# Prepare merged datasets for modeling"
   ]
  },
  {
   "cell_type": "code",
   "execution_count": 409,
   "metadata": {},
   "outputs": [],
   "source": [
    "elec_geo_df = merge1.merge(merge_elec, on = 'county',how='left', sort=True)"
   ]
  },
  {
   "cell_type": "code",
   "execution_count": 410,
   "metadata": {
    "scrolled": true
   },
   "outputs": [
    {
     "name": "stdout",
     "output_type": "stream",
     "text": [
      "<class 'geopandas.geodataframe.GeoDataFrame'>\n",
      "Int64Index: 3142 entries, 0 to 3141\n",
      "Data columns (total 47 columns):\n",
      " #   Column                  Non-Null Count  Dtype   \n",
      "---  ------                  --------------  -----   \n",
      " 0   ST_Abbr                 3142 non-null   object  \n",
      " 1   FIPS                    3142 non-null   int64   \n",
      " 2   FatalityRa              3142 non-null   float64 \n",
      " 3   Confirmedb              3142 non-null   float64 \n",
      " 4   DeathsbyPo              3142 non-null   float64 \n",
      " 5   Unemployme              3142 non-null   float64 \n",
      " 6   EM_type                 3142 non-null   object  \n",
      " 7   EM_date                 2515 non-null   object  \n",
      " 8   Age_85                  3142 non-null   int64   \n",
      " 9   Age_80_84               3142 non-null   int64   \n",
      " 10  Age_75_79               3142 non-null   int64   \n",
      " 11  Age_70_74               3142 non-null   int64   \n",
      " 12  Age_65_69               3142 non-null   int64   \n",
      " 13  POVALL_201              3142 non-null   int64   \n",
      " 14  Median_Hou              3142 non-null   int64   \n",
      " 15  NewCases                3142 non-null   int64   \n",
      " 16  NewDeaths               3142 non-null   int64   \n",
      " 17  TotalPop                3142 non-null   int64   \n",
      " 18  NonHispWhP              3142 non-null   int64   \n",
      " 19  Age_Less15              3142 non-null   int64   \n",
      " 20  Age_15_24               3142 non-null   int64   \n",
      " 21  Age_25_34               3142 non-null   int64   \n",
      " 22  Age_35_64               3142 non-null   int64   \n",
      " 23  Age_65_74               3142 non-null   int64   \n",
      " 24  NewCasebyP              3142 non-null   float64 \n",
      " 25  Inpat_Occ               2423 non-null   float64 \n",
      " 26  ICU_Occ                 1552 non-null   float64 \n",
      " 27  Shape__Area             3142 non-null   float64 \n",
      " 28  Shape__Length           3142 non-null   float64 \n",
      " 29  geometry                3142 non-null   geometry\n",
      " 30  Staf_Bed_Perc           2477 non-null   float64 \n",
      " 31  Aged_Perc               3141 non-null   float64 \n",
      " 32  Pov_Perc                3141 non-null   float64 \n",
      " 33  beds_per_capita         3141 non-null   float64 \n",
      " 34  pop_density             3142 non-null   float64 \n",
      " 35  county                  3142 non-null   object  \n",
      " 36  RUCC_2013               3140 non-null   float64 \n",
      " 37  ind_mask                677 non-null    float64 \n",
      " 38  oth_mask                655 non-null    float64 \n",
      " 39  NEVER                   3142 non-null   float64 \n",
      " 40  RARELY                  3142 non-null   float64 \n",
      " 41  SOMETIMES               3142 non-null   float64 \n",
      " 42  FREQUENTLY              3142 non-null   float64 \n",
      " 43  ALWAYS                  3142 non-null   float64 \n",
      " 44  total_votes16           3047 non-null   float64 \n",
      " 45  total_votes20           3049 non-null   float64 \n",
      " 46  percentage20_Joe_Biden  3048 non-null   float64 \n",
      "dtypes: float64(25), geometry(1), int64(17), object(4)\n",
      "memory usage: 1.2+ MB\n"
     ]
    }
   ],
   "source": [
    "elec_geo_df.info()"
   ]
  },
  {
   "cell_type": "code",
   "execution_count": 411,
   "metadata": {},
   "outputs": [],
   "source": [
    "condition = [(elec_geo_df['percentage20_Joe_Biden']) <= .25, \n",
    "             (elec_geo_df['percentage20_Joe_Biden'] > .25) & (elec_geo_df['percentage20_Joe_Biden'] <= .50),\n",
    "             (elec_geo_df['percentage20_Joe_Biden'] > .50) & (elec_geo_df['percentage20_Joe_Biden'] <= .75),\n",
    "             (elec_geo_df['percentage20_Joe_Biden']) > .75]\n",
    "choices = [0,1,2,3]\n",
    "\n",
    "elec_geo_df['percentage20_Joe_Biden'] = np.select(condition, choices, elec_geo_df['percentage20_Joe_Biden'])"
   ]
  },
  {
   "cell_type": "code",
   "execution_count": 412,
   "metadata": {},
   "outputs": [
    {
     "data": {
      "text/plain": [
       "(3142, 47)"
      ]
     },
     "execution_count": 412,
     "metadata": {},
     "output_type": "execute_result"
    }
   ],
   "source": [
    "elec_geo_df.shape"
   ]
  },
  {
   "cell_type": "code",
   "execution_count": 413,
   "metadata": {},
   "outputs": [],
   "source": [
    "base_feat = ['TotalPop', 'total_votes16','Median_Hou', 'Unemployme','RUCC_2013', 'NonHispWhP',\n",
    "            'Age_Less15', 'Age_15_24', 'Age_25_34', 'Age_35_64', 'Age_65_74',\n",
    "             'Age_85', 'Age_80_84', 'Age_75_79', 'Age_70_74', 'Age_65_69']\n",
    "\n",
    "features = base_feat + ['ind_mask', 'oth_mask']"
   ]
  },
  {
   "cell_type": "code",
   "execution_count": 414,
   "metadata": {},
   "outputs": [
    {
     "data": {
      "text/plain": [
       "18"
      ]
     },
     "execution_count": 414,
     "metadata": {},
     "output_type": "execute_result"
    }
   ],
   "source": [
    "len(features)"
   ]
  },
  {
   "cell_type": "code",
   "execution_count": 415,
   "metadata": {},
   "outputs": [],
   "source": [
    "elec_geo_df.dropna(subset=features, inplace=True)"
   ]
  },
  {
   "cell_type": "code",
   "execution_count": 416,
   "metadata": {},
   "outputs": [
    {
     "data": {
      "text/plain": [
       "(627, 47)"
      ]
     },
     "execution_count": 416,
     "metadata": {},
     "output_type": "execute_result"
    }
   ],
   "source": [
    "elec_geo_df.shape"
   ]
  },
  {
   "cell_type": "markdown",
   "metadata": {},
   "source": [
    "# Modeling Process\n",
    "_Here we will check to see if including data on mask compliance gives us increased modeling performance_"
   ]
  },
  {
   "cell_type": "code",
   "execution_count": 496,
   "metadata": {},
   "outputs": [],
   "source": [
    "X_base = elec_geo_df[base_feat]\n",
    "X_mask = elec_geo_df[features]\n",
    "\n",
    "y = elec_geo_df['percentage20_Joe_Biden']"
   ]
  },
  {
   "cell_type": "code",
   "execution_count": 547,
   "metadata": {},
   "outputs": [],
   "source": []
  },
  {
   "cell_type": "code",
   "execution_count": 422,
   "metadata": {},
   "outputs": [],
   "source": [
    "# train/test split data for baseline dataset and the dataset with mask features \n",
    "X_train_base, X_test_base, y_train_base, y_test_base = train_test_split(X_base, y, random_state = 9)\n",
    "# with mask data\n",
    "X_train_mask, X_test_mask, y_train_mask, y_test_mask = train_test_split(X_mask, y, random_state = 9)"
   ]
  },
  {
   "cell_type": "code",
   "execution_count": 469,
   "metadata": {},
   "outputs": [],
   "source": [
    "# use oversampling to help with class imablance for training data\n",
    "smote_base = SMOTE()\n",
    "X_train_base, y_train_base = smote_base.fit_sample(X_train_base, y_train_base)\n",
    "# oversample mask data\n",
    "smote_mask = SMOTE()\n",
    "X_train_mask, y_train_mask = smote_mask.fit_sample(X_train_mask, y_train_mask)"
   ]
  },
  {
   "cell_type": "code",
   "execution_count": null,
   "metadata": {},
   "outputs": [],
   "source": [
    "# define function to evaluate the models\n",
    "def get_scores(model, X, y, name):\n",
    "    #get predictions\n",
    "    y_pred = model.predict(X)\n",
    "   \n",
    "    # ROC/AUC for multi-class \n",
    "    y_bin = label_binarize(y, classes = [0,1,2,3])\n",
    "    plot_confusion_matrix(model,X, y)\n",
    "    plt.title(name)\n",
    "    plt.show()\n",
    "    \n",
    "    f1 = f1_score(y, y_pred, average='weighted')\n",
    "    acc = accuracy_score(y, y_pred)\n",
    "    roc = roc_auc_score(y_bin, model.predict_proba(X), multi_class='ovr', average='weighted')\n",
    "    return print(f'Accuracy Score: {round(acc,3)} \\n F1 Score: {round(f1, 3)} \\n ROC AUC: {round(roc,3)}')"
   ]
  },
  {
   "cell_type": "markdown",
   "metadata": {},
   "source": [
    "## Random Forest Classifier"
   ]
  },
  {
   "cell_type": "code",
   "execution_count": 471,
   "metadata": {},
   "outputs": [],
   "source": [
    "# prepare gridsearch parameter grid\n",
    "grid = [{'RF__max_depth': [4,5,6],\n",
    "        'RF__min_samples_split': [2,5,10],\n",
    "        'RF__criterion': ['entropy', 'gini'],\n",
    "        'RF__min_samples_leaf': [1,3,5]}]"
   ]
  },
  {
   "cell_type": "code",
   "execution_count": 472,
   "metadata": {},
   "outputs": [],
   "source": [
    "# instantiate and fit gridsearch for baseline data\n",
    "gridsearch_base = GridSearchCV(estimator = pipeline_base, param_grid=grid, scoring='accuracy', cv = 5)\n",
    "gridsearch_base.fit(X_train_base, y_train_base)"
   ]
  },
  {
   "cell_type": "code",
   "execution_count": 548,
   "metadata": {},
   "outputs": [
    {
     "data": {
      "image/png": "[encoded data removed]",
      "text/plain": [
       "<Figure size 432x288 with 2 Axes>"
      ]
     },
     "metadata": {
      "needs_background": "light"
     },
     "output_type": "display_data"
    },
    {
     "name": "stdout",
     "output_type": "stream",
     "text": [
      "Accuracy Score: 0.554 \n",
      " F1 Score: 0.602 \n",
      " ROC AUC: 0.756\n"
     ]
    }
   ],
   "source": [
    "# check performance\n",
    "get_scores(gridsearch_base, X_test_base, y_test_base, 'Random Forest Baseline')"
   ]
  },
  {
   "cell_type": "markdown",
   "metadata": {},
   "source": [
    "### Random Forest with Mask Features"
   ]
  },
  {
   "cell_type": "code",
   "execution_count": 475,
   "metadata": {},
   "outputs": [],
   "source": [
    "# Instantiate and gridsearch model for masked data\n",
    "gridsearch_mask = GridSearchCV(estimator = pipeline_mask, param_grid=grid, scoring='accuracy', cv = 5)\n",
    "gridsearch_mask.fit(X_train_mask, y_train_mask)"
   ]
  },
  {
   "cell_type": "code",
   "execution_count": 549,
   "metadata": {},
   "outputs": [
    {
     "data": {
      "image/png": "[encoded data removed]",
      "text/plain": [
       "<Figure size 432x288 with 2 Axes>"
      ]
     },
     "metadata": {
      "needs_background": "light"
     },
     "output_type": "display_data"
    },
    {
     "name": "stdout",
     "output_type": "stream",
     "text": [
      "Accuracy Score: 0.694 \n",
      " F1 Score: 0.724 \n",
      " ROC AUC: 0.851\n"
     ]
    }
   ],
   "source": [
    "#check performance\n",
    "get_scores(gridsearch_mask, X_test_mask, y_test_mask, 'Random Forest w/ Mask')"
   ]
  },
  {
   "cell_type": "markdown",
   "metadata": {},
   "source": [
    "#### _Data with Mask features resulted in about a 10% increase in performance_"
   ]
  },
  {
   "cell_type": "markdown",
   "metadata": {},
   "source": [
    "## XGBoost Classifier"
   ]
  },
  {
   "cell_type": "code",
   "execution_count": 478,
   "metadata": {},
   "outputs": [],
   "source": [
    "# instantiate pipelines\n",
    "xg_pipe_base = Pipeline([('ss', StandardScaler()), ('XG', XGBClassifier(random_state=46))])\n",
    "xg_pipe_mask = Pipeline([('ss', StandardScaler()), ('XG', XGBClassifier(random_state=46))])"
   ]
  },
  {
   "cell_type": "code",
   "execution_count": 479,
   "metadata": {},
   "outputs": [],
   "source": [
    "# prepare gridsearch parameter grid\n",
    "param_grid = {\n",
    "    'XG__learning_rate': [0.05, 0.1, 0.2],\n",
    "    'XG__max_depth': [4, 5, 6, 10],\n",
    "    'XG__min_child_weight': [1, 2, 5,7],\n",
    "    'XG__subsample': [0.5, 0.7],\n",
    "    'XG__n_estimators': [100],\n",
    "}"
   ]
  },
  {
   "cell_type": "code",
   "execution_count": 480,
   "metadata": {},
   "outputs": [],
   "source": [
    "# instantiate and fit gridsearch for baseline data\n",
    "grid_xg_base = GridSearchCV(estimator = xg_pipe_base, param_grid=param_grid, scoring = 'accuracy', cv= 3)\n",
    "grid_xg_base.fit(X_train_base, y_train_base)"
   ]
  },
  {
   "cell_type": "code",
   "execution_count": 551,
   "metadata": {},
   "outputs": [
    {
     "data": {
      "image/png": "[encoded data removed]",
      "text/plain": [
       "<Figure size 432x288 with 2 Axes>"
      ]
     },
     "metadata": {
      "needs_background": "light"
     },
     "output_type": "display_data"
    },
    {
     "name": "stdout",
     "output_type": "stream",
     "text": [
      "Accuracy Score: 0.682 \n",
      " F1 Score: 0.701 \n",
      " ROC AUC: 0.806\n"
     ]
    }
   ],
   "source": [
    "# check performance\n",
    "get_scores(grid_xg_base, X_test_base, y_test_base, 'XGBoost Baseline')"
   ]
  },
  {
   "cell_type": "markdown",
   "metadata": {},
   "source": [
    "### XGBoost with Mask Features"
   ]
  },
  {
   "cell_type": "code",
   "execution_count": 483,
   "metadata": {},
   "outputs": [],
   "source": [
    "# instantiate and fit gridsearch for mask data\n",
    "grid_xg_mask = GridSearchCV(estimator = xg_pipe_mask, param_grid=param_grid, scoring = 'accuracy', cv= 3)\n",
    "grid_xg_mask.fit(X_train_mask, y_train_mask)"
   ]
  },
  {
   "cell_type": "code",
   "execution_count": 552,
   "metadata": {},
   "outputs": [
    {
     "data": {
      "image/png": "[encoded data removed]",
      "text/plain": [
       "<Figure size 432x288 with 2 Axes>"
      ]
     },
     "metadata": {
      "needs_background": "light"
     },
     "output_type": "display_data"
    },
    {
     "name": "stdout",
     "output_type": "stream",
     "text": [
      "Accuracy Score: 0.758 \n",
      " F1 Score: 0.772 \n",
      " ROC AUC: 0.891\n"
     ]
    }
   ],
   "source": [
    "# check performance\n",
    "get_scores(grid_xg_mask, X_test_mask, y_test_mask, 'XGBoost w/ Mask')"
   ]
  },
  {
   "cell_type": "markdown",
   "metadata": {},
   "source": [
    "#### _Masked features had a difference of more than 7% for all three indicators_"
   ]
  },
  {
   "cell_type": "markdown",
   "metadata": {},
   "source": [
    "## Logistic Regression Classifier"
   ]
  },
  {
   "cell_type": "code",
   "execution_count": 484,
   "metadata": {},
   "outputs": [
    {
     "data": {
      "text/plain": [
       "0.7579617834394905"
      ]
     },
     "execution_count": 484,
     "metadata": {},
     "output_type": "execute_result"
    }
   ],
   "source": [
    "\n",
    "grid_xg_mask.score(X_test_mask, y_test_mask)"
   ]
  },
  {
   "cell_type": "code",
   "execution_count": 553,
   "metadata": {},
   "outputs": [],
   "source": [
    "# instantiate pipelines\n",
    "lr_pipe_base = Pipeline([('ss', StandardScaler()), ('LR', LogisticRegression(random_state=46, solver = 'liblinear', C= 1e12))])\n",
    "lr_pipe_mask = Pipeline([('ss', StandardScaler()), ('LR', LogisticRegression(random_state=46, solver = 'liblinear', C= 1e12))])"
   ]
  },
  {
   "cell_type": "code",
   "execution_count": 557,
   "metadata": {},
   "outputs": [],
   "source": [
    "# fit baseline data to model\n",
    "lr_pipe_base.fit(X_train_base, y_train_base);"
   ]
  },
  {
   "cell_type": "code",
   "execution_count": 558,
   "metadata": {},
   "outputs": [
    {
     "data": {
      "image/png": "[encoded data removed]",
      "text/plain": [
       "<Figure size 432x288 with 2 Axes>"
      ]
     },
     "metadata": {
      "needs_background": "light"
     },
     "output_type": "display_data"
    },
    {
     "name": "stdout",
     "output_type": "stream",
     "text": [
      "Accuracy Score: 0.516 \n",
      " F1 Score: 0.577 \n",
      " ROC AUC: 0.756\n"
     ]
    }
   ],
   "source": [
    "get_scores(lr_pipe_base, X_test_base, y_test_base, 'LogReg Baseline')"
   ]
  },
  {
   "cell_type": "markdown",
   "metadata": {},
   "source": [
    "### Logistic Regression with mask features"
   ]
  },
  {
   "cell_type": "code",
   "execution_count": 560,
   "metadata": {},
   "outputs": [],
   "source": [
    "# fit model\n",
    "lr_pipe_mask.fit(X_train_mask, y_train_mask);"
   ]
  },
  {
   "cell_type": "code",
   "execution_count": 561,
   "metadata": {},
   "outputs": [
    {
     "data": {
      "image/png": "[encoded data removed]",
      "text/plain": [
       "<Figure size 432x288 with 2 Axes>"
      ]
     },
     "metadata": {
      "needs_background": "light"
     },
     "output_type": "display_data"
    },
    {
     "name": "stdout",
     "output_type": "stream",
     "text": [
      "Accuracy Score: 0.694 \n",
      " F1 Score: 0.729 \n",
      " ROC AUC: 0.824\n"
     ]
    }
   ],
   "source": [
    "# check performance\n",
    "get_scores(lr_pipe_mask, X_test_mask, y_test_mask, 'LogReg w/ Mask')"
   ]
  },
  {
   "cell_type": "markdown",
   "metadata": {},
   "source": [
    "#### _score was improved by more than 7% on all indicators_"
   ]
  }
 ],
 "metadata": {
  "kernelspec": {
   "display_name": "learn-env",
   "language": "python",
   "name": "learn-env"
  },
  "language_info": {
   "codemirror_mode": {
    "name": "ipython",
    "version": 3
   },
   "file_extension": ".py",
   "mimetype": "text/x-python",
   "name": "python",
   "nbconvert_exporter": "python",
   "pygments_lexer": "ipython3",
   "version": "3.6.9"
  },
  "toc": {
   "base_numbering": 1,
   "nav_menu": {},
   "number_sections": false,
   "sideBar": true,
   "skip_h1_title": false,
   "title_cell": "Table of Contents",
   "title_sidebar": "Contents",
   "toc_cell": false,
   "toc_position": {},
   "toc_section_display": true,
   "toc_window_display": true
  }
 },
 "nbformat": 4,
 "nbformat_minor": 4
}
