{
 "cells": [
  {
   "cell_type": "markdown",
   "metadata": {},
   "source": [
    "# Import packages"
   ]
  },
  {
   "cell_type": "code",
   "execution_count": 24,
   "metadata": {},
   "outputs": [],
   "source": [
    "import requests\n",
    "import json\n",
    "import pandas as pd\n",
    "import numpy as np\n",
    "from io import StringIO\n",
    "from bs4 import BeautifulSoup as bs\n",
    "\n",
    "from datetime import date\n",
    "import covidcast\n",
    "\n",
    "import geopandas as gpd\n",
    "\n",
    "pd.set_option('display.max_columns', 100)"
   ]
  },
  {
   "cell_type": "code",
   "execution_count": 25,
   "metadata": {
    "scrolled": true
   },
   "outputs": [],
   "source": [
    "url = 'https://raw.githubusercontent.com/nytimes/covid-19-data/master/mask-use/mask-use-by-county.csv'\n",
    "s = requests.get(url).text\n",
    "nymask = pd.read_csv(StringIO(s))"
   ]
  },
  {
   "cell_type": "code",
   "execution_count": 26,
   "metadata": {},
   "outputs": [],
   "source": [
    "nymask.COUNTYFP = nymask.COUNTYFP.astype(str)\n",
    "nymask.COUNTYFP = np.where(nymask['COUNTYFP'].str.len() == 4, '0' + nymask.COUNTYFP, nymask.COUNTYFP) "
   ]
  },
  {
   "cell_type": "code",
   "execution_count": 27,
   "metadata": {},
   "outputs": [
    {
     "output_type": "stream",
     "name": "stdout",
     "text": [
      "(897801, 6)\nIndex(['date', 'county', 'state', 'fips', 'cases', 'deaths'], dtype='object')\n"
     ]
    }
   ],
   "source": [
    "url = 'https://raw.githubusercontent.com/nytimes/covid-19-data/master/us-counties.csv'\n",
    "s = requests.get(url).text\n",
    "df = pd.read_csv(StringIO(s))\n",
    "print(df.shape)\n",
    "print(df.columns)\n",
    "# df6.head()"
   ]
  },
  {
   "cell_type": "code",
   "execution_count": 28,
   "metadata": {},
   "outputs": [],
   "source": [
    "mask_ind = covidcast.signal(\"fb-survey\", \"smoothed_wearing_mask\",\n",
    "                        date(2020, 10, 1), date(2020, 11, 4),\n",
    "                        \"county\")"
   ]
  },
  {
   "cell_type": "code",
   "execution_count": 29,
   "metadata": {},
   "outputs": [],
   "source": [
    "mask_fip = mask_ind.loc[~mask_ind.geo_value.str.endswith('000')]"
   ]
  },
  {
   "cell_type": "code",
   "execution_count": 30,
   "metadata": {},
   "outputs": [
    {
     "output_type": "stream",
     "name": "stdout",
     "text": [
      "(640,)\n"
     ]
    },
    {
     "output_type": "execute_result",
     "data": {
      "text/plain": [
       "(592,)"
      ]
     },
     "metadata": {},
     "execution_count": 30
    }
   ],
   "source": [
    "print(mask_ind.geo_value.value_counts().shape)\n",
    "mask_fip.geo_value.value_counts().shape"
   ]
  },
  {
   "cell_type": "code",
   "execution_count": 31,
   "metadata": {},
   "outputs": [
    {
     "output_type": "execute_result",
     "data": {
      "text/plain": [
       "      FIPS   ind_mask\n",
       "0    01003  75.669396\n",
       "1    01069  84.805330\n",
       "2    01073  88.936083\n",
       "3    01089  89.685856\n",
       "4    01097  82.273652\n",
       "..     ...        ...\n",
       "587  55133  85.785520\n",
       "588  55139  88.268850\n",
       "589  55141  82.577264\n",
       "590  56021  72.517789\n",
       "591  56025  60.442127\n",
       "\n",
       "[592 rows x 2 columns]"
      ],
      "text/html": "<div>\n<style scoped>\n    .dataframe tbody tr th:only-of-type {\n        vertical-align: middle;\n    }\n\n    .dataframe tbody tr th {\n        vertical-align: top;\n    }\n\n    .dataframe thead th {\n        text-align: right;\n    }\n</style>\n<table border=\"1\" class=\"dataframe\">\n  <thead>\n    <tr style=\"text-align: right;\">\n      <th></th>\n      <th>FIPS</th>\n      <th>ind_mask</th>\n    </tr>\n  </thead>\n  <tbody>\n    <tr>\n      <th>0</th>\n      <td>01003</td>\n      <td>75.669396</td>\n    </tr>\n    <tr>\n      <th>1</th>\n      <td>01069</td>\n      <td>84.805330</td>\n    </tr>\n    <tr>\n      <th>2</th>\n      <td>01073</td>\n      <td>88.936083</td>\n    </tr>\n    <tr>\n      <th>3</th>\n      <td>01089</td>\n      <td>89.685856</td>\n    </tr>\n    <tr>\n      <th>4</th>\n      <td>01097</td>\n      <td>82.273652</td>\n    </tr>\n    <tr>\n      <th>...</th>\n      <td>...</td>\n      <td>...</td>\n    </tr>\n    <tr>\n      <th>587</th>\n      <td>55133</td>\n      <td>85.785520</td>\n    </tr>\n    <tr>\n      <th>588</th>\n      <td>55139</td>\n      <td>88.268850</td>\n    </tr>\n    <tr>\n      <th>589</th>\n      <td>55141</td>\n      <td>82.577264</td>\n    </tr>\n    <tr>\n      <th>590</th>\n      <td>56021</td>\n      <td>72.517789</td>\n    </tr>\n    <tr>\n      <th>591</th>\n      <td>56025</td>\n      <td>60.442127</td>\n    </tr>\n  </tbody>\n</table>\n<p>592 rows × 2 columns</p>\n</div>"
     },
     "metadata": {},
     "execution_count": 31
    }
   ],
   "source": [
    "mask_ind_means = pd.DataFrame(mask_fip.groupby(['geo_value'])['value'].mean()).reset_index()\n",
    "mask_ind_means.columns = ['FIPS', 'ind_mask']\n",
    "mask_ind_means"
   ]
  },
  {
   "cell_type": "code",
   "execution_count": 32,
   "metadata": {},
   "outputs": [],
   "source": [
    "election = pd.read_csv('data/county_statistics.csv', index_col=\"Unnamed: 0\")"
   ]
  },
  {
   "cell_type": "code",
   "execution_count": 33,
   "metadata": {},
   "outputs": [],
   "source": [
    "election = election[election.county != 'Unassigned']\n",
    "election['county'] = election['county'] + ', ' + election['state']\n",
    "# election.drop(['state'], axis=1, inplace=True)"
   ]
  },
  {
   "cell_type": "code",
   "execution_count": 34,
   "metadata": {},
   "outputs": [],
   "source": [
    "to_keep = ['county', 'total_votes20' , 'percentage20_Joe_Biden']\n",
    "election = election.dropna(subset=['votes20_Joe_Biden'])"
   ]
  },
  {
   "cell_type": "code",
   "execution_count": 35,
   "metadata": {},
   "outputs": [],
   "source": [
    "merge_elec = election[to_keep]"
   ]
  },
  {
   "cell_type": "code",
   "execution_count": 36,
   "metadata": {},
   "outputs": [
    {
     "output_type": "stream",
     "name": "stdout",
     "text": [
      "(4633, 3)\n"
     ]
    }
   ],
   "source": [
    "print(merge_elec.shape)\n",
    "# election.columns"
   ]
  },
  {
   "cell_type": "code",
   "execution_count": 39,
   "metadata": {},
   "outputs": [],
   "source": [
    "geo = gpd.read_file('https://opendata.arcgis.com/datasets/4cb598ae041348fb92270f102a6783cb_0.geojson')\n"
   ]
  },
  {
   "cell_type": "code",
   "execution_count": 45,
   "metadata": {},
   "outputs": [],
   "source": [
    "geo = geo[~geo.Countyname.str.contains(\"Out of\")]\n",
    "geo = geo[~geo.Countyname.str.contains(\"Unassigned\")]\n",
    "geo = geo[~geo.ST_Name.str.contains(\"Puerto Rico\")]\n",
    "geo.drop(geo.tail(7).index, inplace=True)\n",
    "geo['county'] = geo['Countyname'] + ', ' + geo['ST_Abbr']\n",
    "geo.drop(columns=['Day_1', 'Day_2', 'Day_3', 'Day_4', 'Day_5', \n",
    "                     'Day_6', 'Day_7', 'Day_8', 'Day_9', 'Day_10', \n",
    "                     'Day_11', 'Day_12', 'Day_13', 'Day_14', \n",
    "                     'OBJECTID', 'ST_ID', 'PCTPOVALL_', 'Med_HH_Inc', \n",
    "                     'State_Fata', 'DateChecke', 'url', 'Thumbnail', \n",
    "                     'State_Conf', 'State_Deat', 'State_Reco', 'State_Test', \n",
    "                     'TotalPop', 'NonHispWhP', 'BlackPop', 'AmIndop', 'PacIslPop', \n",
    "                     'OtherPop', 'TwoMorPop', 'HispPop', 'NonHisp', 'Age_85', \n",
    "                     'Age_80_84', 'Age_75_79', 'Age_70_74', 'Age_65_69', \n",
    "                     'Agetotal', 'AsianPop', 'Countyname', 'ST_Name'], \n",
    "            inplace=True)\n"
   ]
  },
  {
   "cell_type": "code",
   "execution_count": 41,
   "metadata": {},
   "outputs": [],
   "source": [
    "geo['Staf_Bed_Perc'] = geo.Beds_Staff / geo.Beds_Licen\n",
    "geo['Aged_Perc'] = geo.AgedPop / geo.POP_ESTIMA\n",
    "geo['Pov_Perc'] = geo.POVALL_201 / geo.POP_ESTIMA\n",
    "geo['Aged_Per_ICU'] = geo.AgedPop / geo.Beds_ICU\n",
    "geo.drop(columns=['Age_Less15', 'Age_15_24', 'Age_25_34', 'Age_35_64', 'Age_65_74', 'Confirmed', 'Deaths'], inplace=True)\n",
    "geo.drop(columns=['Unemployed', 'Beds_Licen', 'Beds_Staff', 'Ventilator', 'Unemployed', 'Beds_ICU', 'AgedPop'], inplace=True)\n",
    "geo.drop(columns=['Wh_Alone', 'Bk_Alone', 'AI_Alone', 'As_Alone', 'NH_Alone', 'SO_Alone', 'Two_More', 'Not_Hisp', 'Age_Over75'], inplace=True)"
   ]
  },
  {
   "cell_type": "code",
   "execution_count": 42,
   "metadata": {},
   "outputs": [],
   "source": [
    "geo.drop(columns=['Recovered', 'Active'], inplace=True)\n",
    "geo.drop(columns=['EM_notes'], inplace=True)\n",
    "geo.EM_date = geo.EM_date.str.extract(r'((\\d+)\\/(\\d{2})\\/(\\d{4}))')\n",
    "geo.EM_type = geo.EM_type.replace({'Govt Ordered Community Quarantine': 'CQ', 'Govt Directed Social Distancing': 'SD'})"
   ]
  },
  {
   "cell_type": "code",
   "execution_count": 43,
   "metadata": {},
   "outputs": [
    {
     "output_type": "execute_result",
     "data": {
      "text/plain": [
       "(3142, 70)"
      ]
     },
     "metadata": {},
     "execution_count": 43
    }
   ],
   "source": [
    "geo.shape"
   ]
  },
  {
   "cell_type": "code",
   "execution_count": 46,
   "metadata": {},
   "outputs": [
    {
     "output_type": "execute_result",
     "data": {
      "text/plain": [
       "Index(['ST_Abbr', 'FIPS', 'FatalityRa', 'Confirmedb', 'DeathsbyPo',\n",
       "       'Unemployme', 'EM_type', 'EM_date', 'Beds_ICU', 'POP_ESTIMA',\n",
       "       'POVALL_201', 'Median_Hou', 'AgedPop', 'NewCases', 'NewDeaths',\n",
       "       'NewCasebyP', 'Inpat_Occ', 'ICU_Occ', 'Shape__Area', 'Shape__Length',\n",
       "       'geometry', 'county', 'Staf_Bed_Perc', 'Aged_Perc', 'Pov_Perc',\n",
       "       'Aged_Per_ICU'],\n",
       "      dtype='object')"
      ]
     },
     "metadata": {},
     "execution_count": 46
    }
   ],
   "source": [
    "geo.columns"
   ]
  },
  {
   "cell_type": "code",
   "execution_count": 47,
   "metadata": {},
   "outputs": [
    {
     "output_type": "execute_result",
     "data": {
      "text/plain": [
       "94"
      ]
     },
     "metadata": {},
     "execution_count": 47
    }
   ],
   "source": [
    "elec_geo_df = geo.merge(merge_elec, on = 'county',how='left', sort=True)\n",
    "elec_geo_df = elec_geo_df.merge(mask_ind_means, how = 'left', on = 'FIPS')\n",
    "elec_geo_df.percentage20_Joe_Biden.isna().sum()"
   ]
  },
  {
   "cell_type": "code",
   "execution_count": 48,
   "metadata": {},
   "outputs": [
    {
     "output_type": "stream",
     "name": "stdout",
     "text": [
      "<class 'geopandas.geodataframe.GeoDataFrame'>\nInt64Index: 3135 entries, 0 to 3134\nData columns (total 29 columns):\n #   Column                  Non-Null Count  Dtype   \n---  ------                  --------------  -----   \n 0   ST_Abbr                 3135 non-null   object  \n 1   FIPS                    3135 non-null   object  \n 2   FatalityRa              3135 non-null   float64 \n 3   Confirmedb              3135 non-null   float64 \n 4   DeathsbyPo              3135 non-null   float64 \n 5   Unemployme              3135 non-null   float64 \n 6   EM_type                 3135 non-null   object  \n 7   EM_date                 2510 non-null   object  \n 8   Beds_ICU                3135 non-null   int64   \n 9   POP_ESTIMA              3135 non-null   int64   \n 10  POVALL_201              3135 non-null   int64   \n 11  Median_Hou              3135 non-null   int64   \n 12  AgedPop                 3135 non-null   int64   \n 13  NewCases                3135 non-null   int64   \n 14  NewDeaths               3135 non-null   int64   \n 15  NewCasebyP              3135 non-null   float64 \n 16  Inpat_Occ               2417 non-null   float64 \n 17  ICU_Occ                 1547 non-null   float64 \n 18  Shape__Area             3135 non-null   float64 \n 19  Shape__Length           3135 non-null   float64 \n 20  geometry                3135 non-null   geometry\n 21  county                  3135 non-null   object  \n 22  Staf_Bed_Perc           2471 non-null   float64 \n 23  Aged_Perc               3134 non-null   float64 \n 24  Pov_Perc                3134 non-null   float64 \n 25  Aged_Per_ICU            2474 non-null   float64 \n 26  total_votes20           3042 non-null   float64 \n 27  percentage20_Joe_Biden  3041 non-null   float64 \n 28  ind_mask                592 non-null    float64 \ndtypes: float64(16), geometry(1), int64(7), object(5)\nmemory usage: 734.8+ KB\n"
     ]
    }
   ],
   "source": [
    "elec_geo_df.info()"
   ]
  },
  {
   "cell_type": "code",
   "execution_count": 49,
   "metadata": {},
   "outputs": [],
   "source": [
    "elec_geo_df.to_file('data/elec.geojson', driver='GeoJSON')"
   ]
  },
  {
   "cell_type": "code",
   "execution_count": null,
   "metadata": {},
   "outputs": [],
   "source": []
  },
  {
   "cell_type": "code",
   "execution_count": null,
   "metadata": {},
   "outputs": [],
   "source": []
  }
 ],
 "metadata": {
  "kernelspec": {
   "display_name": "learn-env",
   "language": "python",
   "name": "learn-env"
  },
  "language_info": {
   "codemirror_mode": {
    "name": "ipython",
    "version": 3
   },
   "file_extension": ".py",
   "mimetype": "text/x-python",
   "name": "python",
   "nbconvert_exporter": "python",
   "pygments_lexer": "ipython3",
   "version": "3.9.1-final"
  },
  "toc": {
   "base_numbering": 1,
   "nav_menu": {},
   "number_sections": true,
   "sideBar": true,
   "skip_h1_title": false,
   "title_cell": "Table of Contents",
   "title_sidebar": "Contents",
   "toc_cell": false,
   "toc_position": {},
   "toc_section_display": true,
   "toc_window_display": false
  }
 },
 "nbformat": 4,
 "nbformat_minor": 4
}